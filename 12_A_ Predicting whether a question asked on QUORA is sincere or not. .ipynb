{
 "cells": [
  {
   "cell_type": "markdown",
   "metadata": {},
   "source": [
    "Problem Definition\n",
    "---\n",
    "I think one of the important things when you start a new machine learning project is Defining your problem. that means you should understand business problem.( Problem Formalization)\n",
    "\n",
    "> We will be predicting whether a question asked on Quora is sincere or not\n",
    "\n",
    "Source : https://www.kaggle.com/mjbahmani/a-data-science-framework-for-quora\n",
    "\n",
    "Data Source : https://www.kaggle.com/c/quora-insincere-questions-classification/data"
   ]
  },
  {
   "cell_type": "markdown",
   "metadata": {},
   "source": [
    "**About Quora**\n",
    "\n",
    "Quora is a platform that empowers people to learn from each other. On Quora, people can ask questions and connect with others who contribute unique insights and quality answers. A key challenge is to weed out insincere questions -- those founded upon false premises, or that intend to make a statement rather than look for helpful answers."
   ]
  },
  {
   "cell_type": "markdown",
   "metadata": {},
   "source": [
    "**Business View**\n",
    "\n",
    "An existential problem for any major website today is how to handle toxic and divisive content. Quora wants to tackle this problem head-on to keep their platform a place where users can feel safe sharing their knowledge with the world."
   ]
  },
  {
   "cell_type": "markdown",
   "metadata": {},
   "source": [
    "**What is a insincere question?**\n",
    "\n",
    "Is defined as a question intended to make a statement rather than look for helpful answers."
   ]
  },
  {
   "cell_type": "markdown",
   "metadata": {},
   "source": [
    "![Quora_moderation_warning](images/Quora_moderation_warning.png)"
   ]
  },
  {
   "cell_type": "markdown",
   "metadata": {},
   "source": [
    "**Feature Set**\n",
    "\n",
    "We use train.csv and test.csv as Input and we should upload a submission.csv as Output.\n",
    "\n",
    "The training set contains the following 3 features (for Supervised Learning)\n",
    "1. qid - unique question identifier\n",
    "2. question_text - Quora question text\n",
    "3. target - a question labeled \"insincere\" has a value of 1, otherwise 0"
   ]
  },
  {
   "cell_type": "markdown",
   "metadata": {},
   "source": [
    "**Coding a solutiuon for solving the above problem**"
   ]
  },
  {
   "cell_type": "code",
   "execution_count": 2,
   "metadata": {
    "collapsed": true
   },
   "outputs": [],
   "source": [
    "# all import statements\n",
    "from sklearn.model_selection import train_test_split\n",
    "from sklearn.metrics import classification_report\n",
    "from sklearn.metrics import confusion_matrix\n",
    "from sklearn.metrics import accuracy_score\n",
    "#from wordcloud import WordCloud as wc   # not needed\n",
    "from nltk.corpus import stopwords\n",
    "import matplotlib.pylab as pylab\n",
    "import matplotlib.pyplot as plt\n",
    "from pandas import get_dummies\n",
    "import matplotlib as mpl\n",
    "import seaborn as sns\n",
    "import pandas as pd\n",
    "import numpy as np\n",
    "import matplotlib\n",
    "import warnings\n",
    "import sklearn\n",
    "import string\n",
    "import scipy\n",
    "import numpy\n",
    "import nltk\n",
    "import json\n",
    "import sys\n",
    "import csv\n",
    "import os\n",
    "import random"
   ]
  },
  {
   "cell_type": "code",
   "execution_count": 7,
   "metadata": {
    "collapsed": false
   },
   "outputs": [
    {
     "name": "stdout",
     "output_type": "stream",
     "text": [
      "matplotlib: \n",
      "sklearn: 0.21.3\n",
      "scipy: 1.3.1\n",
      "seaborn: 0.9.0\n",
      "pandas: 0.25.1\n",
      "numpy: 1.17.2\n",
      "Python: 3.6.0 (v3.6.0:41df79263a11, Dec 23 2016, 08:06:12) [MSC v.1900 64 bit (AMD64)]\n"
     ]
    }
   ],
   "source": [
    "# printing versions of the important packages\n",
    "print('matplotlib: {}'.format(matplotlib.__version__))\n",
    "print('sklearn: {}'.format(sklearn.__version__))\n",
    "print('scipy: {}'.format(scipy.__version__))\n",
    "print('seaborn: {}'.format(sns.__version__))\n",
    "print('pandas: {}'.format(pd.__version__))\n",
    "print('numpy: {}'.format(np.__version__))\n",
    "print('Python: {}'.format(sys.version))"
   ]
  },
  {
   "cell_type": "code",
   "execution_count": 3,
   "metadata": {
    "collapsed": false
   },
   "outputs": [
    {
     "name": "stdout",
     "output_type": "stream",
     "text": [
      "3.1.1\n"
     ]
    }
   ],
   "source": [
    "print(matplotlib.__version__)"
   ]
  },
  {
   "cell_type": "markdown",
   "metadata": {},
   "source": [
    "We would first do EDA ( Exploratory Data Analysis ) over Quora Data set :\n",
    "--"
   ]
  },
  {
   "cell_type": "markdown",
   "metadata": {},
   "source": [
    "![Quora_EDA_steps](images/Quora_EDA_steps.png)"
   ]
  },
  {
   "cell_type": "code",
   "execution_count": 8,
   "metadata": {
    "collapsed": true
   },
   "outputs": [],
   "source": [
    "# I start Collection Data by reading training and testing datasets \n",
    "# into Pandas DataFrames.\n",
    "\n",
    "train_large = pd.read_csv('datasets/traindata.csv')\n",
    "test_large = pd.read_csv('datasets/testdata.csv')\n",
    "\n",
    "train = train_large[:4000]\n",
    "test = test_large[:400]"
   ]
  },
  {
   "cell_type": "code",
   "execution_count": 9,
   "metadata": {
    "collapsed": false
   },
   "outputs": [
    {
     "data": {
      "text/html": [
       "<div>\n",
       "<style scoped>\n",
       "    .dataframe tbody tr th:only-of-type {\n",
       "        vertical-align: middle;\n",
       "    }\n",
       "\n",
       "    .dataframe tbody tr th {\n",
       "        vertical-align: top;\n",
       "    }\n",
       "\n",
       "    .dataframe thead th {\n",
       "        text-align: right;\n",
       "    }\n",
       "</style>\n",
       "<table border=\"1\" class=\"dataframe\">\n",
       "  <thead>\n",
       "    <tr style=\"text-align: right;\">\n",
       "      <th></th>\n",
       "      <th>qid</th>\n",
       "      <th>question_text</th>\n",
       "      <th>target</th>\n",
       "    </tr>\n",
       "  </thead>\n",
       "  <tbody>\n",
       "    <tr>\n",
       "      <td>0</td>\n",
       "      <td>00002165364db923c7e6</td>\n",
       "      <td>How did Quebec nationalists see their province...</td>\n",
       "      <td>0</td>\n",
       "    </tr>\n",
       "    <tr>\n",
       "      <td>1</td>\n",
       "      <td>000032939017120e6e44</td>\n",
       "      <td>Do you have an adopted dog, how would you enco...</td>\n",
       "      <td>0</td>\n",
       "    </tr>\n",
       "    <tr>\n",
       "      <td>2</td>\n",
       "      <td>0000412ca6e4628ce2cf</td>\n",
       "      <td>Why does velocity affect time? Does velocity a...</td>\n",
       "      <td>0</td>\n",
       "    </tr>\n",
       "    <tr>\n",
       "      <td>3</td>\n",
       "      <td>000042bf85aa498cd78e</td>\n",
       "      <td>How did Otto von Guericke used the Magdeburg h...</td>\n",
       "      <td>0</td>\n",
       "    </tr>\n",
       "    <tr>\n",
       "      <td>4</td>\n",
       "      <td>0000455dfa3e01eae3af</td>\n",
       "      <td>Can I convert montra helicon D to a mountain b...</td>\n",
       "      <td>0</td>\n",
       "    </tr>\n",
       "  </tbody>\n",
       "</table>\n",
       "</div>"
      ],
      "text/plain": [
       "                    qid                                      question_text  \\\n",
       "0  00002165364db923c7e6  How did Quebec nationalists see their province...   \n",
       "1  000032939017120e6e44  Do you have an adopted dog, how would you enco...   \n",
       "2  0000412ca6e4628ce2cf  Why does velocity affect time? Does velocity a...   \n",
       "3  000042bf85aa498cd78e  How did Otto von Guericke used the Magdeburg h...   \n",
       "4  0000455dfa3e01eae3af  Can I convert montra helicon D to a mountain b...   \n",
       "\n",
       "   target  \n",
       "0       0  \n",
       "1       0  \n",
       "2       0  \n",
       "3       0  \n",
       "4       0  "
      ]
     },
     "execution_count": 9,
     "metadata": {},
     "output_type": "execute_result"
    }
   ],
   "source": [
    "# check top 5 records of training dataset\n",
    "train.head() "
   ]
  },
  {
   "cell_type": "code",
   "execution_count": 10,
   "metadata": {
    "collapsed": false
   },
   "outputs": [
    {
     "data": {
      "text/html": [
       "<div>\n",
       "<style scoped>\n",
       "    .dataframe tbody tr th:only-of-type {\n",
       "        vertical-align: middle;\n",
       "    }\n",
       "\n",
       "    .dataframe tbody tr th {\n",
       "        vertical-align: top;\n",
       "    }\n",
       "\n",
       "    .dataframe thead th {\n",
       "        text-align: right;\n",
       "    }\n",
       "</style>\n",
       "<table border=\"1\" class=\"dataframe\">\n",
       "  <thead>\n",
       "    <tr style=\"text-align: right;\">\n",
       "      <th></th>\n",
       "      <th>qid</th>\n",
       "      <th>question_text</th>\n",
       "    </tr>\n",
       "  </thead>\n",
       "  <tbody>\n",
       "    <tr>\n",
       "      <td>0</td>\n",
       "      <td>0000163e3ea7c7a74cd7</td>\n",
       "      <td>Why do so many women become so rude and arroga...</td>\n",
       "    </tr>\n",
       "    <tr>\n",
       "      <td>1</td>\n",
       "      <td>00002bd4fb5d505b9161</td>\n",
       "      <td>When should I apply for RV college of engineer...</td>\n",
       "    </tr>\n",
       "    <tr>\n",
       "      <td>2</td>\n",
       "      <td>00007756b4a147d2b0b3</td>\n",
       "      <td>What is it really like to be a nurse practitio...</td>\n",
       "    </tr>\n",
       "    <tr>\n",
       "      <td>3</td>\n",
       "      <td>000086e4b7e1c7146103</td>\n",
       "      <td>Who are entrepreneurs?</td>\n",
       "    </tr>\n",
       "    <tr>\n",
       "      <td>4</td>\n",
       "      <td>0000c4c3fbe8785a3090</td>\n",
       "      <td>Is education really making good people nowadays?</td>\n",
       "    </tr>\n",
       "  </tbody>\n",
       "</table>\n",
       "</div>"
      ],
      "text/plain": [
       "                    qid                                      question_text\n",
       "0  0000163e3ea7c7a74cd7  Why do so many women become so rude and arroga...\n",
       "1  00002bd4fb5d505b9161  When should I apply for RV college of engineer...\n",
       "2  00007756b4a147d2b0b3  What is it really like to be a nurse practitio...\n",
       "3  000086e4b7e1c7146103                             Who are entrepreneurs?\n",
       "4  0000c4c3fbe8785a3090   Is education really making good people nowadays?"
      ]
     },
     "execution_count": 10,
     "metadata": {},
     "output_type": "execute_result"
    }
   ],
   "source": [
    "# check top 5 records of testing dataset\n",
    "test.head() "
   ]
  },
  {
   "cell_type": "code",
   "execution_count": 11,
   "metadata": {
    "collapsed": false
   },
   "outputs": [
    {
     "name": "stdout",
     "output_type": "stream",
     "text": [
      "<class 'pandas.core.frame.DataFrame'>\n",
      "RangeIndex: 4000 entries, 0 to 3999\n",
      "Data columns (total 3 columns):\n",
      "qid              4000 non-null object\n",
      "question_text    4000 non-null object\n",
      "target           4000 non-null int64\n",
      "dtypes: int64(1), object(2)\n",
      "memory usage: 93.9+ KB\n",
      "None\n"
     ]
    }
   ],
   "source": [
    "# Find the type of features in Quora dataset\n",
    "# i.e get a quick statistics\n",
    "\n",
    "print(train.info())"
   ]
  },
  {
   "cell_type": "code",
   "execution_count": 12,
   "metadata": {
    "collapsed": false
   },
   "outputs": [
    {
     "name": "stdout",
     "output_type": "stream",
     "text": [
      "<class 'pandas.core.frame.DataFrame'>\n",
      "RangeIndex: 400 entries, 0 to 399\n",
      "Data columns (total 2 columns):\n",
      "qid              400 non-null object\n",
      "question_text    400 non-null object\n",
      "dtypes: object(2)\n",
      "memory usage: 6.4+ KB\n",
      "None\n"
     ]
    }
   ],
   "source": [
    "print(test.info())  # see carefully the last value is -> None. \n",
    "                    # indicating that there are no \"Null\" values"
   ]
  },
  {
   "cell_type": "code",
   "execution_count": 13,
   "metadata": {
    "collapsed": false
   },
   "outputs": [
    {
     "name": "stdout",
     "output_type": "stream",
     "text": [
      "Shape of train: (4000, 3)\n",
      "Shape of test: (400, 2)\n"
     ]
    }
   ],
   "source": [
    "# shape for train and test\n",
    "print('Shape of train:',train.shape)\n",
    "print('Shape of test:',test.shape)"
   ]
  },
  {
   "cell_type": "markdown",
   "metadata": {},
   "source": [
    "**Data Cleaning**\n",
    "\n",
    "When dealing with real-world data, dirty data is the norm rather than the exception. \n",
    "\n",
    "The primary goal of data cleaning is to detect and remove errors and anomalies to increase the value of data in analytics and decision making. While it has been the focus of many researchers for several years, individual problems have been addressed separately. These include missing value imputation, outliers detection, transformations, integrity constraints violations detection and repair, consistent query answering, deduplication, and many other related problems such as profiling and constraints mining."
   ]
  },
  {
   "cell_type": "code",
   "execution_count": 14,
   "metadata": {
    "collapsed": false
   },
   "outputs": [
    {
     "data": {
      "text/plain": [
       "qid              0\n",
       "question_text    0\n",
       "target           0\n",
       "dtype: int64"
      ]
     },
     "execution_count": 14,
     "metadata": {},
     "output_type": "execute_result"
    }
   ],
   "source": [
    "# How many NA elements in every column!!\n",
    "# Good news, it is Zero!\n",
    "# To check out how many null info are on the dataset, we can use isnull().sum().\n",
    "# recall from info() -> we found that it has zero Nulls. \n",
    "\n",
    "train.isnull().sum()\n",
    "\n",
    "# data is infact clean and ready for use."
   ]
  },
  {
   "cell_type": "code",
   "execution_count": 15,
   "metadata": {
    "collapsed": false
   },
   "outputs": [
    {
     "name": "stdout",
     "output_type": "stream",
     "text": [
      "Before Droping (4000, 3)\n",
      "After Droping (4000, 3)\n"
     ]
    }
   ],
   "source": [
    "# in case , their were NA or None values in any row then we would drop the row.\n",
    "\n",
    "# remove rows that have NA's\n",
    "print('Before Droping',train.shape)\n",
    "train = train.dropna()\n",
    "print('After Droping',train.shape)"
   ]
  },
  {
   "cell_type": "code",
   "execution_count": 16,
   "metadata": {
    "collapsed": false
   },
   "outputs": [
    {
     "name": "stdout",
     "output_type": "stream",
     "text": [
      "maximum of num_words in train 51\n",
      "min of num_words in train 3\n",
      "maximum of  num_words in test 38\n",
      "min of num_words in train 3\n"
     ]
    },
    {
     "name": "stderr",
     "output_type": "stream",
     "text": [
      "c:\\users\\dell\\appdata\\local\\programs\\python\\python36\\lib\\site-packages\\ipykernel_launcher.py:4: SettingWithCopyWarning: \n",
      "A value is trying to be set on a copy of a slice from a DataFrame.\n",
      "Try using .loc[row_indexer,col_indexer] = value instead\n",
      "\n",
      "See the caveats in the documentation: http://pandas.pydata.org/pandas-docs/stable/user_guide/indexing.html#returning-a-view-versus-a-copy\n",
      "  after removing the cwd from sys.path.\n"
     ]
    }
   ],
   "source": [
    "# Number of words in the text\n",
    "\n",
    "train[\"num_words\"] = train[\"question_text\"].apply(lambda x: len(str(x).split()))\n",
    "test[\"num_words\"] = test[\"question_text\"].apply(lambda x: len(str(x).split()))\n",
    "print('maximum of num_words in train',train[\"num_words\"].max())\n",
    "print('min of num_words in train',train[\"num_words\"].min())\n",
    "print(\"maximum of  num_words in test\",test[\"num_words\"].max())\n",
    "print('min of num_words in train',test[\"num_words\"].min())"
   ]
  },
  {
   "cell_type": "code",
   "execution_count": 17,
   "metadata": {
    "collapsed": false
   },
   "outputs": [
    {
     "name": "stdout",
     "output_type": "stream",
     "text": [
      "maximum of num_unique_words in train 44\n",
      "maximum of num_unique_words in test 34\n"
     ]
    },
    {
     "name": "stderr",
     "output_type": "stream",
     "text": [
      "c:\\users\\dell\\appdata\\local\\programs\\python\\python36\\lib\\site-packages\\ipykernel_launcher.py:3: SettingWithCopyWarning: \n",
      "A value is trying to be set on a copy of a slice from a DataFrame.\n",
      "Try using .loc[row_indexer,col_indexer] = value instead\n",
      "\n",
      "See the caveats in the documentation: http://pandas.pydata.org/pandas-docs/stable/user_guide/indexing.html#returning-a-view-versus-a-copy\n",
      "  This is separate from the ipykernel package so we can avoid doing imports until\n"
     ]
    }
   ],
   "source": [
    "# Number of unique words in the text\n",
    "train[\"num_unique_words\"] = train[\"question_text\"].apply(lambda x: len(set(str(x).split())))\n",
    "test[\"num_unique_words\"] = test[\"question_text\"].apply(lambda x: len(set(str(x).split())))\n",
    "\n",
    "print('maximum of num_unique_words in train',train[\"num_unique_words\"].max())\n",
    "\n",
    "print(\"maximum of num_unique_words in test\",test[\"num_unique_words\"].max())\n"
   ]
  },
  {
   "cell_type": "code",
   "execution_count": 18,
   "metadata": {
    "collapsed": false
   },
   "outputs": [
    {
     "name": "stdout",
     "output_type": "stream",
     "text": [
      "maximum of num_stopwords in train 29\n",
      "maximum of num_stopwords in test 17\n"
     ]
    },
    {
     "name": "stderr",
     "output_type": "stream",
     "text": [
      "c:\\users\\dell\\appdata\\local\\programs\\python\\python36\\lib\\site-packages\\ipykernel_launcher.py:7: SettingWithCopyWarning: \n",
      "A value is trying to be set on a copy of a slice from a DataFrame.\n",
      "Try using .loc[row_indexer,col_indexer] = value instead\n",
      "\n",
      "See the caveats in the documentation: http://pandas.pydata.org/pandas-docs/stable/user_guide/indexing.html#returning-a-view-versus-a-copy\n",
      "  import sys\n"
     ]
    }
   ],
   "source": [
    "# Number of stopwords in the text\n",
    "\n",
    "#from nltk.corpus import stopwords\n",
    "eng_stopwords = set(stopwords.words(\"english\"))\n",
    "\n",
    "train[\"num_stopwords\"] = train[\"question_text\"].apply(lambda x: len([w for w in str(x).lower().split() if w in eng_stopwords]))\n",
    "test[\"num_stopwords\"] = test[\"question_text\"].apply(lambda x: len([w for w in str(x).lower().split() if w in eng_stopwords]))\n",
    "\n",
    "print('maximum of num_stopwords in train',train[\"num_stopwords\"].max())\n",
    "print(\"maximum of num_stopwords in test\",test[\"num_stopwords\"].max())\n"
   ]
  },
  {
   "cell_type": "code",
   "execution_count": 19,
   "metadata": {
    "collapsed": false
   },
   "outputs": [
    {
     "name": "stdout",
     "output_type": "stream",
     "text": [
      "maximum of num_punctuations in train 39\n",
      "maximum of num_punctuations in test 9\n"
     ]
    },
    {
     "name": "stderr",
     "output_type": "stream",
     "text": [
      "c:\\users\\dell\\appdata\\local\\programs\\python\\python36\\lib\\site-packages\\ipykernel_launcher.py:4: SettingWithCopyWarning: \n",
      "A value is trying to be set on a copy of a slice from a DataFrame.\n",
      "Try using .loc[row_indexer,col_indexer] = value instead\n",
      "\n",
      "See the caveats in the documentation: http://pandas.pydata.org/pandas-docs/stable/user_guide/indexing.html#returning-a-view-versus-a-copy\n",
      "  after removing the cwd from sys.path.\n"
     ]
    }
   ],
   "source": [
    "# Number of punctuations in the text\n",
    "\n",
    "train[\"num_punctuations\"] =train['question_text'].apply(lambda x: len([c for c in str(x) if c in string.punctuation]) )\n",
    "test[\"num_punctuations\"] =test['question_text'].apply(lambda x: len([c for c in str(x) if c in string.punctuation]) )\n",
    "print('maximum of num_punctuations in train',train[\"num_punctuations\"].max())\n",
    "print(\"maximum of num_punctuations in test\",test[\"num_punctuations\"].max())"
   ]
  },
  {
   "cell_type": "code",
   "execution_count": 20,
   "metadata": {
    "collapsed": false
   },
   "outputs": [
    {
     "data": {
      "text/plain": [
       "array([0, 1], dtype=int64)"
      ]
     },
     "execution_count": 20,
     "metadata": {},
     "output_type": "execute_result"
    }
   ],
   "source": [
    "# lets figure out how many unique target values exist.\n",
    "# like we expect : 0 -> sincere qns and 1 -> un-sincere qns\n",
    "\n",
    "# You see number of unique item for Target with command below:\n",
    "train_target = train['target'].values\n",
    "\n",
    "np.unique(train_target)"
   ]
  },
  {
   "cell_type": "markdown",
   "metadata": {},
   "source": [
    "**YES, quora problem is a binary classification!**"
   ]
  },
  {
   "cell_type": "markdown",
   "metadata": {},
   "source": [
    "**The data is absolutely clean. But is it balanced ?**\n",
    "\n",
    "I mean do we have equal no. of sincere and un-sincere questions in the dataset.\n",
    "\n",
    "lets find out :"
   ]
  },
  {
   "cell_type": "code",
   "execution_count": 21,
   "metadata": {
    "collapsed": false
   },
   "outputs": [
    {
     "data": {
      "text/plain": [
       "qid                 264\n",
       "question_text       264\n",
       "target              264\n",
       "num_words           264\n",
       "num_unique_words    264\n",
       "num_stopwords       264\n",
       "num_punctuations    264\n",
       "dtype: int64"
      ]
     },
     "execution_count": 21,
     "metadata": {},
     "output_type": "execute_result"
    }
   ],
   "source": [
    "train.where(train ['target']==1).count()"
   ]
  },
  {
   "cell_type": "markdown",
   "metadata": {},
   "source": [
    "**This means out of 1500 records 86 are unsincere**\n",
    "\n",
    "Thats about 86/1500 = 5.7%"
   ]
  },
  {
   "cell_type": "code",
   "execution_count": 22,
   "metadata": {
    "collapsed": false
   },
   "outputs": [
    {
     "name": "stdout",
     "output_type": "stream",
     "text": [
      "% of un-sincere qns is  0.066\n"
     ]
    }
   ],
   "source": [
    "print(\"% of un-sincere qns is \", 264/4000)"
   ]
  },
  {
   "cell_type": "markdown",
   "metadata": {},
   "source": [
    "This means we have approx. 94% of the sincere Qns.\n",
    "\n",
    "**Such a dataset is imbalanced.**\n",
    "\n",
    ">Imbalanced dataset is relevant primarily in the context of supervised machine learning involving two or more classes.\n",
    "\n",
    "> Imbalance means that the number of data points available for different classes is different: If there are two classes, then balanced data would mean 50% points for each of the class. For most machine learning techniques, little imbalance is not a problem. So, if there are 60% points for one class and 40% for the other class, it should not cause any significant performance degradation. Only when the class imbalance is high, e.g. 90% points for one class and 10% for the other, standard optimization criteria or performance measures may not be as effective and would need modification."
   ]
  },
  {
   "cell_type": "markdown",
   "metadata": {},
   "source": [
    "![imbalacedQuoraData](images/imbalacedQuoraData.png)"
   ]
  },
  {
   "cell_type": "markdown",
   "metadata": {},
   "source": [
    "A typical example of imbalanced data is encountered in e-mail classification problem where emails are classified into ham or spam. The number of spam emails is usually lower than the number of relevant (ham) emails. So, using the original distribution of two classes leads to imbalanced dataset.\n",
    "\n",
    "Using accuracy as a performace measure for highly imbalanced datasets is not a good idea. For example, if 90% points belong to the true class in a binary classification problem, a default prediction of true for all data points leads to a classifier which is 90% accurate, even though the classifier has not learnt anything about the classification problem at hand!"
   ]
  },
  {
   "cell_type": "code",
   "execution_count": 29,
   "metadata": {
    "collapsed": false
   },
   "outputs": [
    {
     "data": {
      "image/png": "[encoded data removed]",
      "text/plain": [
       "<Figure size 432x288 with 1 Axes>"
      ]
     },
     "metadata": {
      "needs_background": "light"
     },
     "output_type": "display_data"
    }
   ],
   "source": [
    "# visualising the imbalance in data set\n",
    "\n",
    "ax=sns.countplot(x='target',hue=\"target\", data=train  ,linewidth=5,edgecolor=sns.color_palette(\"dark\", 3))\n",
    "plt.title('Is data set imbalance?');"
   ]
  },
  {
   "cell_type": "markdown",
   "metadata": {},
   "source": [
    "Data Preprocessing\n",
    "----"
   ]
  },
  {
   "cell_type": "markdown",
   "metadata": {},
   "source": [
    "This basically involves transforming raw data into an understandable format for NLP models.\n",
    "\n",
    "Remember, our feature \"Question_Text\" is Text or String Object and No ML algo say KNN or Bayes classification would accept Text. Hence Pre-Processing is mandatory in this case.  "
   ]
  },
  {
   "cell_type": "markdown",
   "metadata": {},
   "source": [
    "Below, I have recalled the two most important techniques that are also performed besides other easy to understand steps in data pre-processing:\n",
    "\n",
    "1. Tokenization: This is a process of breaking a stream of text up into words, phrases, symbols, or other meaningful elements called tokens. The list of tokens becomes input for further processing. NLTK Library has word_tokenize and sent_tokenize to easily break a stream of text into a list of words or sentences, respectively.\n",
    "\n",
    "\n",
    "2. Word Stemming/Lemmatization: The aim of both processes is the same, reducing the inflectional forms of each word into a common base or root. Lemmatization is closely related to stemming. The difference is that a stemmer operates on a single word without knowledge of the context, and therefore cannot discriminate between words which have different meanings depending on part of speech. However, stemmers are typically easier to implement and run faster, and the reduced accuracy may not matter for some applications."
   ]
  },
  {
   "cell_type": "markdown",
   "metadata": {},
   "source": [
    "![Quora_data_preprocessing](images/Quora_data_preprocessing.png)"
   ]
  },
  {
   "cell_type": "markdown",
   "metadata": {},
   "source": [
    "**We would atleast the following (Text) Pre-Processing steps**"
   ]
  },
  {
   "cell_type": "markdown",
   "metadata": {},
   "source": [
    "1. Change all the text to lower case\n",
    "\n",
    "2. Word Tokenization\n",
    "\n",
    "3. Remove Stop words\n",
    "\n",
    "4. Remove Non-alpha text\n",
    "\n",
    "5. Word Lemmatization\n",
    "\n",
    "6. Converting the text data into Numeric vectors( called Vectorization )"
   ]
  },
  {
   "cell_type": "code",
   "execution_count": 31,
   "metadata": {
    "collapsed": false
   },
   "outputs": [
    {
     "ename": "AttributeError",
     "evalue": "'list' object has no attribute 'lower'",
     "output_type": "error",
     "traceback": [
      "\u001b[1;31m---------------------------------------------------------------------------\u001b[0m",
      "\u001b[1;31mAttributeError\u001b[0m                            Traceback (most recent call last)",
      "\u001b[1;32m<ipython-input-31-e670e3b3ebf0>\u001b[0m in \u001b[0;36m<module>\u001b[1;34m\u001b[0m\n\u001b[0;32m      3\u001b[0m \u001b[1;31m# This is required as python interprets 'quora' and 'QUORA' differently\u001b[0m\u001b[1;33m\u001b[0m\u001b[1;33m\u001b[0m\u001b[0m\n\u001b[0;32m      4\u001b[0m \u001b[1;33m\u001b[0m\u001b[0m\n\u001b[1;32m----> 5\u001b[1;33m \u001b[0mtrain\u001b[0m\u001b[1;33m[\u001b[0m\u001b[1;34m'question_text'\u001b[0m\u001b[1;33m]\u001b[0m \u001b[1;33m=\u001b[0m \u001b[1;33m[\u001b[0m\u001b[0mentry\u001b[0m\u001b[1;33m.\u001b[0m\u001b[0mlower\u001b[0m\u001b[1;33m(\u001b[0m\u001b[1;33m)\u001b[0m \u001b[1;32mfor\u001b[0m \u001b[0mentry\u001b[0m \u001b[1;32min\u001b[0m \u001b[0mtrain\u001b[0m\u001b[1;33m[\u001b[0m\u001b[1;34m'question_text'\u001b[0m\u001b[1;33m]\u001b[0m\u001b[1;33m]\u001b[0m\u001b[1;33m\u001b[0m\u001b[0m\n\u001b[0m\u001b[0;32m      6\u001b[0m \u001b[1;33m\u001b[0m\u001b[0m\n\u001b[0;32m      7\u001b[0m \u001b[0mtest\u001b[0m\u001b[1;33m[\u001b[0m\u001b[1;34m'question_text'\u001b[0m\u001b[1;33m]\u001b[0m \u001b[1;33m=\u001b[0m \u001b[1;33m[\u001b[0m\u001b[0mentry\u001b[0m\u001b[1;33m.\u001b[0m\u001b[0mlower\u001b[0m\u001b[1;33m(\u001b[0m\u001b[1;33m)\u001b[0m \u001b[1;32mfor\u001b[0m \u001b[0mentry\u001b[0m \u001b[1;32min\u001b[0m \u001b[0mtest\u001b[0m\u001b[1;33m[\u001b[0m\u001b[1;34m'question_text'\u001b[0m\u001b[1;33m]\u001b[0m\u001b[1;33m]\u001b[0m\u001b[1;33m\u001b[0m\u001b[0m\n",
      "\u001b[1;32m<ipython-input-31-e670e3b3ebf0>\u001b[0m in \u001b[0;36m<listcomp>\u001b[1;34m(.0)\u001b[0m\n\u001b[0;32m      3\u001b[0m \u001b[1;31m# This is required as python interprets 'quora' and 'QUORA' differently\u001b[0m\u001b[1;33m\u001b[0m\u001b[1;33m\u001b[0m\u001b[0m\n\u001b[0;32m      4\u001b[0m \u001b[1;33m\u001b[0m\u001b[0m\n\u001b[1;32m----> 5\u001b[1;33m \u001b[0mtrain\u001b[0m\u001b[1;33m[\u001b[0m\u001b[1;34m'question_text'\u001b[0m\u001b[1;33m]\u001b[0m \u001b[1;33m=\u001b[0m \u001b[1;33m[\u001b[0m\u001b[0mentry\u001b[0m\u001b[1;33m.\u001b[0m\u001b[0mlower\u001b[0m\u001b[1;33m(\u001b[0m\u001b[1;33m)\u001b[0m \u001b[1;32mfor\u001b[0m \u001b[0mentry\u001b[0m \u001b[1;32min\u001b[0m \u001b[0mtrain\u001b[0m\u001b[1;33m[\u001b[0m\u001b[1;34m'question_text'\u001b[0m\u001b[1;33m]\u001b[0m\u001b[1;33m]\u001b[0m\u001b[1;33m\u001b[0m\u001b[0m\n\u001b[0m\u001b[0;32m      6\u001b[0m \u001b[1;33m\u001b[0m\u001b[0m\n\u001b[0;32m      7\u001b[0m \u001b[0mtest\u001b[0m\u001b[1;33m[\u001b[0m\u001b[1;34m'question_text'\u001b[0m\u001b[1;33m]\u001b[0m \u001b[1;33m=\u001b[0m \u001b[1;33m[\u001b[0m\u001b[0mentry\u001b[0m\u001b[1;33m.\u001b[0m\u001b[0mlower\u001b[0m\u001b[1;33m(\u001b[0m\u001b[1;33m)\u001b[0m \u001b[1;32mfor\u001b[0m \u001b[0mentry\u001b[0m \u001b[1;32min\u001b[0m \u001b[0mtest\u001b[0m\u001b[1;33m[\u001b[0m\u001b[1;34m'question_text'\u001b[0m\u001b[1;33m]\u001b[0m\u001b[1;33m]\u001b[0m\u001b[1;33m\u001b[0m\u001b[0m\n",
      "\u001b[1;31mAttributeError\u001b[0m: 'list' object has no attribute 'lower'"
     ]
    }
   ],
   "source": [
    "# step 1: Change all the text to lower case. \n",
    "\n",
    "# This is required as python interprets 'quora' and 'QUORA' differently\n",
    "\n",
    "train['question_text'] = [entry.lower() for entry in train['question_text']]\n",
    "\n",
    "test['question_text'] = [entry.lower() for entry in test['question_text']]\n",
    "\n",
    "#test.head()"
   ]
  },
  {
   "cell_type": "code",
   "execution_count": 32,
   "metadata": {
    "collapsed": true
   },
   "outputs": [],
   "source": [
    "# more imports for NLP\n",
    "from nltk.tokenize import word_tokenize\n",
    "from nltk import pos_tag\n",
    "from nltk.corpus import stopwords\n",
    "from nltk.stem import WordNetLemmatizer\n",
    "from sklearn.preprocessing import LabelEncoder\n",
    "from collections import defaultdict\n",
    "from nltk.corpus import wordnet as wn\n",
    "from sklearn.feature_extraction.text import TfidfVectorizer\n",
    "from sklearn import model_selection, naive_bayes, svm\n",
    "from sklearn.metrics import accuracy_score"
   ]
  },
  {
   "cell_type": "code",
   "execution_count": 33,
   "metadata": {
    "collapsed": false
   },
   "outputs": [
    {
     "ename": "TypeError",
     "evalue": "expected string or bytes-like object",
     "output_type": "error",
     "traceback": [
      "\u001b[1;31m---------------------------------------------------------------------------\u001b[0m",
      "\u001b[1;31mTypeError\u001b[0m                                 Traceback (most recent call last)",
      "\u001b[1;32m<ipython-input-33-ab5c4e680f0b>\u001b[0m in \u001b[0;36m<module>\u001b[1;34m\u001b[0m\n\u001b[0;32m      3\u001b[0m \u001b[1;33m\u001b[0m\u001b[0m\n\u001b[0;32m      4\u001b[0m \u001b[1;33m\u001b[0m\u001b[0m\n\u001b[1;32m----> 5\u001b[1;33m \u001b[0mtrain\u001b[0m\u001b[1;33m[\u001b[0m\u001b[1;34m'question_text'\u001b[0m\u001b[1;33m]\u001b[0m\u001b[1;33m=\u001b[0m \u001b[1;33m[\u001b[0m\u001b[0mword_tokenize\u001b[0m\u001b[1;33m(\u001b[0m\u001b[0mentry\u001b[0m\u001b[1;33m)\u001b[0m \u001b[1;32mfor\u001b[0m \u001b[0mentry\u001b[0m \u001b[1;32min\u001b[0m \u001b[0mtrain\u001b[0m\u001b[1;33m[\u001b[0m\u001b[1;34m'question_text'\u001b[0m\u001b[1;33m]\u001b[0m\u001b[1;33m]\u001b[0m\u001b[1;33m\u001b[0m\u001b[0m\n\u001b[0m\u001b[0;32m      6\u001b[0m \u001b[1;33m\u001b[0m\u001b[0m\n\u001b[0;32m      7\u001b[0m \u001b[0mtest\u001b[0m\u001b[1;33m[\u001b[0m\u001b[1;34m'question_text'\u001b[0m\u001b[1;33m]\u001b[0m\u001b[1;33m=\u001b[0m \u001b[1;33m[\u001b[0m\u001b[0mword_tokenize\u001b[0m\u001b[1;33m(\u001b[0m\u001b[0mentry\u001b[0m\u001b[1;33m)\u001b[0m \u001b[1;32mfor\u001b[0m \u001b[0mentry\u001b[0m \u001b[1;32min\u001b[0m \u001b[0mtest\u001b[0m\u001b[1;33m[\u001b[0m\u001b[1;34m'question_text'\u001b[0m\u001b[1;33m]\u001b[0m\u001b[1;33m]\u001b[0m\u001b[1;33m\u001b[0m\u001b[0m\n",
      "\u001b[1;32m<ipython-input-33-ab5c4e680f0b>\u001b[0m in \u001b[0;36m<listcomp>\u001b[1;34m(.0)\u001b[0m\n\u001b[0;32m      3\u001b[0m \u001b[1;33m\u001b[0m\u001b[0m\n\u001b[0;32m      4\u001b[0m \u001b[1;33m\u001b[0m\u001b[0m\n\u001b[1;32m----> 5\u001b[1;33m \u001b[0mtrain\u001b[0m\u001b[1;33m[\u001b[0m\u001b[1;34m'question_text'\u001b[0m\u001b[1;33m]\u001b[0m\u001b[1;33m=\u001b[0m \u001b[1;33m[\u001b[0m\u001b[0mword_tokenize\u001b[0m\u001b[1;33m(\u001b[0m\u001b[0mentry\u001b[0m\u001b[1;33m)\u001b[0m \u001b[1;32mfor\u001b[0m \u001b[0mentry\u001b[0m \u001b[1;32min\u001b[0m \u001b[0mtrain\u001b[0m\u001b[1;33m[\u001b[0m\u001b[1;34m'question_text'\u001b[0m\u001b[1;33m]\u001b[0m\u001b[1;33m]\u001b[0m\u001b[1;33m\u001b[0m\u001b[0m\n\u001b[0m\u001b[0;32m      6\u001b[0m \u001b[1;33m\u001b[0m\u001b[0m\n\u001b[0;32m      7\u001b[0m \u001b[0mtest\u001b[0m\u001b[1;33m[\u001b[0m\u001b[1;34m'question_text'\u001b[0m\u001b[1;33m]\u001b[0m\u001b[1;33m=\u001b[0m \u001b[1;33m[\u001b[0m\u001b[0mword_tokenize\u001b[0m\u001b[1;33m(\u001b[0m\u001b[0mentry\u001b[0m\u001b[1;33m)\u001b[0m \u001b[1;32mfor\u001b[0m \u001b[0mentry\u001b[0m \u001b[1;32min\u001b[0m \u001b[0mtest\u001b[0m\u001b[1;33m[\u001b[0m\u001b[1;34m'question_text'\u001b[0m\u001b[1;33m]\u001b[0m\u001b[1;33m]\u001b[0m\u001b[1;33m\u001b[0m\u001b[0m\n",
      "\u001b[1;32mc:\\users\\dell\\appdata\\local\\programs\\python\\python36\\lib\\site-packages\\nltk\\tokenize\\__init__.py\u001b[0m in \u001b[0;36mword_tokenize\u001b[1;34m(text, language, preserve_line)\u001b[0m\n\u001b[0;32m    142\u001b[0m     \u001b[1;33m:\u001b[0m\u001b[0mtype\u001b[0m \u001b[0mpreserve_line\u001b[0m\u001b[1;33m:\u001b[0m \u001b[0mbool\u001b[0m\u001b[1;33m\u001b[0m\u001b[0m\n\u001b[0;32m    143\u001b[0m     \"\"\"\n\u001b[1;32m--> 144\u001b[1;33m     \u001b[0msentences\u001b[0m \u001b[1;33m=\u001b[0m \u001b[1;33m[\u001b[0m\u001b[0mtext\u001b[0m\u001b[1;33m]\u001b[0m \u001b[1;32mif\u001b[0m \u001b[0mpreserve_line\u001b[0m \u001b[1;32melse\u001b[0m \u001b[0msent_tokenize\u001b[0m\u001b[1;33m(\u001b[0m\u001b[0mtext\u001b[0m\u001b[1;33m,\u001b[0m \u001b[0mlanguage\u001b[0m\u001b[1;33m)\u001b[0m\u001b[1;33m\u001b[0m\u001b[0m\n\u001b[0m\u001b[0;32m    145\u001b[0m     return [\n\u001b[0;32m    146\u001b[0m         \u001b[0mtoken\u001b[0m \u001b[1;32mfor\u001b[0m \u001b[0msent\u001b[0m \u001b[1;32min\u001b[0m \u001b[0msentences\u001b[0m \u001b[1;32mfor\u001b[0m \u001b[0mtoken\u001b[0m \u001b[1;32min\u001b[0m \u001b[0m_treebank_word_tokenizer\u001b[0m\u001b[1;33m.\u001b[0m\u001b[0mtokenize\u001b[0m\u001b[1;33m(\u001b[0m\u001b[0msent\u001b[0m\u001b[1;33m)\u001b[0m\u001b[1;33m\u001b[0m\u001b[0m\n",
      "\u001b[1;32mc:\\users\\dell\\appdata\\local\\programs\\python\\python36\\lib\\site-packages\\nltk\\tokenize\\__init__.py\u001b[0m in \u001b[0;36msent_tokenize\u001b[1;34m(text, language)\u001b[0m\n\u001b[0;32m    104\u001b[0m     \"\"\"\n\u001b[0;32m    105\u001b[0m     \u001b[0mtokenizer\u001b[0m \u001b[1;33m=\u001b[0m \u001b[0mload\u001b[0m\u001b[1;33m(\u001b[0m\u001b[1;34m'tokenizers/punkt/{0}.pickle'\u001b[0m\u001b[1;33m.\u001b[0m\u001b[0mformat\u001b[0m\u001b[1;33m(\u001b[0m\u001b[0mlanguage\u001b[0m\u001b[1;33m)\u001b[0m\u001b[1;33m)\u001b[0m\u001b[1;33m\u001b[0m\u001b[0m\n\u001b[1;32m--> 106\u001b[1;33m     \u001b[1;32mreturn\u001b[0m \u001b[0mtokenizer\u001b[0m\u001b[1;33m.\u001b[0m\u001b[0mtokenize\u001b[0m\u001b[1;33m(\u001b[0m\u001b[0mtext\u001b[0m\u001b[1;33m)\u001b[0m\u001b[1;33m\u001b[0m\u001b[0m\n\u001b[0m\u001b[0;32m    107\u001b[0m \u001b[1;33m\u001b[0m\u001b[0m\n\u001b[0;32m    108\u001b[0m \u001b[1;33m\u001b[0m\u001b[0m\n",
      "\u001b[1;32mc:\\users\\dell\\appdata\\local\\programs\\python\\python36\\lib\\site-packages\\nltk\\tokenize\\punkt.py\u001b[0m in \u001b[0;36mtokenize\u001b[1;34m(self, text, realign_boundaries)\u001b[0m\n\u001b[0;32m   1275\u001b[0m         \u001b[0mGiven\u001b[0m \u001b[0ma\u001b[0m \u001b[0mtext\u001b[0m\u001b[1;33m,\u001b[0m \u001b[0mreturns\u001b[0m \u001b[0ma\u001b[0m \u001b[0mlist\u001b[0m \u001b[0mof\u001b[0m \u001b[0mthe\u001b[0m \u001b[0msentences\u001b[0m \u001b[1;32min\u001b[0m \u001b[0mthat\u001b[0m \u001b[0mtext\u001b[0m\u001b[1;33m.\u001b[0m\u001b[1;33m\u001b[0m\u001b[0m\n\u001b[0;32m   1276\u001b[0m         \"\"\"\n\u001b[1;32m-> 1277\u001b[1;33m         \u001b[1;32mreturn\u001b[0m \u001b[0mlist\u001b[0m\u001b[1;33m(\u001b[0m\u001b[0mself\u001b[0m\u001b[1;33m.\u001b[0m\u001b[0msentences_from_text\u001b[0m\u001b[1;33m(\u001b[0m\u001b[0mtext\u001b[0m\u001b[1;33m,\u001b[0m \u001b[0mrealign_boundaries\u001b[0m\u001b[1;33m)\u001b[0m\u001b[1;33m)\u001b[0m\u001b[1;33m\u001b[0m\u001b[0m\n\u001b[0m\u001b[0;32m   1278\u001b[0m \u001b[1;33m\u001b[0m\u001b[0m\n\u001b[0;32m   1279\u001b[0m     \u001b[1;32mdef\u001b[0m \u001b[0mdebug_decisions\u001b[0m\u001b[1;33m(\u001b[0m\u001b[0mself\u001b[0m\u001b[1;33m,\u001b[0m \u001b[0mtext\u001b[0m\u001b[1;33m)\u001b[0m\u001b[1;33m:\u001b[0m\u001b[1;33m\u001b[0m\u001b[0m\n",
      "\u001b[1;32mc:\\users\\dell\\appdata\\local\\programs\\python\\python36\\lib\\site-packages\\nltk\\tokenize\\punkt.py\u001b[0m in \u001b[0;36msentences_from_text\u001b[1;34m(self, text, realign_boundaries)\u001b[0m\n\u001b[0;32m   1329\u001b[0m         \u001b[0mfollows\u001b[0m \u001b[0mthe\u001b[0m \u001b[0mperiod\u001b[0m\u001b[1;33m.\u001b[0m\u001b[1;33m\u001b[0m\u001b[0m\n\u001b[0;32m   1330\u001b[0m         \"\"\"\n\u001b[1;32m-> 1331\u001b[1;33m         \u001b[1;32mreturn\u001b[0m \u001b[1;33m[\u001b[0m\u001b[0mtext\u001b[0m\u001b[1;33m[\u001b[0m\u001b[0ms\u001b[0m\u001b[1;33m:\u001b[0m\u001b[0me\u001b[0m\u001b[1;33m]\u001b[0m \u001b[1;32mfor\u001b[0m \u001b[0ms\u001b[0m\u001b[1;33m,\u001b[0m \u001b[0me\u001b[0m \u001b[1;32min\u001b[0m \u001b[0mself\u001b[0m\u001b[1;33m.\u001b[0m\u001b[0mspan_tokenize\u001b[0m\u001b[1;33m(\u001b[0m\u001b[0mtext\u001b[0m\u001b[1;33m,\u001b[0m \u001b[0mrealign_boundaries\u001b[0m\u001b[1;33m)\u001b[0m\u001b[1;33m]\u001b[0m\u001b[1;33m\u001b[0m\u001b[0m\n\u001b[0m\u001b[0;32m   1332\u001b[0m \u001b[1;33m\u001b[0m\u001b[0m\n\u001b[0;32m   1333\u001b[0m     \u001b[1;32mdef\u001b[0m \u001b[0m_slices_from_text\u001b[0m\u001b[1;33m(\u001b[0m\u001b[0mself\u001b[0m\u001b[1;33m,\u001b[0m \u001b[0mtext\u001b[0m\u001b[1;33m)\u001b[0m\u001b[1;33m:\u001b[0m\u001b[1;33m\u001b[0m\u001b[0m\n",
      "\u001b[1;32mc:\\users\\dell\\appdata\\local\\programs\\python\\python36\\lib\\site-packages\\nltk\\tokenize\\punkt.py\u001b[0m in \u001b[0;36m<listcomp>\u001b[1;34m(.0)\u001b[0m\n\u001b[0;32m   1329\u001b[0m         \u001b[0mfollows\u001b[0m \u001b[0mthe\u001b[0m \u001b[0mperiod\u001b[0m\u001b[1;33m.\u001b[0m\u001b[1;33m\u001b[0m\u001b[0m\n\u001b[0;32m   1330\u001b[0m         \"\"\"\n\u001b[1;32m-> 1331\u001b[1;33m         \u001b[1;32mreturn\u001b[0m \u001b[1;33m[\u001b[0m\u001b[0mtext\u001b[0m\u001b[1;33m[\u001b[0m\u001b[0ms\u001b[0m\u001b[1;33m:\u001b[0m\u001b[0me\u001b[0m\u001b[1;33m]\u001b[0m \u001b[1;32mfor\u001b[0m \u001b[0ms\u001b[0m\u001b[1;33m,\u001b[0m \u001b[0me\u001b[0m \u001b[1;32min\u001b[0m \u001b[0mself\u001b[0m\u001b[1;33m.\u001b[0m\u001b[0mspan_tokenize\u001b[0m\u001b[1;33m(\u001b[0m\u001b[0mtext\u001b[0m\u001b[1;33m,\u001b[0m \u001b[0mrealign_boundaries\u001b[0m\u001b[1;33m)\u001b[0m\u001b[1;33m]\u001b[0m\u001b[1;33m\u001b[0m\u001b[0m\n\u001b[0m\u001b[0;32m   1332\u001b[0m \u001b[1;33m\u001b[0m\u001b[0m\n\u001b[0;32m   1333\u001b[0m     \u001b[1;32mdef\u001b[0m \u001b[0m_slices_from_text\u001b[0m\u001b[1;33m(\u001b[0m\u001b[0mself\u001b[0m\u001b[1;33m,\u001b[0m \u001b[0mtext\u001b[0m\u001b[1;33m)\u001b[0m\u001b[1;33m:\u001b[0m\u001b[1;33m\u001b[0m\u001b[0m\n",
      "\u001b[1;32mc:\\users\\dell\\appdata\\local\\programs\\python\\python36\\lib\\site-packages\\nltk\\tokenize\\punkt.py\u001b[0m in \u001b[0;36mspan_tokenize\u001b[1;34m(self, text, realign_boundaries)\u001b[0m\n\u001b[0;32m   1319\u001b[0m         \u001b[1;32mif\u001b[0m \u001b[0mrealign_boundaries\u001b[0m\u001b[1;33m:\u001b[0m\u001b[1;33m\u001b[0m\u001b[0m\n\u001b[0;32m   1320\u001b[0m             \u001b[0mslices\u001b[0m \u001b[1;33m=\u001b[0m \u001b[0mself\u001b[0m\u001b[1;33m.\u001b[0m\u001b[0m_realign_boundaries\u001b[0m\u001b[1;33m(\u001b[0m\u001b[0mtext\u001b[0m\u001b[1;33m,\u001b[0m \u001b[0mslices\u001b[0m\u001b[1;33m)\u001b[0m\u001b[1;33m\u001b[0m\u001b[0m\n\u001b[1;32m-> 1321\u001b[1;33m         \u001b[1;32mfor\u001b[0m \u001b[0msl\u001b[0m \u001b[1;32min\u001b[0m \u001b[0mslices\u001b[0m\u001b[1;33m:\u001b[0m\u001b[1;33m\u001b[0m\u001b[0m\n\u001b[0m\u001b[0;32m   1322\u001b[0m             \u001b[1;32myield\u001b[0m \u001b[1;33m(\u001b[0m\u001b[0msl\u001b[0m\u001b[1;33m.\u001b[0m\u001b[0mstart\u001b[0m\u001b[1;33m,\u001b[0m \u001b[0msl\u001b[0m\u001b[1;33m.\u001b[0m\u001b[0mstop\u001b[0m\u001b[1;33m)\u001b[0m\u001b[1;33m\u001b[0m\u001b[0m\n\u001b[0;32m   1323\u001b[0m \u001b[1;33m\u001b[0m\u001b[0m\n",
      "\u001b[1;32mc:\\users\\dell\\appdata\\local\\programs\\python\\python36\\lib\\site-packages\\nltk\\tokenize\\punkt.py\u001b[0m in \u001b[0;36m_realign_boundaries\u001b[1;34m(self, text, slices)\u001b[0m\n\u001b[0;32m   1360\u001b[0m         \"\"\"\n\u001b[0;32m   1361\u001b[0m         \u001b[0mrealign\u001b[0m \u001b[1;33m=\u001b[0m \u001b[1;36m0\u001b[0m\u001b[1;33m\u001b[0m\u001b[0m\n\u001b[1;32m-> 1362\u001b[1;33m         \u001b[1;32mfor\u001b[0m \u001b[0msl1\u001b[0m\u001b[1;33m,\u001b[0m \u001b[0msl2\u001b[0m \u001b[1;32min\u001b[0m \u001b[0m_pair_iter\u001b[0m\u001b[1;33m(\u001b[0m\u001b[0mslices\u001b[0m\u001b[1;33m)\u001b[0m\u001b[1;33m:\u001b[0m\u001b[1;33m\u001b[0m\u001b[0m\n\u001b[0m\u001b[0;32m   1363\u001b[0m             \u001b[0msl1\u001b[0m \u001b[1;33m=\u001b[0m \u001b[0mslice\u001b[0m\u001b[1;33m(\u001b[0m\u001b[0msl1\u001b[0m\u001b[1;33m.\u001b[0m\u001b[0mstart\u001b[0m \u001b[1;33m+\u001b[0m \u001b[0mrealign\u001b[0m\u001b[1;33m,\u001b[0m \u001b[0msl1\u001b[0m\u001b[1;33m.\u001b[0m\u001b[0mstop\u001b[0m\u001b[1;33m)\u001b[0m\u001b[1;33m\u001b[0m\u001b[0m\n\u001b[0;32m   1364\u001b[0m             \u001b[1;32mif\u001b[0m \u001b[1;32mnot\u001b[0m \u001b[0msl2\u001b[0m\u001b[1;33m:\u001b[0m\u001b[1;33m\u001b[0m\u001b[0m\n",
      "\u001b[1;32mc:\\users\\dell\\appdata\\local\\programs\\python\\python36\\lib\\site-packages\\nltk\\tokenize\\punkt.py\u001b[0m in \u001b[0;36m_pair_iter\u001b[1;34m(it)\u001b[0m\n\u001b[0;32m    316\u001b[0m     \u001b[0mit\u001b[0m \u001b[1;33m=\u001b[0m \u001b[0miter\u001b[0m\u001b[1;33m(\u001b[0m\u001b[0mit\u001b[0m\u001b[1;33m)\u001b[0m\u001b[1;33m\u001b[0m\u001b[0m\n\u001b[0;32m    317\u001b[0m     \u001b[1;32mtry\u001b[0m\u001b[1;33m:\u001b[0m\u001b[1;33m\u001b[0m\u001b[0m\n\u001b[1;32m--> 318\u001b[1;33m         \u001b[0mprev\u001b[0m \u001b[1;33m=\u001b[0m \u001b[0mnext\u001b[0m\u001b[1;33m(\u001b[0m\u001b[0mit\u001b[0m\u001b[1;33m)\u001b[0m\u001b[1;33m\u001b[0m\u001b[0m\n\u001b[0m\u001b[0;32m    319\u001b[0m     \u001b[1;32mexcept\u001b[0m \u001b[0mStopIteration\u001b[0m\u001b[1;33m:\u001b[0m\u001b[1;33m\u001b[0m\u001b[0m\n\u001b[0;32m    320\u001b[0m         \u001b[1;32mreturn\u001b[0m\u001b[1;33m\u001b[0m\u001b[0m\n",
      "\u001b[1;32mc:\\users\\dell\\appdata\\local\\programs\\python\\python36\\lib\\site-packages\\nltk\\tokenize\\punkt.py\u001b[0m in \u001b[0;36m_slices_from_text\u001b[1;34m(self, text)\u001b[0m\n\u001b[0;32m   1333\u001b[0m     \u001b[1;32mdef\u001b[0m \u001b[0m_slices_from_text\u001b[0m\u001b[1;33m(\u001b[0m\u001b[0mself\u001b[0m\u001b[1;33m,\u001b[0m \u001b[0mtext\u001b[0m\u001b[1;33m)\u001b[0m\u001b[1;33m:\u001b[0m\u001b[1;33m\u001b[0m\u001b[0m\n\u001b[0;32m   1334\u001b[0m         \u001b[0mlast_break\u001b[0m \u001b[1;33m=\u001b[0m \u001b[1;36m0\u001b[0m\u001b[1;33m\u001b[0m\u001b[0m\n\u001b[1;32m-> 1335\u001b[1;33m         \u001b[1;32mfor\u001b[0m \u001b[0mmatch\u001b[0m \u001b[1;32min\u001b[0m \u001b[0mself\u001b[0m\u001b[1;33m.\u001b[0m\u001b[0m_lang_vars\u001b[0m\u001b[1;33m.\u001b[0m\u001b[0mperiod_context_re\u001b[0m\u001b[1;33m(\u001b[0m\u001b[1;33m)\u001b[0m\u001b[1;33m.\u001b[0m\u001b[0mfinditer\u001b[0m\u001b[1;33m(\u001b[0m\u001b[0mtext\u001b[0m\u001b[1;33m)\u001b[0m\u001b[1;33m:\u001b[0m\u001b[1;33m\u001b[0m\u001b[0m\n\u001b[0m\u001b[0;32m   1336\u001b[0m             \u001b[0mcontext\u001b[0m \u001b[1;33m=\u001b[0m \u001b[0mmatch\u001b[0m\u001b[1;33m.\u001b[0m\u001b[0mgroup\u001b[0m\u001b[1;33m(\u001b[0m\u001b[1;33m)\u001b[0m \u001b[1;33m+\u001b[0m \u001b[0mmatch\u001b[0m\u001b[1;33m.\u001b[0m\u001b[0mgroup\u001b[0m\u001b[1;33m(\u001b[0m\u001b[1;34m'after_tok'\u001b[0m\u001b[1;33m)\u001b[0m\u001b[1;33m\u001b[0m\u001b[0m\n\u001b[0;32m   1337\u001b[0m             \u001b[1;32mif\u001b[0m \u001b[0mself\u001b[0m\u001b[1;33m.\u001b[0m\u001b[0mtext_contains_sentbreak\u001b[0m\u001b[1;33m(\u001b[0m\u001b[0mcontext\u001b[0m\u001b[1;33m)\u001b[0m\u001b[1;33m:\u001b[0m\u001b[1;33m\u001b[0m\u001b[0m\n",
      "\u001b[1;31mTypeError\u001b[0m: expected string or bytes-like object"
     ]
    }
   ],
   "source": [
    "# step 2 : Tokenization : In this each entry in the corpus will be broken \n",
    "#                         into set of words\n",
    "\n",
    "\n",
    "train['question_text']= [word_tokenize(entry) for entry in train['question_text']]\n",
    "\n",
    "test['question_text']= [word_tokenize(entry) for entry in test['question_text']]\n",
    "\n",
    "#test.head()"
   ]
  },
  {
   "cell_type": "code",
   "execution_count": 34,
   "metadata": {
    "collapsed": true
   },
   "outputs": [],
   "source": [
    "# Set random seed\n",
    "# This is used to reproduce the same result every time \n",
    "# if the script is kept consistent otherwise each run \n",
    "# will produce different results. The seed can be set to any number.\n",
    "np.random.seed(500)"
   ]
  },
  {
   "cell_type": "code",
   "execution_count": 35,
   "metadata": {
    "collapsed": false
   },
   "outputs": [
    {
     "name": "stdout",
     "output_type": "stream",
     "text": [
      "                    qid                                      question_text  \\\n",
      "0  00002165364db923c7e6  [how, did, quebec, nationalists, see, their, p...   \n",
      "1  000032939017120e6e44  [do, you, have, an, adopted, dog, ,, how, woul...   \n",
      "2  0000412ca6e4628ce2cf  [why, does, velocity, affect, time, ?, does, v...   \n",
      "3  000042bf85aa498cd78e  [how, did, otto, von, guericke, used, the, mag...   \n",
      "4  0000455dfa3e01eae3af  [can, i, convert, montra, helicon, d, to, a, m...   \n",
      "\n",
      "   target  num_words  num_unique_words  num_stopwords  num_punctuations  \\\n",
      "0       0         13                13              7                 1   \n",
      "1       0         16                15              9                 2   \n",
      "2       0         10                 8              3                 2   \n",
      "3       0          9                 9              3                 1   \n",
      "4       0         15                15              8                 1   \n",
      "\n",
      "                                 question_text_final  \n",
      "0  ['quebec', 'nationalist', 'see', 'province', '...  \n",
      "1  ['adopt', 'dog', 'would', 'encourage', 'people...  \n",
      "2  ['velocity', 'affect', 'time', 'velocity', 'af...  \n",
      "3  ['otto', 'von', 'guericke', 'use', 'magdeburg'...  \n",
      "4  ['convert', 'montra', 'helicon', 'mountain', '...  \n"
     ]
    }
   ],
   "source": [
    "# step 3, 4 and 5\n",
    "# Remove Stop words and Numeric data \n",
    "# and perfom Word Stemming/Lemmenting.\n",
    "\n",
    "# WordNetLemmatizer requires Pos tags to understand if the word is noun or verb\n",
    "# or adjective etc. By default it is set to Noun\n",
    "tag_map = defaultdict(lambda : wn.NOUN)\n",
    "tag_map['J'] = wn.ADJ\n",
    "tag_map['V'] = wn.VERB\n",
    "tag_map['R'] = wn.ADV\n",
    "# the tag_map would map any tag to 'N' (Noun) except\n",
    "# Adjective to J, Verb -> v, Adverb -> R\n",
    "# that means if you get a Pronoun then it would still be mapped to Noun\n",
    "\n",
    "\n",
    "for index,entry in enumerate(train['question_text']):\n",
    "    # Declaring Empty List to store the words that follow the rules for this step\n",
    "    Final_words = []\n",
    "    \n",
    "    # Initializing WordNetLemmatizer()\n",
    "    word_Lemmatized = WordNetLemmatizer()\n",
    "    \n",
    "    # pos_tag function below will provide the 'tag' \n",
    "    # i.e if the word is Noun(N) or Verb(V) or something else.\n",
    "    for word, tag in pos_tag(entry):\n",
    "        # Below condition is to check for Stop words and consider only \n",
    "        # alphabets\n",
    "        if word not in stopwords.words('english') and word.isalpha():\n",
    "            word_Final = word_Lemmatized.lemmatize(word,tag_map[tag[0]])\n",
    "            Final_words.append(word_Final)\n",
    "            \n",
    "    # The final processed set of words for each iteration will be stored \n",
    "    # in 'question_text_final'\n",
    "    train.loc[index,'question_text_final'] = str(Final_words)  \n",
    "    \n",
    "print(train.head())"
   ]
  },
  {
   "cell_type": "code",
   "execution_count": 36,
   "metadata": {
    "collapsed": false
   },
   "outputs": [
    {
     "name": "stderr",
     "output_type": "stream",
     "text": [
      "c:\\users\\dell\\appdata\\local\\programs\\python\\python36\\lib\\site-packages\\pandas\\core\\indexing.py:376: SettingWithCopyWarning: \n",
      "A value is trying to be set on a copy of a slice from a DataFrame.\n",
      "Try using .loc[row_indexer,col_indexer] = value instead\n",
      "\n",
      "See the caveats in the documentation: http://pandas.pydata.org/pandas-docs/stable/user_guide/indexing.html#returning-a-view-versus-a-copy\n",
      "  self.obj[key] = _infer_fill_value(value)\n",
      "c:\\users\\dell\\appdata\\local\\programs\\python\\python36\\lib\\site-packages\\pandas\\core\\indexing.py:494: SettingWithCopyWarning: \n",
      "A value is trying to be set on a copy of a slice from a DataFrame.\n",
      "Try using .loc[row_indexer,col_indexer] = value instead\n",
      "\n",
      "See the caveats in the documentation: http://pandas.pydata.org/pandas-docs/stable/user_guide/indexing.html#returning-a-view-versus-a-copy\n",
      "  self.obj[item] = s\n"
     ]
    },
    {
     "name": "stdout",
     "output_type": "stream",
     "text": [
      "                    qid                                      question_text  \\\n",
      "0  0000163e3ea7c7a74cd7  [why, do, so, many, women, become, so, rude, a...   \n",
      "1  00002bd4fb5d505b9161  [when, should, i, apply, for, rv, college, of,...   \n",
      "2  00007756b4a147d2b0b3  [what, is, it, really, like, to, be, a, nurse,...   \n",
      "3  000086e4b7e1c7146103                       [who, are, entrepreneurs, ?]   \n",
      "4  0000c4c3fbe8785a3090  [is, education, really, making, good, people, ...   \n",
      "\n",
      "   num_words  num_unique_words  num_stopwords  num_punctuations  \\\n",
      "0         21                19             11                 1   \n",
      "1         30                23             17                 2   \n",
      "2         10                10              6                 1   \n",
      "3          3                 3              2                 1   \n",
      "4          7                 7              1                 1   \n",
      "\n",
      "                                 question_text_final  \n",
      "0  ['many', 'woman', 'become', 'rude', 'arrogant'...  \n",
      "1  ['apply', 'rv', 'college', 'engineering', 'bms...  \n",
      "2        ['really', 'like', 'nurse', 'practitioner']  \n",
      "3                                   ['entrepreneur']  \n",
      "4  ['education', 'really', 'make', 'good', 'peopl...  \n"
     ]
    }
   ],
   "source": [
    "# step 3, 4 and 5\n",
    "# Remove Stop words and Numeric data \n",
    "# and perfom Word Stemming/Lemmenting.\n",
    "\n",
    "# WordNetLemmatizer requires Pos tags to understand if the word is noun or verb\n",
    "# or adjective etc. By default it is set to Noun\n",
    "tag_map = defaultdict(lambda : wn.NOUN)\n",
    "tag_map['J'] = wn.ADJ\n",
    "tag_map['V'] = wn.VERB\n",
    "tag_map['R'] = wn.ADV\n",
    "# the tag_map would map any tag to 'N' (Noun) except\n",
    "# Adjective to J, Verb -> v, Adverb -> R\n",
    "# that means if you get a Pronoun then it would still be mapped to Noun\n",
    "\n",
    "\n",
    "for index,entry in enumerate(test['question_text']):\n",
    "    # Declaring Empty List to store the words that follow the rules for this step\n",
    "    Final_words_test = []\n",
    "    \n",
    "    # Initializing WordNetLemmatizer()\n",
    "    word_Lemmatized = WordNetLemmatizer()\n",
    "    \n",
    "    # pos_tag function below will provide the 'tag' \n",
    "    # i.e if the word is Noun(N) or Verb(V) or something else.\n",
    "    for word, tag in pos_tag(entry):\n",
    "        # Below condition is to check for Stop words and consider only \n",
    "        # alphabets\n",
    "        if word not in stopwords.words('english') and word.isalpha():\n",
    "            word_Final = word_Lemmatized.lemmatize(word,tag_map[tag[0]])\n",
    "            Final_words_test.append(word_Final)\n",
    "            \n",
    "    # The final processed set of words for each iteration will be stored \n",
    "    # in 'question_text_final'\n",
    "    test.loc[index,'question_text_final'] = str(Final_words_test)    \n",
    "\n",
    "print(test.head())"
   ]
  },
  {
   "cell_type": "code",
   "execution_count": 37,
   "metadata": {
    "collapsed": true
   },
   "outputs": [],
   "source": [
    "Tfidf_vect = TfidfVectorizer()\n",
    "Tfidf_vect.fit(train['question_text_final'])\n",
    "\n",
    "Train_X_Tfidf = Tfidf_vect.transform(train['question_text_final'])\n",
    "\n",
    "Test_X_Tfidf = Tfidf_vect.transform(test['question_text_final'])"
   ]
  },
  {
   "cell_type": "code",
   "execution_count": 38,
   "metadata": {
    "collapsed": false
   },
   "outputs": [
    {
     "name": "stdout",
     "output_type": "stream",
     "text": [
      "{'quebec': 5164, 'nationalist': 4308, 'see': 5665, 'province': 5101, 'nation': 4305, 'adopt': 98, 'dog': 1849, 'would': 7040, 'encourage': 2083, 'people': 4745, 'shop': 5768, 'velocity': 6781, 'affect': 125, 'time': 6428, 'space': 5958, 'geometry': 2653, 'otto': 4583, 'von': 6867, 'guericke': 2786, 'use': 6733, 'magdeburg': 3848, 'hemisphere': 2900, 'convert': 1386, 'montra': 4192, 'helicon': 2893, 'mountain': 4225, 'bike': 681, 'change': 1056, 'tyre': 6613, 'gaza': 2627, 'slowly': 5874, 'become': 600, 'auschwitz': 467, 'dachau': 1553, 'treblinka': 6537, 'palestinian': 4645, 'quora': 5176, 'automatically': 480, 'ban': 539, 'conservative': 1336, 'opinion': 4538, 'report': 5372, 'liberal': 3690, 'view': 6816, 'crazy': 1455, 'wash': 6902, 'wipe': 6996, 'grocery': 2776, 'germ': 2658, 'everywhere': 2209, 'thing': 6392, 'dress': 1898, 'moderately': 4154, 'different': 1742, 'modestly': 4158, 'ever': 2201, 'phase': 4786, 'wherein': 6960, 'ignorant': 3076, 'love': 3802, 'completely': 1280, 'disregard': 1812, 'get': 2666, 'something': 5934, 'go': 2705, 'way': 6912, 'feel': 2369, 'temporarily': 6348, 'ease': 1961, 'say': 5595, 'feminism': 2377, 'calgary': 915, 'flame': 2447, 'found': 2517, 'dumbest': 1930, 'yet': 7078, 'possibly': 4932, 'true': 6566, 'explanation': 2271, 'trump': 6568, 'elect': 2026, 'external': 2286, 'hard': 2845, 'disk': 1804, 'well': 6941, 'data': 1573, 'live': 3754, 'home': 2950, 'boyfriend': 794, 'progress': 5057, 'situation': 5843, 'know': 3540, 'bram': 801, 'fischer': 2436, 'rivonia': 5471, 'trial': 6543, 'difficult': 1747, 'find': 2423, 'good': 2720, 'instructor': 3229, 'take': 6280, 'class': 1150, 'near': 4327, 'lick': 3697, 'skin': 5854, 'corpse': 1410, 'think': 6393, 'amazon': 232, 'house': 2987, 'approach': 341, 'manufacture': 3911, 'similar': 5816, 'tesla': 6365, 'business': 886, 'model': 4152, 'many': 3913, 'barony': 563, 'might': 4086, 'exist': 2252, 'within': 7008, 'county': 1437, 'palatine': 4643, 'whether': 6961, 'girl': 2681, 'do': 1840, 'sex': 5726, 'fast': 2341, 'learner': 3643, 'professional': 5045, 'career': 972, 'personal': 4771, 'life': 3699, 'united': 6682, 'state': 6059, 'large': 3608, 'dictatorship': 1733, 'world': 7033, 'strange': 6105, 'phenomenon': 4790, 'witness': 7010, 'generate': 2637, 'area': 364, 'electronics': 2035, 'term': 6357, 'modern': 4156, 'physic': 4812, 'leave': 3651, 'friend': 2560, 'new': 4362, 'one': 4521, 'make': 3876, 'alexa': 183, 'trigger': 6548, 'event': 2198, 'browser': 846, 'two': 6605, 'democracy': 1646, 'never': 4361, 'full': 2582, 'fledge': 2452, 'war': 6894, 'stop': 6098, 'top': 6467, 'cbse': 1011, 'month': 4190, 'visit': 6841, 'mcleodganj': 3983, 'triund': 6556, 'trek': 6539, 'military': 4094, 'submarine': 6146, 'reduce': 5295, 'noise': 4403, 'achieve': 55, 'stealth': 6073, 'baby': 503, 'sweet': 6244, 'parent': 4668, 'dark': 1570, 'light': 3706, 'remove': 5356, 'black': 719, 'head': 2871, 'nose': 4426, 'lightsabers': 3709, 'create': 1458, 'individual': 3159, 'wielders': 6979, 'saber': 5539, 'unique': 6680, 'anyone': 313, 'still': 6089, 'visual': 6842, 'basic': 570, 'worth': 7039, 'learn': 3642, 'job': 3412, 'programmer': 5055, 'sykes': 6254, 'enterprise': 2113, 'clear': 1163, 'relation': 5330, 'number': 4454, 'computational': 1292, 'performance': 4756, 'requirement': 5383, 'fea': 2359, 'cfd': 1038, 'analysis': 257, 'ansys': 300, 'solution': 5926, 'particular': 4680, 'package': 4625, 'isc': 3327, 'since': 5826, 'may': 3975, 'update': 6707, 'great': 2764, 'wit': 7002, 'mean': 3989, 'experience': 2266, 'work': 7026, 'realtor': 5255, 'wish': 7001, 'charge': 1065, 'contact': 1362, 'public': 5115, 'school': 5619, 'teacher': 6319, 'vacation': 6746, 'whenever': 6958, 'ask': 404, 'role': 5491, 'technology': 6328, 'resource': 5399, 'opt': 4548, 'jaypee': 3383, 'university': 6686, 'guna': 2798, 'mechanical': 3995, 'engineering': 2098, 'download': 1878, 'microsoft': 4079, 'word': 7023, 'window': 6989, 'hungarian': 3012, 'need': 4331, 'buy': 891, 'car': 962, 'south': 5949, 'africa': 133, 'american': 239, 'someone': 5933, 'enjoy': 2102, 'harry': 2850, 'potter': 4943, 'order': 4561, 'phoenix': 4799, 'movie': 4229, 'least': 3649, 'book': 770, 'write': 7048, 'style': 6135, 'resist': 5395, 'prince': 5010, 'charm': 1069, 'linda': 3717, 'kage': 3466, 'mother': 4212, 'expect': 2261, 'memorize': 4028, 'usernames': 6738, 'password': 4691, 'responsible': 5404, 'college': 1230, 'year': 7074, 'kid': 3508, 'fool': 2486, 'kill': 3514, 'bubble': 857, 'decide': 1608, 'travel': 6532, 'portable': 4920, 'computer': 1293, 'science': 5624, 'student': 6127, 'final': 2417, 'project': 5060, 'outside': 4591, 'rather': 5229, 'education': 1996, 'system': 6270, 'really': 5253, 'week': 6932, 'shorten': 5773, 'period': 4760, 'risk': 5466, 'calead': 912, 'leap': 3641, 'day': 1581, 'rid': 5452, 'spleen': 6003, 'enlargement': 2105, 'machine': 3842, 'technique': 6326, 'extract': 2290, 'metadata': 4054, 'font': 2483, 'color': 1238, 'size': 5845, 'indentation': 3146, 'alignment': 193, 'document': 1846, 'file': 2410, 'integrate': 3235, 'web': 6924, 'application': 336, 'hitch': 2936, 'smith': 5883, 'asks': 405, 'dance': 1565, 'much': 4240, 'india': 3149, 'act': 63, 'special': 5974, 'sport': 6007, 'like': 3710, 'dna': 1838, 'rna': 5473, 'compare': 1270, 'contrast': 1376, 'break': 811, 'shoot': 5766, 'arm': 368, 'knife': 3537, 'happen': 2840, 'biography': 696, 'gianni': 2672, 'versace': 6795, 'extroverted': 2294, 'faster': 2342, 'process': 5031, 'expel': 2263, 'information': 3186, 'introvert': 3273, 'recognize': 5275, 'place': 4833, 'far': 2334, 'price': 5004, 'comparison': 1271, 'websites': 6928, 'financial': 2421, 'service': 5712, 'rag': 5199, 'nift': 4378, 'bangalore': 545, 'bad': 518, 'review': 5432, 'bahubali': 522, 'imdb': 3099, 'swallow': 6235, 'listerine': 3742, 'dangerous': 1567, 'theory': 6386, 'critical': 1478, 'thinking': 6394, 'big': 679, 'problem': 5027, 'question': 5168, 'doubt': 1873, 'come': 1248, 'across': 62, 'try': 6574, 'choose': 1109, 'paint': 4635, 'room': 5504, 'cheap': 1075, 'flight': 2455, 'edinburgh': 1992, 'china': 1098, 'chick': 1090, 'send': 5684, 'picture': 4818, 'email': 2052, 'ebay': 1971, 'allow': 202, 'sale': 5556, 'wwii': 7057, 'purple': 5140, 'heart': 2881, 'medal': 3997, 'even': 2196, 'though': 6398, 'category': 1004, 'specifically': 5981, 'characteristic': 1063, 'define': 1625, 'isovolumetric': 3339, 'relaxation': 5335, 'cybersecurity': 1547, 'overseas': 4605, 'developer': 1711, 'refer': 5298, 'standard': 6050, 'practice': 4953, 'internet': 3259, 'rely': 5344, 'everything': 2207, 'itc': 3347, 'levy': 3685, 'bank': 550, 'muhammed': 4244, 'provide': 5099, 'food': 2484, 'test': 6366, 'lab': 3576, 'certified': 1037, 'ok': 4511, 'solo': 5923, 'whole': 6970, 'pretend': 4993, 'unwanted': 6703, 'owner': 4612, 'current': 1529, 'youtube': 7087, 'account': 46, 'original': 4572, 'let': 3678, 'access': 39, 'anything': 314, 'archer': 362, 'character': 1062, 'animate': 281, 'base': 566, 'celebrity': 1018, 'best': 649, 'propose': 5079, 'without': 7009, 'annoy': 292, 'million': 4099, 'solar': 5916, 'power': 4948, 'recommended': 5282, 'game': 2610, 'engine': 2095, 'beginning': 614, 'python': 5153, 'teleological': 6339, 'pantheism': 4652, 'aircraft': 158, 'propulsion': 5081, 'country': 1436, 'freedom': 2540, 'speech': 5985, 'par': 4654, 'lead': 3634, 'red': 5290, 'terror': 6362, 'ethiopia': 2179, 'pen': 4735, 'low': 3805, 'cost': 1422, 'sort': 5944, 'trust': 6570, 'facebook': 2303, 'page': 4630, 'website': 6927, 'improve': 3127, 'piano': 4816, 'skill': 5852, 'keep': 3484, 'piece': 4819, 'effective': 2002, 'wear': 6922, 'insulin': 3230, 'pump': 5122, 'lot': 3794, 'nick': 4377, 'jonas': 3428, 'date': 1576, 'selena': 5674, 'gomez': 2717, 'difference': 1741, 'several': 5720, 'zero': 7101, 'miss': 4131, 'turkey': 6590, 'seperated': 5698, 'give': 2686, 'land': 3594, 'kurds': 3567, 'foreign': 2494, 'usa': 6728, 'future': 2598, 'sq': 6019, 'equal': 2136, 'sing': 5829, 'song': 5938, 'chronicle': 1120, 'replace': 5368, 'supply': 6199, 'chain': 1044, 'solve': 5927, 'sin': 5824, 'demerit': 1644, 'excellence': 2232, 'academic': 33, 'pursuit': 5145, 'indian': 3150, 'melbourne': 4019, 'australia': 469, 'physicist': 4815, 'mathematician': 3962, 'scientist': 5626, 'philosopher': 4794, 'david': 1579, 'deutsch': 1706, 'old': 4514, 'scripture': 5644, 'eastern': 1965, 'culture': 1522, 'appear': 331, 'lose': 3791, 'hate': 2862, 'mind': 4103, 'habit': 2808, 'procrastination': 5035, 'relationship': 5332, 'napoleon': 4294, 'ali': 188, 'pasha': 4687, 'tepelene': 6356, 'presynaptic': 4992, 'neuron': 4355, 'narcissist': 4295, 'punish': 5127, 'child': 1092, 'back': 508, 'start': 6057, 'freelance': 2541, 'finish': 2427, 'udacity': 6625, 'android': 271, 'nanodegree': 4293, 'reason': 5256, 'bitcoin': 713, 'long': 3782, 'journey': 3436, 'support': 6200, 'choice': 1106, 'mandatory': 3892, 'sentencing': 5693, 'criminal': 1474, 'vote': 6869, 'republican': 5378, 'add': 78, 'thrice': 6406, 'rational': 5232, 'four': 2520, 'movement': 4228, 'symphony': 6260, 'typically': 6610, 'form': 2503, 'second': 5658, 'various': 6766, 'stock': 6092, 'exchange': 2237, 'gay': 2625, 'boy': 793, 'cousin': 1443, 'sexy': 5730, 'dont': 1863, 'hot': 2981, 'want': 6893, 'race': 5186, 'small': 5878, 'penis': 4742, 'architecture': 363, 'microarchitecture': 4076, 'instruction': 3228, 'set': 5716, 'isa': 3324, 'iphone': 3304, 'user': 6737, 'psychologically': 5107, 'trap': 6531, 'brand': 804, 'naming': 4292, 'avoid': 487, 'complain': 1277, 'reasonable': 5257, 'feature': 2364, 'battery': 578, 'lack': 3581, 'flagship': 2446, 'semester': 5682, 'ontario': 4527, 'female': 2374, 'ugly': 6629, 'flour': 2462, 'homemade': 2953, 'chili': 1096, 'advice': 113, 'accomplish': 43, 'overcome': 4596, 'extreme': 2292, 'fear': 2360, 'insect': 3209, 'bug': 864, 'example': 2229, 'durable': 1938, 'glove': 2696, 'move': 4227, 'mile': 4092, 'towards': 6485, 'oppostie': 4543, 'direction': 1775, 'distance': 1816, 'apps': 349, 'maximum': 3973, 'header': 2872, 'dataset': 1575, 'notice': 4433, 'print': 5014, 'first': 2435, 'anyway': 315, 'marry': 3936, 'woman': 7017, 'green': 2768, 'card': 967, 'company': 1269, 'look': 3784, 'recruit': 5287, 'expat': 2260, 'nationality': 4310, 'candidate': 947, 'play': 4853, 'huge': 2998, 'transcranial': 6507, 'magnetic': 3853, 'stimulation': 6090, 'tm': 6445, 'increase': 3143, 'cognitive': 1214, 'george': 2655, 'washington': 6903, 'free': 2539, 'slave': 5863, 'revolutionary': 5436, 'policy': 4885, 'embassy': 2054, 'deny': 1658, 'citizen': 1139, 'entry': 2122, 'party': 4684, 'energy': 2091, 'meter': 4059, 'periodically': 4762, 'stationery': 6062, 'office': 4501, 'vs': 6873, 'regular': 5318, 'genuine': 2648, 'aviation': 486, 'nonprofit': 4410, 'organization': 4567, 'treat': 6534, 'employee': 2073, 'badly': 519, 'procedure': 5029, 'invest': 3286, 'mutual': 4271, 'fund': 2588, 'osn': 4580, 'aesthetically': 121, 'please': 4859, 'shade': 5731, 'wise': 7000, 'calcutta': 910, 'prepare': 4978, 'cat': 994, 'politician': 4891, 'leech': 3655, 'sponsor': 6006, 'regime': 5312, 'north': 4420, 'korea': 3554, 'european': 2190, 'superior': 6193, 'fact': 2308, 'mid': 4082, 'century': 1032, 'surpass': 6216, 'economy': 1986, 'cytoplasm': 1551, 'build': 865, 'inside': 3211, 'lip': 3729, 'app': 325, 'multiple': 4248, 'programming': 5056, 'language': 3599, 'ide': 3058, 'neighborhood': 4337, 'chuncheon': 1124, 'varanasi': 6763, 'wrongfully': 7052, 'jump': 3449, 'conclusion': 1301, 'troubleshoot': 6563, 'printer': 5015, 'unfair': 6673, 'men': 4031, 'duty': 1942, 'nsf': 4443, 'spinoff': 5998, 'nsfnet': 4444, 'help': 2896, 'sun': 6183, 'microsystem': 4080, 'tourist': 6483, 'drastically': 1891, 'louisville': 3799, 'list': 3738, 'ranking': 5219, 'julius': 3447, 'caesar': 899, 'bring': 827, 'tyrannosaurus': 6612, 'rex': 5442, 'campaign': 933, 'frighten': 2565, 'celt': 1023, 'submission': 6147, 'mercury': 4041, 'debilitate': 1598, 'dasa': 1572, 'simha': 5815, 'lagna': 3587, 'driver': 1904, 'globalisation': 2692, 'high': 2917, 'emotional': 2067, 'intelligence': 3241, 'mainstream': 3869, 'fashion': 2340, 'cause': 1008, 'force': 2490, 'magnet': 3852, 'nike': 4386, 'football': 2488, 'towel': 6486, 'win': 6987, 'anizara': 284, 'dragon': 1885, 'ball': 533, 'super': 6189, 'anime': 283, 'episode': 2132, 'mystic': 4278, 'gohan': 2710, 'phone': 4800, 'fault': 2352, 'teen': 6331, 'daughter': 1578, 'social': 5902, 'anxiety': 310, 'sunil': 6185, 'raju': 5208, 'absent': 22, 'today': 6449, 'appropriate': 343, 'manner': 3905, 'backing': 512, 'right': 5457, 'hypocritical': 3035, 'actually': 72, 'restrict': 5408, 'ability': 8, 'law': 3624, 'europeans': 2191, 'continue': 1369, 'participate': 4678, 'arab': 356, 'destruction': 1695, 'israel': 3340, 'jew': 3398, 'god': 2708, 'defend': 1623, 'conversation': 1384, 'php': 4809, 'framework': 2527, 'olx': 4515, 'forensic': 2496, 'psychologist': 5108, 'fortnite': 2510, 'lag': 3586, 'everytime': 2208, 'fight': 2404, 'neurotransmitter': 4356, 'puppy': 5134, 'hyper': 3031, 'jhargram': 3403, 'birbhum': 706, 'safe': 5545, 'winter': 6995, 'terrorist': 6364, 'discover': 1794, 'instantly': 3224, 'paw': 4711, 'powerbank': 4949, 'average': 485, 'nfl': 4369, 'team': 6321, 'obtain': 4484, 'kicker': 3507, 'could': 1426, 'consistently': 1343, 'field': 2402, 'goal': 2707, 'yard': 7072, 'bowl': 787, 'earn': 1954, 'trading': 6496, 'derivative': 1676, 'market': 3926, 'timing': 6429, 'html': 2994, 'cs': 1505, 'lingayats': 3720, 'bury': 882, 'dead': 1587, 'burn': 879, 'hindu': 2927, 'therapist': 6387, 'regard': 5310, 'mental': 4033, 'health': 2876, 'issue': 3344, 'remain': 5345, 'useful': 6735, 'honda': 2964, 'step': 6078, 'wgn': 6947, 'mileage': 4093, 'sign': 5799, 'singaporean': 5831, 'british': 832, 'australian': 470, 'accent': 36, 'pokémon': 4879, 'diamond': 1730, 'mt': 4236, 'coronet': 1407, 'merchant': 4040, 'track': 6494, 'smoke': 5885, 'cleave': 1164, 'cigarette': 1128, 'harmful': 2848, 'arnab': 377, 'goswami': 2731, 'able': 10, 'ignore': 3077, 'defamation': 1620, 'case': 985, 'kejriwal': 3487, 'drag': 1884, 'court': 1440, 'everyday': 2205, 'institute': 3226, 'hadoop': 2813, 'course': 1439, 'chandigarh': 1055, 'clipboard': 1176, 'rich': 5449, 'claim': 1147, 'reservation': 5387, 'conscience': 1329, 'instance': 3223, 'medieval': 4005, 'latin': 3617, 'text': 6369, 'later': 3616, 'translate': 6519, 'classical': 1152, 'purpose': 5141, 'location': 3767, 'investment': 3290, 'gurgaon': 2799, 'husband': 3020, 'myopia': 4274, 'prevent': 4998, 'conceive': 1296, 'possible': 4931, 'fighter': 2405, 'jet': 3397, 'airforce': 159, 'directory': 1778, 'linux': 3727, 'megabites': 4015, 'interview': 3263, 'idea': 3059, 'shirt': 5760, 'suit': 6175, 'white': 6967, 'every': 2203, 'stammering': 6045, 'melodious': 4021, 'voice': 6857, 'five': 2441, 'type': 6606, 'foul': 2516, 'basetball': 569, 'canadian': 939, 'zealander': 7099, 'consider': 1337, 'separate': 5696, 'speak': 5969, 'changer': 1057, 'redmi': 5293, 'note': 4431, 'point': 4876, 'stay': 6068, 'frequency': 2548, 'division': 1830, 'fdma': 2358, 'line': 3718, 'vb': 6770, 'explain': 2270, 'funeral': 2593, 'honey': 2966, 'singh': 5833, 'justin': 3460, 'bieber': 677, 'fall': 2322, 'floor': 2459, 'survive': 6221, 'laugh': 3621, 'loud': 3796, 'hold': 2941, 'license': 3696, 'mandated': 3891, 'reporter': 5373, 'emergency': 2056, 'occur': 4488, 'guru': 2800, 'granth': 2754, 'sahib': 5548, 'punjabi': 5131, 'ruin': 5522, 'man': 3884, 'falsly': 2325, 'accuse': 52, 'violence': 6826, 'fort': 2508, 'louis': 3798, 'pondicherry': 4904, 'name': 4289, 'nootropics': 4412, 'stack': 6038, 'balance': 530, 'accept': 37, 'msc': 4234, 'université': 6687, 'de': 1585, 'montréal': 4194, 'introduction': 3272, 'gst': 2782, 'meaning': 3990, 'left': 3656, 'retail': 5413, 'product': 5039, 'tax': 6311, 'minority': 4116, 'voilent': 6858, 'poeple': 4872, 'diffrent': 1749, 'poltical': 4895, 'beleifs': 620, 'sentence': 5692, 'imprison': 3125, 'savegely': 5591, 'attack': 440, 'trillion': 6550, 'dollar': 1854, 'enough': 2108, 'starship': 6056, 'mat': 3956, 'alligator': 200, 'meetic': 4012, 'publicly': 5117, 'quote': 5182, 'avro': 488, 'orc': 4556, 'neil': 4339, 'armstrong': 375, 'telemundo': 6337, 'film': 2414, 'telenovelas': 6338, 'mexico': 4066, 'although': 218, 'headquarters': 2874, 'florida': 2461, 'return': 5424, 'vehicle': 6777, 'psu': 5103, 'join': 3421, 'oil': 4509, 'ongc': 4523, 'select': 5672, 'profile': 5050, 'pay': 4712, 'psus': 5104, 'prefer': 4962, 'undervalued': 6663, 'impact': 3109, 'main': 3867, 'carbohydrate': 964, 'human': 3000, 'diet': 1738, 'admit': 94, 'president': 4986, 'congress': 1321, 'pass': 4688, 'legislation': 3662, 'daca': 1552, 'protect': 5088, 'dreamer': 1896, 'eee': 2000, 'branch': 803, 'manipal': 3901, 'pick': 4817, 'coding': 1210, 'related': 5329, 'subject': 6143, 'minor': 4115, 'money': 4172, 'launch': 3622, 'consult': 1354, 'firm': 2434, 'blanket': 724, 'plug': 4862, 'night': 4382, 'disable': 1783, 'source': 5948, 'procurement': 5036, 'folk': 2475, 'crm': 1481, 'salesforce': 5558, 'manage': 3885, 'contract': 1374, 'almost': 206, 'always': 222, 'ejaculation': 2020, 'erection': 2149, 'normal': 4415, 'srinagar': 6027, 'garhwal': 2620, 'plagiarism': 4835, 'talk': 6286, 'pain': 4633, 'dry': 1914, 'fruit': 2573, 'hyderabad': 3024, 'spend': 5988, 'invite': 3295, 'tell': 6341, 'weird': 6938, 'install': 3219, 'usb': 6731, 'performix': 4757, 'sst': 6034, 'fat': 2343, 'burner': 880, 'icy': 3055, 'cold': 1221, 'water': 6906, 'hand': 2830, 'gulenist': 2795, 'falsely': 2324, 'crime': 1473, 'commit': 1259, 'oppress': 4544, 'felt': 2373, 'escape': 2158, 'eternal': 2175, 'torment': 6473, 'germinate': 2663, 'hen': 2901, 'poppy': 4909, 'major': 3874, 'chance': 1054, 'artist': 394, 'photo': 4801, 'robot': 5481, 'york': 7085, 'city': 1141, 'run': 5526, 'woe': 7013, 'venuas': 6789, 'moon': 4198, 'cry': 1498, 'sadness': 5544, 'grow': 2781, 'presidency': 4985, 'scope': 5629, 'communication': 1265, 'april': 350, 'barack': 558, 'obama': 4467, 'leverage': 3683, 'borrow': 781, 'viable': 6804, 'option': 4551, 'projector': 5063, 'rupee': 5528, 'scary': 5611, 'gravitational': 2761, 'wave': 6910, 'transmitter': 6524, 'antenna': 302, 'rle': 5472, 'international': 3257, 'chennai': 1083, 'development': 1712, 'watch': 6905, 'video': 6812, 'knowledge': 3542, 'read': 5244, 'medium': 4009, 'outcome': 4586, 'suppose': 6203, 'guy': 2801, 'collaboration': 1223, 'chicken': 1091, 'breed': 821, 'produce': 5038, 'extra': 2289, 'yolk': 7084, 'regardless': 5311, 'egg': 2009, 'settle': 5718, 'germany': 2661, 'easy': 1967, 'value': 6756, 'voter': 6870, 'summit': 6181, 'presidential': 4987, 'endorsement': 2086, 'homophobia': 2960, 'group': 2778, 'organic': 4565, 'chemistry': 1082, 'diff': 1739, 'serotype': 5709, 'biotype': 703, 'bacteria': 517, 'component': 1286, 'transition': 6518, 'japanese': 3376, 'culturally': 1521, 'diverse': 1826, 'neither': 4340, 'destroy': 1694, 'admission': 93, 'ipu': 3308, 'llb': 3758, 'divorce': 1831, 'narcissistic': 4296, 'ex': 2220, 'sell': 5677, 'explode': 2273, 'redecorate': 5292, 'late': 3615, 'poor': 4906, 'etc': 2174, 'chemical': 1080, 'romance': 5495, 'elvis': 2050, 'presley': 4988, 'romantic': 5498, 'possibility': 4930, 'weather': 6923, 'silent': 5808, 'hurricane': 3018, 'factory': 2310, 'reset': 5390, 'macbook': 3839, 'leader': 3635, 'iran': 3312, 'ago': 144, 'fake': 2320, 'tomás': 6460, 'torquemada': 6476, 'program': 5054, 'open': 4532, 'software': 5914, 'laser': 3612, 'blavk': 726, 'around': 379, 'spicy': 5995, 'italian': 3345, 'recipe': 5271, 'productivity': 5042, 'income': 3139, 'closed': 1182, 'jerk': 3394, 'online': 4525, 'background': 511, 'check': 1078, 'prompt': 5067, 'billing': 684, 'rattlesnake': 5234, 'deserve': 1682, 'happiness': 2842, 'control': 1380, 'due': 1923, 'unlocked': 6693, 'door': 1868, 'among': 247, 'strenghts': 6113, 'preschool': 4981, 'possess': 4929, 'society': 5906, 'react': 5241, 'nda': 4326, 'intelligent': 3242, 'sad': 5543, 'age': 138, 'biological': 697, 'researcher': 5385, 'count': 1432, 'dooku': 1866, 'sith': 5842, 'lord': 3787, 'success': 6156, 'effort': 2007, 'territory': 6361, 'aboriginal': 14, 'bodhi': 753, 'animal': 279, 'legally': 3660, 'link': 3724, 'anymore': 312, 'input': 3206, 'subsidy': 6151, 'exciting': 2240, 'essay': 2165, 'pakistan': 4641, 'pas': 4685, 'sikh': 5805, 'marriage': 3932, 'another': 298, 'hello': 2895, 'living': 3756, 'ghetto': 2671, 'christian': 1115, 'devotional': 1718, 'working': 7029, 'septic': 5700, 'tank': 6295, 'overflow': 4598, 'survivor': 6222, 'family': 2327, 'victim': 6808, 'esp': 2163, 'fire': 2430, 'middle': 4083, 'easterner': 1966, 'nomad': 4405, 'mongol': 4176, 'eat': 1969, 'meal': 3988, 'psychology': 5109, 'listen': 3740, 'kpop': 3559, 'music': 4263, 'nationalism': 4307, 'tinting': 6432, 'greenville': 2770, 'sc': 5598, 'hr': 2992, 'shoulder': 5778, 'corporate': 1408, 'bond': 763, 'tip': 6433, 'raymond': 5237, 'james': 3372, 'last': 3614, 'layer': 3628, 'stubborn': 6126, 'apply': 337, 'junior': 3452, 'isro': 3342, 'creative': 1461, 'train': 6502, 'raccoon': 5185, 'forgive': 2501, 'catch': 999, 'favorite': 2354, 'celibrity': 1021, 'lifetime': 3704, 'fantasy': 2333, 'pirate': 4828, 'content': 1365, 'violation': 6825, 'precept': 4960, 'buddhism': 860, 'arrange': 380, 'previous': 5002, 'generation': 2638, 'entire': 2115, 'duration': 1939, 'occam': 4485, 'razor': 5238, 'tackle': 6275, 'obsession': 4481, 'advantage': 107, 'disadvantage': 1784, 'automatic': 479, 'headlamp': 2873, 'aho': 151, 'especially': 2164, 'wheeler': 6957, 'daily': 1559, 'ecomonic': 1979, 'condition': 1308, 'personality': 4772, 'manga': 3896, 'draw': 1892, 'manual': 3910, 'script': 5643, 'detail': 1696, 'important': 3120, 'battle': 580, 'kyber': 3574, 'token': 6453, 'oct': 4491, 'taskbar': 6306, 'respond': 5402, 'answer': 299, 'image': 3094, 'blog': 737, 'credit': 1465, 'author': 473, 'republicans': 5379, 'government': 2735, 'fit': 2438, 'parliament': 4673, 'abolish': 13, 'topik': 6471, 'exam': 2225, 'steak': 6071, 'dis': 1781, 'mongodb': 4174, 'server': 5711, 'mongodump': 4175, 'mongorestore': 4180, 'hesitate': 2912, 'humiliate': 3005, 'hindi': 2926, 'ese': 2160, 'civil': 1144, 'mark': 3923, 'ingredio': 3192, 'milk': 4095, 'shake': 5735, 'transient': 6515, 'voltage': 6862, 'bass': 574, 'poem': 4870, 'ramayana': 5210, 'ancient': 266, 'epic': 2128, 'literature': 3747, 'muslim': 4266, 'happy': 2843, 'jihad': 3405, 'suffer': 6166, 'rule': 5524, 'investigation': 3288, 'tool': 6465, 'police': 4883, 'famous': 2328, 'polygamist': 4899, 'indonesia': 3160, 'trusted': 6571, 'site': 5841, 'scholarship': 5618, 'score': 5630, 'history': 2934, 'graduation': 2746, 'lecture': 3652, 'neet': 4333, 'pg': 4782, 'mbbs': 3979, 'bachelor': 507, 'queensland': 5166, 'rise': 5465, 'sectional': 5661, 'percentile': 4749, 'lrdi': 3809, 'di': 1722, 'english': 2100, 'scientific': 5625, 'research': 5384, 'publish': 5118, 'amount': 248, 'alternative': 216, 'funding': 2592, 'quality': 5158, 'bushfires': 885, 'clean': 1158, 'remington': 5351, 'woodmaster': 7020, 'officer': 4502, 'administrative': 91, 'joe': 3417, 'negotiate': 4335, 'inequality': 3169, 'revit': 5433, 'primary': 5006, 'stress': 6116, 'disorder': 1807, 'soy': 5955, 'latte': 3619, 'healthy': 2877, 'drink': 1901, 'deployed': 1664, 'army': 376, 'ranger': 5216, 'steam': 6074, 'gift': 2676, 'clutch': 1193, 'activa': 65, 'compliance': 1283, 'exceptionally': 2235, 'profound': 5053, 'dominant': 1858, 'verbal': 6792, 'weight': 6935, 'laptop': 3605, 'attract': 448, 'confirmation': 1317, 'hour': 2986, 'lawyer': 3626, 'samsung': 5563, 'galaxy': 2605, 'edge': 1991, 'pc': 4718, 'flash': 2448, 'drive': 1903, 'fix': 2442, 'stalin': 6044, 'thought': 6399, 'era': 2143, 'soviet': 5952, 'union': 6679, 'spartan': 5967, 'roman': 5494, 'reply': 5371, 'little': 3751, 'jocularly': 3415, 'analyst': 258, 'cricket': 1472, 'deoxyribose': 1659, 'ribose': 5446, 'sugar': 6168, 'mom': 4168, 'son': 5937, 'dear': 1593, 'zindagi': 7103, 'oprah': 4547, 'pope': 4908, 'curse': 1531, 'mba': 3978, 'suitable': 6176, 'doctor': 1843, 'private': 5020, 'conquer': 1327, 'ireland': 3315, 'fail': 2313, 'scotland': 5633, 'gas': 2622, 'station': 6061, 'ladder': 3584, 'operator': 4537, 'method': 4060, 'determine': 1703, 'eigenvalue': 2015, 'quantum': 5162, 'harmonic': 2849, 'oscillator': 4579, 'xrp': 7065, 'gain': 2604, 'mass': 3945, 'adoption': 99, 'likely': 3711, 'native': 4311, 'spain': 5962, 'coffee': 1213, 'productive': 5041, 'advanced': 106, 'currently': 1530, 'extinct': 2287, 'lapse': 3604, 'plane': 4839, 'heathrow': 2885, 'airport': 162, 'royal': 5517, 'guard': 2784, 'exclude': 2241, 'uber': 6617, 'airbnb': 157, 'referral': 5300, 'hear': 2878, 'conflict': 1318, 'suhrawardy': 6171, 'bhashani': 665, 'airticket': 166, 'amadeus': 224, 'ca': 894, 'businessman': 887, 'weed': 6931, 'antidepressant': 308, 'instagram': 3218, 'past': 4692, 'must': 4268, 'textbook': 6370, 'philosophical': 4795, 'logic': 3772, 'absolute': 23, 'beginner': 613, 'sri': 6026, 'lankan': 3602, 'understand': 6661, 'ltte': 3813, 'benefit': 636, 'lanka': 3601, 'ill': 3087, 'intention': 3246, 'consume': 1358, 'educational': 1997, 'material': 3959, 'follower': 2479, 'anonymous': 296, 'anonymity': 295, 'lady': 3585, 'macbeth': 3838, 'plan': 4838, 'duncan': 1932, 'shakespeare': 5736, 'gulf': 2796, 'post': 4933, 'democratic': 1648, 'personally': 4774, 'superstition': 6196, 'blindly': 732, 'believe': 625, 'educate': 1995, 'convince': 1388, 'develop': 1709, 'instead': 3225, 'swift': 6246, 'mindset': 4106, 'motif': 4213, 'westerner': 6945, 'isi': 3329, 'delivery': 1640, 'partner': 4682, 'lsi': 3810, 'corporation': 1409, 'constantly': 1347, 'uneasy': 6668, 'split': 6004, 'squat': 6024, 'lunge': 3827, 'entrepreneurship': 2121, 'art': 386, 'bamford': 538, 'imucet': 3130, 'seem': 5669, 'empowerment': 2077, 'auditor': 462, 'dialect': 1726, 'unstressed': 6699, 'precede': 4959, 'blender': 730, 'nasalized': 4303, 'tap': 6296, 'nɖ': 4465, 'nɾ': 4466, 'dropping': 1910, 'merger': 4043, 'meet': 4011, 'heaven': 2886, 'john': 3418, 'diggle': 1751, 'arrow': 385, 'crisis': 1475, 'conclusively': 1302, 'show': 5780, 'mantle': 3907, 'william': 6984, 'necessary': 4330, 'disclose': 1790, 'salary': 5555, 'employer': 2074, 'optionals': 4552, 'pcs': 4722, 'relational': 5331, 'algebra': 185, 'basis': 571, 'database': 1574, 'structural': 6122, 'shift': 5755, 'discussion': 1799, 'deviantart': 1715, 'fetish': 2387, 'prevalent': 4997, 'moderate': 4153, 'tyrannical': 6611, 'mail': 3865, 'july': 3448, 'kind': 3519, 'therapy': 6388, 'forget': 2500, 'memory': 4029, 'hypnosis': 3033, 'perfecty': 4754, 'hit': 2935, 'single': 5834, 'easily': 1962, 'stuter': 6134, 'breathe': 820, 'superhero': 6192, 'beat': 595, 'superman': 6194, 'strong': 6120, 'maverick': 3971, 'indecisive': 3144, 'person': 4770, 'trade': 6495, 'copanies': 1399, 'demographic': 1649, 'customer': 1539, 'magic': 3851, 'lucas': 3814, 'sequence': 5701, 'fibonacci': 2397, 'hunch': 3010, 'turn': 6594, 'smart': 5879, 'crack': 1448, 'jee': 3389, 'advance': 105, 'air': 156, 'study': 6130, 'political': 4889, 'fumbling': 2584, 'recognizable': 5274, 'short': 5771, 'story': 6101, 'shave': 5746, 'hair': 2815, 'leg': 3658, 'real': 5249, 'wordpress': 7025, 'follow': 2478, 'loan': 3762, 'director': 1777, 'nri': 4442, 'sox': 5954, 'series': 5705, 'netherlands': 4348, 'call': 918, 'dutch': 1940, 'asian': 402, 'mask': 3944, 'chinese': 1099, 'fortune': 2512, 'stick': 6087, 'carrier': 980, 'uk': 6630, 'angry': 277, 'brain': 798, 'electrostatic': 2036, 'revolve': 5438, 'electron': 2033, 'centripetal': 1031, 'bikini': 682, 'clock': 1177, 'morning': 4204, 'dimension': 1761, 'table': 6272, 'mandrill': 3894, 'layperson': 3629, 'profit': 5051, 'currency': 1528, 'failing': 2315, 'certain': 1034, 'die': 1735, 'abortion': 16, 'save': 5590, 'analyze': 260, 'national': 4306, 'economist': 1985, 'bansal': 555, 'sheet': 5747, 'religious': 5342, 'afraid': 132, 'decease': 1604, 'bathroom': 576, 'masturbate': 3954, 'toy': 6490, 'wooden': 7019, 'boat': 750, 'kilogram': 3516, 'chevrolet': 1088, 'caprice': 957, 'ppv': 4951, 'primarily': 5005, 'compete': 1273, 'franchise': 2530, 'surat': 6206, 'gujarat': 2793, 'economic': 1981, 'icse': 3051, 'examinaton': 2227, 'radar': 5191, 'guidance': 2788, 'gun': 2797, 'nudity': 4451, 'profanity': 5043, 'delete': 1633, 'restaurant': 5406, 'nice': 4376, 'insurance': 3232, 'damage': 1562, 'grab': 2740, 'seat': 5655, 'quota': 5181, 'west': 6943, 'bengal': 637, 'abroad': 20, 'somewhere': 5936, 'sister': 5838, 'min': 4102, 'ride': 5454, 'im': 3093, 'curvature': 1533, 'humongous': 3007, 'net': 4346, 'curve': 1534, 'face': 2302, 'mild': 4091, 'colleague': 1226, 'skip': 5856, 'meeting': 4013, 'electromagnetic': 2032, 'interference': 3253, 'distinguish': 1818, 'relative': 5333, 'scale': 5601, 'breath': 819, 'drug': 1912, 'trafficking': 6500, 'fetal': 2386, 'rate': 5228, 'pregnancy': 4967, 'pad': 4626, 'together': 6451, 'similarity': 5817, 'domain': 1855, 'cognizant': 1215, 'monster': 4188, 'alphabet': 212, 'dictionary': 1734, 'invent': 3281, 'portfolio': 4921, 'heat': 2884, 'directly': 1776, 'elecric': 2025, 'body': 754, 'finix': 2428, 'coin': 1218, 'ico': 3050, 'legit': 3663, 'scam': 5603, 'phd': 4788, 'mit': 4137, 'caltech': 926, 'berkeley': 646, 'comment': 1255, 'rounding': 5513, 'weevil': 6934, 'infestation': 3177, 'treatment': 6535, 'matrix': 3966, 'mistake': 4135, 'chess': 1086, 'writer': 7049, 'dilute': 1759, 'urine': 6725, 'addisons': 81, 'disease': 1800, 'supercharge': 6191, 'ic': 3046, 'stiffness': 6088, 'attracts': 452, 'load': 3761, 'beam': 591, 'somen': 5932, 'design': 1683, 'experiment': 2268, 'reincarnation': 5323, 'remember': 5350, 'respectful': 5401, 'successful': 6157, 'entrepreneur': 2120, 'millionaire': 4100, 'billionaire': 686, 'politics': 4892, 'fluent': 2466, 'ghanaian': 2669, 'nigerian': 4381, 'objectively': 4474, 'powerful': 4950, 'universe': 6685, 'popular': 4910, 'nyt': 4463, 'memo': 4026, 'whereas': 6959, 'wsj': 7053, 'bias': 672, 'mantis': 3906, 'shrimp': 5784, 'consist': 1341, 'linguistic': 3722, 'differential': 1743, 'actual': 71, 'graph': 2756, 'scalability': 5599, 'expert': 2269, 'mostly': 4211, 'unconnected': 6649, 'waffle': 6875, 'teddy': 6330, 'bear': 593, 'hamster': 2828, 'imagine': 3095, 'fiction': 2399, 'sound': 5947, 'annual': 293, 'engineer': 2096, 'tooth': 6466, 'forming': 2507, 'already': 213, 'helpful': 2897, 'drop': 1907, 'result': 5410, 'approve': 346, 'accurate': 51, 'description': 1680, 'mucus': 4241, 'early': 1953, 'roosevelt': 5505, 'befriend': 610, 'physical': 4813, 'strength': 6114, 'ready': 5247, 'overpower': 4602, 'tie': 6418, 'gag': 2601, 'safety': 5547, 'recomend': 5278, 'dish': 1802, 'tasty': 6308, 'employment': 2075, 'yacht': 7070, 'represent': 5375, 'employ': 2072, 'vessel': 6799, 'wbjee': 6916, 'california': 917, 'practical': 4952, 'learning': 3644, 'ecology': 1978, 'conservation': 1335, 'biology': 698, 'environmental': 2124, 'powder': 4947, 'rifle': 5456, 'specific': 5980, 'introduce': 3271, 'opportunity': 4540, 'transaction': 6506, 'fiduciary': 2401, 'advisor': 116, 'steal': 6072, 'prove': 5097, 'govt': 2737, 'medical': 4000, 'colege': 1222, 'ramk': 5211, 'reading': 5246, 'wire': 6998, 'ground': 2777, 'bar': 557, 'close': 1181, 'guess': 2787, 'prize': 5023, 'purches': 5136, 'dmt': 1837, 'orange': 4553, 'boiled': 756, 'noodle': 4411, 'paddy': 4627, 'herb': 2906, 'care': 970, 'sensitivity': 5690, 'sometimes': 5935, 'half': 2819, 'cse': 1508, 'vit': 6843, 'rank': 5218, 'legal': 3659, 'debtor': 1601, 'quit': 5173, 'creditor': 1466, 'collection': 1228, 'unemployment': 6670, 'suddenly': 6163, 'disappear': 1785, 'networking': 4352, 'mining': 4112, 'dream': 1895, 'jinping': 3408, 'serial': 5704, 'religion': 5341, 'murderer': 4259, 'rapist': 5223, 'mao': 3914, 'ammonium': 245, 'bicarbonate': 674, 'production': 5040, 'bread': 809, 'jat': 3380, 'gujjar': 2794, 'beautiful': 597, 'box': 790, 'ammo': 243, 'bullet': 869, 'firework': 2433, 'impression': 3124, 'compound': 1288, 'sci': 5623, 'graduate': 2745, 'marine': 3922, 'gme': 2703, 'mumbai': 4252, 'wild': 6982, 'ilustrator': 3092, 'require': 5381, 'tinder': 6430, 'nothing': 4432, 'succeed': 6155, 'effect': 2001, 'polythene': 4901, 'bureau': 876, 'investigate': 3287, 'homicide': 2959, 'fbi': 2357, 'tunisian': 6588, 'welfare': 6940, 'charity': 1066, 'epecially': 2127, 'limit': 3713, 'contribute': 1377, 'philadelphia': 4791, 'baltimore': 536, 'howie': 2991, 'seago': 5649, 'accomplishment': 44, 'actor': 69, 'bleeding': 728, 'clot': 1183, 'sleep': 5865, 'graveyard': 2760, 'trouble': 6561, 'awake': 490, 'babyface': 504, 'wwe': 7056, 'topic': 6468, 'management': 3887, 'challenge': 1049, 'lori': 3789, 'anne': 287, 'allison': 201, 'makeup': 3877, 'remote': 5353, 'aadhar': 1, 'bandhup': 542, 'lb': 3632, 'marg': 3919, 'objective': 4473, 'criterion': 1477, 'evaluate': 2193, 'cell': 1022, 'range': 5215, 'less': 3675, 'attendance': 443, 'bush': 884, 'correct': 1411, 'centre': 1030, 'correction': 1412, 'fee': 2367, 'cutoff': 1542, 'delhi': 1634, 'ray': 5236, 'converge': 1383, 'earth': 1959, 'atmosphere': 435, 'captain': 958, 'phasma': 4787, 'somehow': 5931, 'trick': 6547, 'gang': 2614, 'ba': 500, 'suicide': 6173, 'racism': 5189, 'protest': 5091, 'padmaavat': 4628, 'padmavati': 4629, 'rotate': 5508, 'east': 1963, 'footballer': 2489, 'lte': 3811, 'volta': 6861, 'facility': 2306, 'forwarding': 2514, 'whatsapp': 6952, 'cocktail': 1207, 'wedding': 6930, 'common': 1264, 'injury': 3200, 'friendly': 2561, 'operation': 4536, 'carpet': 979, 'installation': 3220, 'invoice': 3296, 'template': 6346, 'debate': 1597, 'mess': 4051, 'kosovo': 3556, 'albanian': 177, 'born': 780, 'alive': 194, 'worker': 7027, 'handle': 2833, 'secure': 5663, 'cash': 986, 'earnings': 1955, 'payment': 4715, 'aa': 0, 'recruitment': 5289, 'complete': 1279, 'deduct': 1615, 'mu': 4238, 'oet': 4497, 'usc': 6732, 'teenager': 6333, 'holder': 2942, 'fan': 2329, 'itunes': 3352, 'robin': 5479, 'gibb': 2674, 'singer': 5832, 'amendment': 237, 'worry': 7037, 'budget': 862, 'camping': 936, 'jaisalmer': 3368, 'humour': 3009, 'joke': 3425, 'leigh': 3667, 'francis': 2533, 'fictional': 2400, 'keith': 3486, 'lemon': 3668, 'telugu': 6342, 'blood': 741, 'cough': 1425, 'mack': 3844, 'whatis': 6950, 'stag': 6040, 'buck': 858, 'cultural': 1520, 'taboo': 6274, 'russia': 5532, 'articleship': 390, 'available': 483, 'anti': 306, 'semite': 5683, 'burke': 877, 'deaf': 1589, 'professionals': 5046, 'depression': 1673, 'disassemble': 1786, 'revolver': 5439, 'nintendo': 4389, 'switch': 6250, 'store': 6100, 'ticket': 6416, 'london': 3780, 'quickly': 5171, 'breakdance': 812, 'stereotype': 6080, 'attach': 439, 'sydney': 6253, 'northern': 4423, 'beach': 590, 'inflation': 3181, 'electrician': 2030, 'summary': 6178, 'streetcar': 6112, 'broker': 836, 'estate': 2170, 'agent': 141, 'whats': 6951, 'cleanshot': 1162, 'express': 2280, 'feeling': 2370, 'irrespective': 3319, 'barkha': 561, 'dutt': 1941, 'newsx': 4366, 'twitter': 6604, 'hire': 2930, 'swagatham': 6234, 'csa': 1506, 'iisc': 3083, 'gate': 2624, 'topper': 6472, 'others': 4581, 'also': 214, 'otherwise': 4582, 'three': 6403, 'hashtags': 2858, 'nearly': 4328, 'however': 2990, 'traffic': 6499, 'wrong': 7051, 'apparel': 326, 'industry': 3168, 'consultant': 1356, 'qualification': 5156, 'favourite': 2355, 'listed': 3739, 'unlisted': 6692, 'truth': 6573, 'matter': 3967, 'analog': 255, 'nazi': 4321, 'throw': 6411, 'ice': 3049, 'cube': 1514, 'ocean': 4490, 'molecule': 4165, 'acer': 53, 'aspire': 410, 'detect': 1698, 'forcibly': 2491, 'sunni': 6186, 'wahabbi': 6877, 'islam': 3331, 'princeton': 5012, 'urban': 6722, 'local': 3764, 'constitute': 1349, 'yin': 7080, 'yang': 7071, 'originate': 4574, 'consideration': 1339, 'hank': 2838, 'hill': 2922, 'costume': 1424, 'iron': 3317, 'humans': 3004, 'solidify': 5920, 'maintain': 3870, 'search': 5652, 'graf': 2747, 'death': 1594, 'threat': 6401, 'elevator': 2039, 'end': 2084, 'neutrality': 4357, 'traditional': 6498, 'rebound': 5261, 'mine': 4107, 'version': 6797, 'wrestler': 7044, 'agency': 140, 'arrest': 382, 'sit': 5840, 'jute': 3461, 'exporter': 2278, 'bangladesh': 547, 'europe': 2189, 'tum': 6582, 'master': 3952, 'recommender': 5283, 'temperature': 6345, 'slightly': 5868, 'feverish': 2390, 'concern': 1299, 'summer': 6180, 'internship': 3260, 'aspirant': 408, 'melancholia': 4018, 'childhood': 1094, 'adversity': 110, 'prime': 5008, 'motivator': 4218, 'genetic': 2640, 'tolerance': 6455, 'childbirth': 1093, 'menstrual': 4032, 'breastfeeding': 818, 'historical': 2933, 'significance': 5802, 'mesopotamia': 4050, 'ironic': 3318, 'salem': 5557, 'hang': 2836, 'crucible': 1492, 'sight': 5798, 'akshay': 170, 'thakre': 6377, 'everyone': 2206, 'hat': 2861, 'staring': 6055, 'key': 3501, 'mock': 4150, 'aiims': 154, 'distribute': 1819, 'tomorrow': 6459, 'lg': 3687, 'tempature': 6344, 'smack': 5877, 'aerogel': 119, 'expensive': 2265, 'walk': 6881, 'rain': 5205, 'plural': 4864, 'mathematics': 3963, 'amazing': 231, 'everybody': 2204, 'else': 2049, 'asexuality': 399, 'either': 2017, 'childish': 1095, 'paris': 4671, 'tibetan': 6415, 'wording': 7024, 'groupon': 2779, 'submit': 6148, 'jorge': 3432, 'luis': 3820, 'borges': 777, 'sure': 6208, 'implement': 3115, 'intersection': 3261, 'fraud': 2536, 'hospital': 2979, 'disrespect': 1813, 'exhaust': 2249, 'audi': 455, 'shower': 5783, 'breakfast': 814, 'constant': 1346, 'volume': 6863, 'pressure': 4990, 'absorb': 25, 'bird': 707, 'gir': 2680, 'forest': 2497, 'freeze': 2545, 'threaten': 6402, 'knowingly': 3541, 'heartbeat': 2882, 'inject': 3198, 'anesthetic': 272, 'surgery': 6213, 'rush': 5531, 'absolutely': 24, 'numbing': 4455, 'whatsoever': 6953, 'horrible': 2977, 'bloodstream': 743, 'cryptorchidism': 1503, 'okay': 4512, 'respect': 5400, 'colonial': 1235, 'empires': 2071, 'swap': 6237, 'identity': 3064, 'debt': 1600, 'forever': 2498, 'graphic': 2757, 'ordinary': 4562, 'orthodox': 4577, 'argument': 366, 'filioque': 2411, 'bipolar': 705, 'economically': 1983, 'wage': 6876, 'enter': 2112, 'workforce': 7028, 'waterproof': 6907, 'resent': 5386, 'address': 84, 'genre': 2646, 'goony': 2722, 'stand': 6049, 'fable': 2299, 'folktale': 2477, 'snapchat': 5890, 'popularity': 4911, 'decline': 1613, 'chairman': 1046, 'regional': 5314, 'federal': 2365, 'reserve': 5388, 'canada': 938, 'pursue': 5143, 'banking': 551, 'finance': 2420, 'colour': 1240, 'methyl': 4062, 'limewater': 3712, 'itchiness': 3349, 'breast': 817, 'comrade': 1294, 'ia': 3040, 'ip': 3301, 'ifs': 3071, 'ies': 3070, 'mentally': 4035, 'retard': 5417, 'autonomous': 482, 'clinic': 1172, 'amaze': 230, 'activist': 67, 'extremely': 2293, 'relate': 5328, 'command': 1254, 'running': 5527, 'shoe': 5765, 'flat': 2449, 'foot': 2487, 'cubic': 1515, 'liter': 3743, 'us': 6727, 'certificate': 1035, 'level': 3681, 'martial': 3938, 'record': 5284, 'electrical': 2029, 'intrested': 3270, 'equipment': 2140, 'administrator': 92, 'gopal': 2724, 'krishna': 3561, 'gokhale': 2711, 'mentor': 4037, 'gandhi': 2612, 'quirky': 5172, 'throne': 6409, 'arya': 396, 'littlefinger': 3752, 'undergraduate': 6655, 'integrated': 3236, 'paper': 4653, 'degree': 1630, 'deter': 1702, 'better': 653, 'moment': 4169, 'walmartlabs': 6887, 'grant': 2753, 'rsu': 5519, 'vest': 6800, 'syria': 6269, 'hispanic': 2931, 'proud': 5096, 'prospect': 5084, 'automation': 481, 'audio': 458, 'device': 1716, 'specially': 5978, 'speed': 5986, 'interstate': 3262, 'highway': 2920, 'road': 5474, 'waste': 6904, 'limited': 3715, 'eso': 2161, 'collar': 1225, 'hypothesis': 3036, 'cancer': 944, 'calcium': 905, 'channel': 1058, 'blocker': 736, 'cope': 1400, 'jealous': 3387, 'governmental': 2736, 'organisation': 4566, 'hide': 2916, 'reward': 5440, 'virtual': 6832, 'assistant': 420, 'stanford': 6051, 'criticise': 1479, 'indie': 3155, 'upsc': 6714, 'sanction': 5566, 'faith': 2319, 'season': 5653, 'indicate': 3153, 'authoritarian': 474, 'harsh': 2851, 'husky': 3021, 'sustain': 6228, 'tropical': 6560, 'environment': 2123, 'prerequisite': 4980, 'professor': 5047, 'mtech': 4237, 'aggregate': 142, 'christianity': 1116, 'augustus': 463, 'synapsis': 6262, 'besides': 648, 'brit': 830, 'queen': 5165, 'elizabeth': 2046, 'king': 3521, 'henry': 2904, 'viii': 6818, 'drain': 1886, 'fly': 2470, 'sewage': 5724, 'cow': 1445, 'ungrateful': 6674, 'america': 238, 'speaking': 5971, 'german': 2659, 'cover': 1444, 'clown': 1188, 'harvard': 2854, 'ecosystem': 1987, 'prototype': 5094, 'inventor': 3283, 'tier': 6419, 'tapmi': 6297, 'bim': 689, 'kj': 3530, 'somaiya': 5929, 'lease': 3646, 'agreement': 148, 'tc': 6316, 'wipro': 6997, 'infosys': 3187, 'training': 6504, 'supplement': 6198, 'boob': 769, 'concerned': 1300, 'carter': 983, 'russian': 5533, 'spy': 6018, 'sense': 5688, 'immigrate': 3103, 'britain': 831, 'fl': 2444, 'id': 3056, 'issuance': 3343, 'citation': 1137, 'infraction': 3188, 'electric': 2028, 'gear': 2629, 'impersonal': 3114, 'wet': 6946, 'deal': 1590, 'withdrawal': 7005, 'wechat': 6929, 'symbol': 6257, 'tuition': 6580, 'siliceous': 5810, 'ooze': 4530, 'wan': 6890, 'na': 4282, 'flipkart': 2457, 'fixed': 2443, 'reference': 5299, 'frame': 2526, 'dilation': 1756, 'thin': 6391, 'plat': 4847, 'armour': 374, 'folded': 2473, 'leather': 3650, 'underneath': 6659, 'knight': 3538, 'armor': 372, 'bandeau': 541, 'outfit': 4587, 'simlarity': 5818, 'arichtecture': 367, 'roller': 5493, 'coaster': 1204, 'civic': 1143, 'except': 2233, 'eventuality': 2199, 'prepared': 4979, 'collapse': 1224, 'gender': 2632, 'physically': 4814, 'gmail': 2701, 'mac': 3837, 'sidebar': 5797, 'along': 209, 'often': 4505, 'connection': 1325, 'cardiac': 968, 'filling': 2413, 'cctv': 1013, 'surveillance': 6218, 'despite': 1693, 'abuse': 28, 'notify': 4435, 'tweeter': 6600, 'hack': 2810, 'pornographic': 4917, 'message': 4052, 'mcu': 3986, 'villain': 6821, 'cant': 949, 'developed': 1710, 'armfeldt': 371, 'lewenhaupt': 3686, 'rehnskiöld': 5322, 'swedish': 6243, 'general': 2635, 'psychopath': 5110, 'acceptance': 38, 'caring': 976, 'cheat': 1077, 'sql': 6020, 'fun': 2585, 'western': 6944, 'gaming': 2611, 'significant': 5803, 'logarithm': 3771, 'processing': 5032, 'banglore': 548, 'safest': 5546, 'nudge': 4450, 'hike': 2921, 'funny': 2594, 'rotation': 5509, 'polarity': 4882, 'active': 66, 'coast': 1203, 'dynamic': 1946, 'idc': 3057, 'lazyness': 3631, 'away': 493, 'posion': 4924, 'mintues': 4119, 'prison': 5017, 'dad': 1554, 'unnecessarily': 6695, 'sibling': 5793, 'thaads': 6375, 'hybrid': 3022, 'wheel': 6956, 'married': 3933, 'donald': 1860, 'news': 4364, 'host': 2980, 'improvement': 3128, 'population': 4913, 'nra': 4441, 'evil': 2211, 'skinny': 5855, 'jean': 3388, 'hammer': 2826, 'dagenhart': 1557, 'partially': 4677, 'homeowner': 2955, 'begin': 612, 'put': 5148, 'panel': 4651, 'roof': 5503, 'en': 2080, 'masse': 3950, 'clip': 1175, 'tv': 6599, 'upload': 6710, 'watery': 6908, 'discharge': 1788, 'pregnant': 4968, 'mum': 4251, 'apparently': 329, 'twice': 6601, 'bankruptcy': 552, 'thunderstike': 6413, 'reveal': 5426, 'throughout': 6410, 'genome': 2645, 'platypus': 4852, 'renewable': 5359, 'feasibility': 2363, 'evaluation': 2194, 'lut': 3829, 'ewg': 2218, 'flaw': 2451, 'marked': 3924, 'rat': 5227, 'penetrate': 4741, 'venomous': 6786, 'snake': 5888, 'bite': 714, 'sick': 5795, 'venom': 6785, 'cure': 1527, 'harm': 2847, 'proceed': 5030, 'amplify': 251, 'signal': 5800, 'recipient': 5272, 'lifeguard': 3700, 'aquatic': 355, 'diameter': 1728, 'bob': 751, 'pendulum': 4740, 'multiplication': 4249, 'quantitative': 5160, 'percentage': 4748, 'intuitive': 3276, 'route': 5515, 'houston': 2989, 'san': 5565, 'francisco': 2534, 'structure': 6123, 'conversion': 1385, 'bba': 583, 'bbm': 585, 'comedk': 1250, 'motivation': 4216, 'receive': 5265, 'lotion': 3795, 'alone': 208, 'hypothetically': 3037, 'fill': 2412, 'grenade': 2773, 'enemy': 2089, 'combatant': 1244, 'syllabic': 6255, 'consonant': 1345, 'sanskrit': 5569, 'varnamala': 6767, 'vowel': 6872, 'clothes': 1185, 'article': 389, 'journal': 3434, 'tow': 6484, 'total': 6478, 'obedience': 4469, 'creature': 1464, 'dental': 1655, 'marketing': 3928, 'dentist': 1656, 'cambridge': 930, 'pune': 5126, 'chapter': 1061, 'assignment': 418, 'revoke': 5434, 'pound': 4945, 'yes': 7077, 'apple': 332, 'radio': 5196, 'surge': 6211, 'member': 4023, 'part': 4675, 'incorporate': 3141, 'ike': 3086, 'ibeabuchi': 3045, 'somebody': 5930, 'guide': 2789, 'purchase': 5135, 'exercise': 2247, 'pleasure': 4860, 'enema': 2088, 'walter': 6889, 'bedell': 603, 'beetle': 609, 'kenya': 3497, 'foe': 2472, 'resident': 5393, 'suspension': 6225, 'profitable': 5052, 'leasing': 3648, 'plant': 4844, 'indoor': 3162, 'maintanable': 3871, 'newly': 4363, 'retire': 5420, 'midnight': 4084, 'kota': 3557, 'swing': 6249, 'mood': 4196, 'kennedy': 3493, 'beijing': 619, 'cone': 1312, 'next': 4368, 'park': 4672, 'container': 1364, 'render': 5358, 'presentation': 4984, 'ronaldinho': 5501, 'casual': 993, 'present': 4983, 'minister': 4113, 'karnataka': 3475, 'korean': 3555, 'parade': 4656, 'march': 3917, 'exaggerated': 2224, 'goose': 2723, 'unsuccessful': 6700, 'prey': 5003, 'soon': 5940, 'bos': 782, 'porn': 4916, 'imortant': 3108, 'tall': 6287, 'sportsman': 6008, 'strategy': 6106, 'startup': 6058, 'reach': 5240, 'target': 6300, 'audience': 456, 'ad': 73, 'devil': 1717, 'grandmother': 2751, 'wrestling': 7045, 'wrastling': 7043, 'sudden': 6162, 'intrusive': 3274, 'crochet': 1482, 'scarf': 5610, 'pattern': 4706, 'brian': 824, 'griffin': 2774, 'frequently': 2550, 'itchy': 3350, 'apparent': 328, 'usually': 6742, 'isolated': 3336, 'gene': 2634, 'allele': 198, 'con': 1295, 'surface': 6209, 'accord': 45, 'pet': 4779, 'belief': 624, 'elite': 2045, 'paycheck': 4714, 'plus': 4865, 'debit': 1599, 'mp': 4230, 'sasuke': 5577, 'naruto': 4301, 'indra': 3164, 'ashura': 400, 'brother': 841, 'phrase': 4811, 'economics': 1984, 'player': 4855, 'bjp': 716, 'punjab': 5130, 'shouldnt': 5779, 'executive': 2245, 'contribution': 1378, 'abandoned': 4, 'campania': 934, 'italy': 3346, 'lyft': 3832, 'reinstall': 5325, 'loved': 3803, 'naval': 4317, 'agni': 143, 'missile': 4132, 'mughals': 4243, 'descendant': 1678, 'genghis': 2642, 'khan': 3503, 'lifehacks': 3701, 'kick': 3506, 'function': 2586, 'amylose': 253, 'basketball': 573, 'france': 2529, 'cme': 1198, 'motorcycle': 4223, 'toronto': 6474, 'exempt': 2246, 'motion': 4214, 'whiteboard': 6968, 'lunch': 3824, 'cramp': 1452, 'um': 6635, 'uncomfortable': 6647, 'response': 5403, 'nucleus': 4448, 'insist': 3213, 'kubernetes': 3563, 'backend': 509, 'docker': 1842, 'cto': 1512, 'dating': 1577, 'bore': 775, 'diffferently': 1746, 'stream': 6108, 'pixelated': 4832, 'choppy': 1110, 'subcontinent': 6141, 'girlfriend': 2682, 'sufficient': 6167, 'workplace': 7031, 'ham': 2825, 'licencing': 3695, 'asoc': 406, 'examination': 2226, 'welcome': 6939, 'cloud': 1187, 'solid': 5919, 'frieza': 2564, 'adam': 74, 'angelo': 274, 'kim': 3518, 'kardasian': 3473, 'novel': 4438, 'recommend': 5280, 'actress': 70, 'harvey': 2856, 'weinstein': 6937, 'queer': 5167, 'separation': 5697, 'nuremberg': 4456, 'earphone': 1957, 'mobile': 4149, 'partition': 4681, 'attitudes': 446, 'catchweight': 1000, 'match': 3957, 'overlay': 4600, 'levi': 3684, 'forecast': 2493, 'commodity': 1263, 'iq': 3309, 'leroy': 3673, 'robert': 5478, 'satchel': 5579, 'paige': 4632, 'mar': 3916, 'perfume': 4758, 'underground': 6656, 'pimple': 4823, 'hurt': 3019, 'pop': 4907, 'chad': 1042, 'ancestor': 264, 'wolf': 7014, 'wolverine': 7015, 'virgin': 6830, 'blow': 745, 'koran': 3553, 'translation': 6521, 'raisin': 5207, 'rare': 5225, 'delicacy': 1637, 'sap': 5571, 'ewm': 2219, 'foundation': 2518, 'ritzman': 5468, 'cdn': 1014, 'positively': 4927, 'globalization': 2694, 'eyeliner': 2298, 'lashline': 3613, 'diesel': 1737, 'locomotive': 3769, 'railway': 5204, 'double': 1872, 'circulation': 1132, 'trend': 6540, 'careamics': 971, 'display': 1810, 'amateur': 228, 'reader': 5245, 'swear': 6240, 'emotion': 2066, 'random': 5213, 'riddle': 5453, 'diophantine': 1767, 'equation': 2138, 'math': 3960, 'cardio': 969, 'surgeon': 6212, 'anil': 278, 'bhan': 662, 'senior': 5686, 'yr': 7090, 'exp': 2256, 'motivate': 4215, 'merton': 4047, 'sociologist': 5908, 'undeveloped': 6666, 'tend': 6350, 'placement': 4834, 'vlsiguru': 6853, 'earlier': 1952, 'mortgage': 4208, 'potassium': 4938, 'pineapple': 4824, 'juice': 3444, 'mermaid': 4046, 'chittorgarh': 1102, 'beverage': 655, 'emoticon': 2065, 'friends': 2562, 'calculate': 906, 'radius': 5198, 'mechanism': 3996, 'action': 64, 'xulane': 7066, 'contraceptive': 1373, 'patch': 4697, 'ignorance': 3075, 'bliss': 733, 'lie': 3698, 'vocal': 6855, 'inch': 3135, 'erect': 2148, 'rocket': 5484, 'satellite': 5580, 'orbit': 4554, 'circle': 1129, 'neutrophil': 4360, 'wbc': 6915, 'platelet': 4849, 'lymphocyte': 3833, 'infection': 3173, 'enlarged': 2104, 'salivary': 5559, 'gland': 2689, 'sore': 5942, 'throat': 6408, 'fever': 2389, 'sinnister': 5837, 'underlying': 6658, 'bharathnatyam': 664, 'annanagar': 286, 'approval': 345, 'request': 5380, 'kidnapping': 3509, 'spell': 5987, 'castrate': 991, 'penance': 4737, 'postgraduate': 4936, 'nimhans': 4387, 'hons': 2969, 'webmd': 6926, 'mayo': 3977, 'iim': 3081, 'xii': 7060, 'obc': 4468, 'shotgun': 5777, 'neb': 4329, 'board': 749, 'nepal': 4343, 'ten': 6349, 'posses': 4928, 'potential': 4940, 'dependant': 1661, 'statement': 6060, 'competence': 1274, 'quorreled': 5180, 'overrate': 4603, 'uninterruptible': 6678, 'mode': 4151, 'cooky': 1392, 'exponential': 2277, 'frac': 2523, 'sqrt': 6021, 'courtesy': 1442, 'useable': 6734, 'exit': 2254, 'kingdom': 3522, 'mnc': 4146, 'construction': 1352, 'monopoly': 4185, 'spiritual': 6000, 'narcist': 4297, 'ptsd': 5113, 'coagulate': 1202, 'lourdes': 3801, 'sebastián': 5657, 'french': 2547, 'justify': 3459, 'columbus': 1241, 'fifa': 2403, 'imo': 3107, 'frontend': 2569, 'amp': 249, 'per': 4746, 'km': 3533, 'perpetuate': 4769, 'sexism': 5727, 'niccolò': 4375, 'machiavelli': 3841, 'contributor': 1379, 'renaissance': 5357, 'inferior': 3176, 'anglocentric': 276, 'frustration': 2574, 'organize': 4569, 'atheist': 433, 'knock': 3539, 'transfer': 6509, 'attorney': 447, 'element': 2037, 'atom': 436, 'mainly': 3868, 'empty': 2078, 'policeman': 4884, 'squad': 6022, 'gorgeous': 2727, 'boxer': 791, 'allen': 199, 'bet': 650, 'grade': 2743, 'playful': 4856, 'teasing': 6323, 'artificial': 392, 'island': 3334, 'manhattan': 3899, 'sehwag': 5670, 'academy': 34, 'chris': 1114, 'tashima': 6304, 'downgrade': 1877, 'resume': 5412, 'position': 4925, 'leadership': 3636, 'mesh': 4049, 'mist': 4134, 'eliminator': 2043, 'errand': 2154, 'vlogging': 6852, 'approximately': 348, 'intermediate': 3255, 'figure': 2406, 'skating': 5847, 'generally': 2636, 'assume': 422, 'gap': 2615, 'measure': 3992, 'pretty': 4995, 'floyd': 2465, 'legend': 3661, 'classic': 1151, 'doordarshan': 1869, 'ducktales': 1922, 'talespin': 6284, 'jungle': 3451, 'aladdin': 173, 'onsite': 4526, 'ssd': 6032, 'esd': 2159, 'electronic': 2034, 'storage': 6099, 'quoras': 5179, 'blind': 731, 'eye': 2295, 'quorans': 5178, 'abusive': 30, 'insincere': 3212, 'seo': 5694, 'marijuana': 3921, 'illegal': 3088, 'proven': 5098, 'greed': 2766, 'misinformation': 4128, 'lift': 3705, 'rage': 5200, 'tailgate': 6278, 'cut': 1540, 'knaresborough': 3535, 'england': 2099, 'mangalore': 3897, 'mysore': 4275, 'ee': 1999, 'vssut': 6874, 'global': 2691, 'counsellor': 1430, 'certification': 1036, 'pauline': 4709, 'donkey': 1862, 'kong': 3552, 'princess': 5011, 'peach': 4728, 'crowd': 1489, 'serious': 5706, 'synopsis': 6265, 'stem': 6076, 'injection': 3199, 'arthritic': 388, 'wrist': 7047, 'focus': 2471, 'procrastinate': 5034, 'ottoman': 4584, 'levant': 3680, 'arabian': 358, 'balkan': 532, 'betray': 651, 'empire': 2070, 'afford': 129, 'hashimoto': 2857, 'blame': 722, 'seizure': 5671, 'entirely': 2116, 'behaviour': 617, 'tad': 6276, 'cummins': 1524, 'leniency': 3670, 'tj': 6444, 'maxx': 3974, 'attempt': 441, 'entertain': 2114, 'assure': 423, 'authentic': 472, 'assessment': 416, 'scrutiny': 5645, 'optimal': 4550, 'lonavala': 3779, 'crabbily': 1447, 'hunger': 3013, 'liberals': 3691, 'reality': 5251, 'foundry': 2519, 'percent': 4747, 'abrasive': 19, 'mineral': 4109, 'classify': 1154, 'biotic': 702, 'factor': 2309, 'interact': 3247, 'abiotic': 9, 'telecommunication': 6335, 'rahul': 5203, 'pretending': 4994, 'iit': 3084, 'foreigner': 2495, 'lithium': 3748, 'dioxide': 1769, 'contain': 1363, 'metal': 4055, 'diploblastik': 1771, 'billion': 685, 'frost': 2570, 'dropper': 1909, 'exactly': 2222, 'verify': 6793, 'characterize': 1064, 'clair': 1148, 'lune': 3825, 'natural': 4313, 'exploit': 2274, 'foster': 2515, 'trudeau': 6565, 'nationalistic': 4309, 'ideal': 3060, 'brexit': 823, 'lepen': 3672, 'microbiology': 4077, 'astoundingly': 424, 'vast': 6769, 'cleverly': 1166, 'sarcastic': 5574, 'rest': 5405, 'indiaqr': 3152, 'compatible': 1272, 'paytm': 4717, 'qr': 5155, 'code': 1209, 'austria': 471, 'rationally': 5233, 'sensitive': 5689, 'cancel': 943, 'lost': 3793, 'fully': 2583, 'transform': 6510, 'oneself': 4522, 'putin': 5149, 'cyber': 1546, 'slander': 5861, 'propagandist': 5071, 'realignment': 5250, 'essentially': 2167, 'globalism': 2693, 'taxi': 6312, 'hacked': 2811, 'marketer': 3927, 'influencer': 3183, 'abu': 27, 'dhabi': 1720, 'resistor': 5397, 'transistor': 6516, 'breadboard': 810, 'statistic': 6063, 'soccer': 5901, 'tighten': 6422, 'immigration': 3104, 'resolution': 5398, 'audiology': 459, 'odds': 4494, 'desertification': 1681, 'sleeveless': 5867, 'frown': 2571, 'upon': 6711, 'indonesian': 3161, 'tube': 6576, 'hippopotamus': 2929, 'gorgops': 2728, 'primate': 5007, 'non': 4407, 'ivy': 3355, 'league': 3638, 'expandable': 2258, 'dreamweaver': 1897, 'band': 540, 'nightwish': 4385, 'romanian': 5497, 'indefinite': 3145, 'feminine': 2376, 'una': 6638, 'origin': 4571, 'ejaculate': 2019, 'ear': 1950, 'canal': 940, 'stds': 6070, 'aid': 153, 'condom': 1309, 'tigernut': 6421, 'fattening': 2350, 'fridge': 2557, 'ias': 3042, 'vellore': 6780, 'peaceful': 4727, 'unanth': 6640, 'mooc': 4195, 'provider': 5100, 'kochi': 3545, 'munnar': 4254, 'afternoon': 136, 'infect': 3172, 'chlamydia': 1103, 'kissing': 3527, 'bill': 683, 'shorty': 5775, 'award': 491, 'modernize': 4157, 'theme': 6384, 'pro': 5024, 'cruise': 1495, 'offer': 4499, 'freely': 2542, 'eardrum': 1951, 'eligible': 2040, 'decision': 1611, 'grape': 2755, 'prominent': 5064, 'flavor': 2450, 'dimetapp': 1762, 'medicine': 4003, 'connect': 1324, 'output': 4589, 'clickbait': 1167, 'paul': 4708, 'ii': 3079, 'mistress': 4136, 'kneeler': 3536, 'elon': 2048, 'musk': 4265, 'alien': 191, 'fragment': 2525, 'cross': 1485, 'lumberyard': 3821, 'myth': 4279, 'propagate': 5072, 'ffffound': 2392, 'premier': 4973, 'perform': 4755, 'competition': 1275, 'subscription': 6150, 'dirty': 1780, 'turkish': 6592, 'ancestry': 265, 'wife': 6980, 'vacant': 6745, 'rental': 5362, 'property': 5076, 'paranormal': 4663, 'caste': 990, 'kamma': 3468, 'velama': 6779, 'subcastes': 6138, 'cmat': 1196, 'decent': 1607, 'principle': 5013, 'categorize': 1003, 'monitor': 4181, 'insanity': 3208, 'beyond': 657, 'waite': 6878, 'phillips': 4793, 'michael': 4070, 'wallis': 6885, 'sunburn': 6184, 'apollo': 321, 'spirulina': 6001, 'tablet': 6273, 'aim': 155, 'clothing': 1186, 'designer': 1684, 'sought': 5945, 'dropout': 1908, 'google': 2721, 'abs': 21, 'adhesive': 87, 'punishment': 5129, 'iam': 3041, 'ubuntu': 6619, 'aws': 496, 'wake': 6880, 'dominate': 1859, 'nature': 4315, 'fearless': 2361, 'francine': 2532, 'pascal': 4686, 'fetxh': 2388, 'lakh': 3589, 'danny': 1569, 'wall': 6883, 'hymn': 3029, 'landed': 3595, 'immigrant': 3102, 'blue': 747, 'beer': 607, 'advertise': 111, 'mega': 4014, 'humanity': 3001, 'whistle': 6966, 'loundly': 3800, 'mosk': 4209, 'giant': 2673, 'incinerator': 3137, 'chamber': 1051, 'teach': 6318, 'tokyo': 6454, 'lessen': 3676, 'frequent': 2549, 'soledad': 5918, 'colombia': 1234, 'rice': 5448, 'visible': 6839, 'coaching': 1201, 'ssc': 6031, 'cgl': 1039, 'preparation': 4977, 'manger': 3898, 'regret': 5317, 'helpme': 2899, 'item': 3351, 'hi': 2914, 'streaming': 6109, 'mycaster': 4273, 'minimize': 4110, 'browse': 845, 'operate': 4535, 'thanks': 6379, 'kurti': 3568, 'unstitched': 6698, 'pachabottu': 4619, 'workout': 7030, 'skilled': 5853, 'amanda': 225, 'rodgers': 5486, 'sensationalism': 5687, 'propaganda': 5070, 'facing': 2307, 'degrading': 1629, 'insult': 3231, 'grammar': 2748, 'obsess': 4479, 'overweight': 4609, 'misfit': 4126, 'homeschooled': 2956, 'bimbo': 690, 'parallel': 4660, 'revenue': 5429, 'commission': 1258, 'hollywood': 2945, 'theatre': 6380, 'linguistics': 3723, 'facet': 2304, 'armenian': 370, 'georgian': 2657, 'azerbaijanis': 499, 'genetically': 2641, 'cla': 1146, 'grand': 2750, 'coulee': 1427, 'dam': 1561, 'stan': 6047, 'lee': 3654, 'urinate': 6724, 'obsessed': 4480, 'statue': 6065, 'side': 5796, 'smile': 5882, 'racist': 5190, 'irish': 3316, 'remainder': 5346, 'planet': 4840, 'modify': 4160, 'kitchen': 3528, 'vent': 6787, 'stove': 6102, 'odor': 4496, 'wo': 7012, 'apartment': 319, 'batra': 577, 'ludhiana': 3819, 'nehru': 4336, 'pimp': 4822, 'elasticity': 2023, 'studio': 6128, 'simple': 5819, 'laruelle': 3610, 'morgan': 4200, 'freeman': 2543, 'considerd': 1340, 'homosexual': 2962, 'torrent': 6477, 'quick': 5169, 'egregious': 2011, 'cruelty': 1494, 'cruel': 1493, 'perhaps': 4759, 'racially': 5188, 'svce': 6231, 'tamil': 6290, 'teaching': 6320, 'bhagat': 660, 'vita': 6844, 'functioning': 2587, 'yiddish': 7079, 'khazari': 3504, 'jewish': 3401, 'secret': 5659, 'behind': 618, 'porsche': 4919, 'pdk': 4725, 'release': 5337, 'dysfuntional': 1948, 'thailand': 6376, 'langan': 3597, 'ctmu': 1511, 'sooner': 5941, 'cable': 897, 'sterilize': 6082, 'electricity': 2031, 'indians': 3151, 'susceptible': 6223, 'alcohol': 181, 'marcos': 3918, 'identical': 3061, 'twin': 6602, 'young': 7086, 'deceased': 1605, 'share': 5742, 'probate': 5026, 'sindhi': 5828, 'btu': 855, 'pit': 4829, 'nit': 4393, 'surathkal': 6207, 'friendship': 2563, 'smok': 5884, 'vape': 6760, 'muscular': 4261, 'tension': 6354, 'nourish': 4436, 'tissue': 6441, 'attraction': 450, 'offline': 4503, 'gif': 2675, 'tenor': 6352, 'keyboard': 3502, '谢谢六佬': 7112, 'pinyin': 4825, 'xièxie': 7062, 'liùlâo': 3757, 'aptitude': 352, 'center': 1028, 'coimbatore': 1217, 'trolling': 6559, 'bromelain': 837, 'curcumin': 1526, 'bioavailability': 695, 'scenario': 5613, 'trevor': 6541, 'vibrate': 6806, 'tense': 6353, 'bid': 675, 'al': 171, 'capone': 956, 'recent': 5266, 'auction': 454, 'fondness': 2482, 'proponent': 5078, 'nouveau': 4437, 'erythromycin': 2156, 'acne': 58, 'minoxidil': 4117, 'beard': 594, 'approximate': 347, 'trip': 6553, 'manchester': 3890, 'oman': 4518, 'elimination': 2042, 'airline': 160, 'minimum': 4111, 'frozen': 2572, 'easa': 1960, 'atpl': 438, 'steven': 6083, 'spielberg': 5996, 'underrated': 6660, 'tuluá': 6581, 'nokia': 4404, 'deport': 1667, 'ambassador': 233, 'monthly': 4191, 'bran': 802, 'district': 1823, 'caa': 895, 'kapil': 3471, 'dev': 1707, 'semen': 5681, 'initial': 3195, 'ngo': 4371, 'decrease': 1614, 'gym': 2804, 'dalit': 1560, 'oher': 4507, 'repay': 5364, 'viteee': 6847, 'ece': 1975, 'specialisation': 5975, 'realize': 5252, 'poetical': 4874, 'biotechnology': 701, 'sow': 5953, 'stabilizer': 6036, 'ton': 6461, 'gts': 2783, 'hotel': 2982, 'havelock': 2864, 'severely': 5722, 'depressed': 1671, 'fiance': 2394, 'self': 5675, 'evidence': 2210, 'simply': 5822, 'hearsay': 2880, 'imprisonment': 3126, 'hillary': 2923, 'clinton': 1174, 'uniform': 6676, 'terrible': 6360, 'un': 6637, 'assembly': 415, 'kazeroon': 3481, 'epoch': 2133, 'suck': 6160, 'severus': 5723, 'snape': 5891, 'concoct': 1303, 'potion': 4942, 'alzheimer': 223, 'diagnose': 1723, 'frightened': 2566, 'liquids': 3735, 'nutritious': 4460, 'substantial': 6153, 'jadavpur': 3363, 'spot': 6009, 'round': 5512, 'manager': 3888, 'club': 1190, 'promote': 5065, 'kenyan': 3498, 'polite': 4887, 'courteous': 1441, 'disaster': 1787, 'nuke': 4453, 'investor': 3291, 'shy': 5791, 'struggle': 6125, 'halfway': 2820, 'scared': 5609, 'allows': 204, 'moron': 4205, 'supporter': 6201, 'lesson': 3677, 'stupid': 6132, 'bound': 786, 'engel': 2094, 'vitale': 6845, 'absorbed': 26, 'freinds': 2546, 'scratch': 5637, 'influential': 3184, 'vendor': 6783, 'reject': 5327, 'slatwall': 5862, 'bhopal': 668, 'draft': 1883, 'dogme': 1850, 'daddy': 1556, 'quantico': 5159, 'americans': 241, 'southern': 5951, 'whine': 6964, 'jim': 3406, 'crow': 1488, 'appreciator': 340, 'waitlist': 6879, 'sls': 5875, 'belong': 629, 'luxury': 3831, 'lifestyle': 3703, 'vomit': 6866, 'warangal': 6895, 'map': 3915, 'problen': 5028, 'ant': 301, 'leftover': 3657, 'babe': 501, 'ruth': 5534, 'digit': 1752, 'seven': 5719, 'mofo': 4161, 'objectionable': 4472, 'fancy': 2330, 'investigator': 3289, 'client': 1168, 'universal': 6683, 'java': 3381, 'caption': 959, 'insta': 3217, 'disgust': 1801, 'unwatermarking': 6704, 'japan': 3375, 'invade': 3278, 'six': 5844, 'cherry': 1085, 'blossom': 744, 'alicia': 190, 'purely': 5137, 'salarie': 5554, 'simplify': 5821, 'shopping': 5770, 'sikkim': 5806, 'filmora': 2415, 'adobe': 95, 'premiere': 4974, 'pencil': 4738, 'digital': 1753, 'canvas': 950, 'ernest': 2152, 'dwarf': 1943, 'fortress': 2511, 'stoicism': 6095, 'inxj': 3298, 'intj': 3265, 'infj': 3180, 'stoic': 6094, 'pore': 4914, 'tough': 6481, 'breakup': 816, 'existence': 2253, 'energetic': 2090, 'pwd': 5152, 'merit': 4044, 'navy': 4319, 'technical': 6325, 'ssb': 6030, 'brace': 796, 'campco': 935, 'chocolate': 1105, 'weak': 6917, 'unconditionally': 6648, 'edward': 1998, 'snowden': 5897, 'traitor': 6505, 'hero': 2909, 'soil': 5915, 'erosion': 2153, 'ahmedabad': 150, 'labour': 3578, 'central': 1029, 'oscar': 4578, 'equality': 2137, 'bouble': 785, 'tuba': 6575, 'transposition': 6527, 'xxl': 7068, 'panda': 4649, 'reinforcement': 5324, 'dome': 1856, 'bravery': 808, 'winner': 6993, 'thor': 6396, 'ragnarok': 5201, 'warren': 6900, 'buffet': 863, 'hometown': 2957, 'mpumalanga': 4231, 'tnie': 6447, 'fresher': 2552, 'usage': 6729, 'pack': 4624, 'ab': 3, 'screw': 5642, 'anonymously': 297, 'reliance': 5339, 'jio': 3409, 'merge': 4042, 'baker': 527, 'misremember': 4130, 'underwear': 6664, 'smell': 5880, 'ammonia': 244, 'induce': 3165, 'replicate': 5369, 'manipulative': 3903, 'whore': 6971, 'duplex': 1937, 'juli': 3445, 'financially': 2422, 'xo': 7064, 'ringtones': 5462, 'dialer': 1727, 'tone': 6462, 'irritate': 3322, 'default': 1621, 'ringtone': 5461, 'hypocrite': 3034, 'particle': 4679, 'intrapleural': 3269, 'inhale': 3193, 'trouser': 6564, 'jacket': 3360, 'wrinkle': 7046, 'lithuania': 3749, 'muscle': 4260, 'adductovarus': 85, 'toe': 6450, 'bfsi': 659, 'cibil': 1127, 'audiences': 457, 'pornography': 4918, 'maturity': 3969, 'proton': 5093, 'orbital': 4555, 'painful': 4634, 'cv': 1543, 'intolerant': 3267, 'brave': 807, 'equinix': 2139, 'interest': 3249, 'apparences': 327, 'futile': 2597, 'worldwide': 7035, 'promotion': 5066, 'path': 4699, 'visio': 6840, 'kiet': 3511, 'ghaziabad': 2670, 'whatever': 6949, 'discuss': 1798, 'involve': 3297, 'biden': 676, 'bee': 605, 'peasant': 4731, 'ir': 3311, 'gmat': 2702, 'binary': 691, 'breakimg': 815, 'nht': 4374, 'distributor': 1822, 'approachable': 342, 'upcoming': 6706, 'fork': 2502, 'federalism': 2366, 'colleges': 1232, 'tiss': 6439, 'hrm': 2993, 'ti': 6414, 'csc': 1507, 'ucranian': 6622, 'street': 6111, 'yuri': 7093, 'gagarin': 2602, 'jared': 3378, 'kushner': 3569, 'kelly': 3489, 'mcmaster': 3984, 'yrs': 7091, 'recep': 5268, 'tayyip': 6313, 'erdoğan': 2147, 'ataturk': 431, 'svg': 6232, 'wikipedia': 6981, 'bailey': 523, 'cream': 1456, 'freshman': 2554, 'exclusive': 2242, 'holocaust': 2948, 'continent': 1368, 'moral': 4199, 'bang': 544, 'cycle': 1548, 'mortal': 4207, 'kombat': 3550, 'theft': 6383, 'auto': 478, 'lighter': 3708, 'pocket': 4868, 'crowded': 1490, 'hamper': 2827, 'butane': 888, 'ink': 3201, 'bleed': 727, 'onto': 4528, 'press': 4989, 'doughnut': 1874, 'marsha': 3937, 'administration': 90, 'cort': 1419, 'ibanez': 3044, 'gio': 2679, 'heavy': 2887, 'rcb': 5239, 'jersey': 3395, 'virat': 6829, 'kohli': 3546, 'transgenders': 6514, 'advise': 114, 'migrate': 4088, 'peddler': 4733, 'texas': 6368, 'constitution': 1350, 'medinah': 4006, 'homeless': 2952, 'wealthy': 6920, 'initiator': 3197, 'pursuer': 5144, 'creepy': 1468, 'pervert': 4778, 'gesture': 2665, 'neuro': 4354, 'replication': 5370, 'transcription': 6508, 'mahindra': 3863, 'kuv': 3570, 'tuv': 6598, 'xuv': 7067, 'crypto': 1500, 'kitty': 3529, 'aliyar': 195, 'roblox': 5480, 'cart': 982, 'albino': 179, 'cories': 1404, 'fish': 2437, 'goldfish': 2715, 'giselle': 2684, 'salandy': 5553, 'ring': 5460, 'monte': 4189, 'cristo': 1476, 'alexandre': 184, 'duma': 1928, 'impose': 3121, 'tariff': 6301, 'domestic': 1857, 'poltics': 4896, 'independent': 3148, 'dependent': 1663, 'variable': 6764, 'slow': 5873, 'relay': 5336, 'soldier': 5917, 'carry': 981, 'ammunition': 246, 'combat': 1243, 'orchestar': 4557, 'addict': 79, 'addiction': 80, 'bypass': 893, 'security': 5664, 'birthday': 710, 'conductor': 1311, 'algeria': 186, 'cookbook': 1390, 'reddit': 5291, 'politely': 4888, 'upvote': 6718, 'meme': 4025, 'internal': 3256, 'beauty': 598, 'quoran': 5177, 'orson': 4576, 'techonolgy': 6329, 'speaker': 5970, 'io': 3299, 'mongolian': 4178, 'gypsy': 2806, 'turk': 6589, 'eu': 2184, 'desperately': 1691, 'adsense': 102, 'craft': 1449, 'vaporize': 6762, 'nuclear': 4447, 'tipped': 6434, 'torpedo': 6475, 'fearsome': 2362, 'weapon': 6921, 'technologically': 6327, 'acc': 35, 'killer': 3515, 'shortwave': 5774, 'controversial': 1381, 'mention': 4036, 'mary': 3941, 'winstead': 6994, 'michal': 4071, 'jackson': 3361, 'plastické': 4846, 'surggery': 6214, 'billionare': 687, 'hong': 2967, 'locate': 3766, 'willing': 6986, 'taliban': 6285, 'evening': 2197, 'muon': 4256, 'cosmic': 1421, 'detector': 1701, 'building': 867, 'cdp': 1015, 'network': 4351, 'interface': 3252, 'september': 5699, 'adhaar': 86, 'proof': 5069, 'upvotes': 6720, 'star': 6053, 'dy': 1944, 'hole': 2943, 'scatter': 5612, 'singularity': 5835, 'screaming': 5639, 'nasty': 4304, 'bedroom': 604, 'yo': 7081, 'suggestion': 6170, 'disinfect': 1803, 'earring': 1958, 'faculty': 2312, 'dhanbad': 1721, 'infrastructure': 3189, 'intellect': 3239, 'gadget': 2600, 'fabs': 2301, 'excessive': 2236, 'removal': 5355, 'bloodhound': 742, 'unmarried': 6694, 'couple': 1438, 'upvoted': 6719, 'feed': 2368, 'complication': 1285, 'pill': 4821, 'offset': 4504, 'third': 6395, 'deliberate': 1635, 'emigration': 2059, 'sane': 5568, 'wto': 7055, 'serve': 5710, 'grilled': 2775, 'veda': 6772, 'muslims': 4267, 'slim': 5869, 'bible': 673, 'jesus': 3396, 'apostle': 324, 'beg': 611, 'sarah': 5573, 'abraham': 18, 'banish': 549, 'ishmael': 3328, 'velpatasvir': 6782, 'singapore': 5830, 'eliminate': 2041, 'corruption': 1418, 'dictator': 1732, 'loy': 3806, 'machedo': 3840, 'rape': 5222, 'alveolus': 221, 'artery': 387, 'pharynx': 4785, 'trachea': 6493, 'bronchus': 839, 'quantity': 5161, 'fuel': 2580, 'handsome': 2835, 'tripple': 6555, 'tallak': 6288, 'paragraph': 4657, 'finger': 2425, 'resistance': 5396, 'prospective': 5085, 'zambia': 7096, 'sociology': 5909, 'jeremiah': 3393, 'duggar': 1925, 'summation': 6179, 'definite': 1626, 'integral': 3234, 'concept': 1298, 'wallow': 6886, 'idiocy': 3065, 'drdo': 1894, 'odd': 4493, 'israeli': 3341, 'logo': 3775, 'fi': 2393, 'astronomy': 428, 'sector': 5662, 'saturate': 5585, 'motivational': 4217, 'stage': 6041, 'infamous': 3170, 'specification': 5982, 'jong': 3431, 'armored': 373, 'mercedes': 4039, 'benz': 645, 'limo': 3716, 'eyebrow': 2296, 'meditation': 4008, 'barrel': 564, 'rider': 5455, 'horse': 2978, 'hitler': 2937, 'overpopulation': 4601, 'flower': 2464, 'fresh': 2551, 'mehendi': 4017, 'democrat': 1647, 'homophobic': 2961, 'rethink': 5419, 'rhetoric': 5443, 'dinner': 1765, 'invasion': 3280, 'ukraine': 6632, 'polish': 4886, 'revenge': 5428, 'wolyn': 7016, 'ukrainian': 6633, 'brutally': 849, 'murder': 4258, 'thousand': 6400, 'haemoglobin': 2814, 'linkin': 3726, 'cool': 1393, 'desktop': 1689, 'substance': 6152, 'receipt': 5264, 'jamshedpur': 3373, 'mirror': 4122, 'attractive': 451, 'freudian': 2555, 'recession': 5270, 'palisade': 4646, 'tower': 6487, 'porion': 4915, 'conviction': 1387, 'pardon': 4666, 'annie': 289, 'vivanti': 6848, 'mea': 3987, 'culpa': 1517, 'prostitute': 5086, 'community': 1266, 'severe': 5721, 'remedy': 5349, 'effectively': 2003, 'boomerang': 771, 'zone': 7108, 'calvinball': 928, 'tiller': 6427, 'garden': 2617, 'hanuman': 2839, 'vahana': 6748, 'camel': 931, 'troubled': 6562, 'goa': 2706, 'ropar': 5507, 'desirable': 1687, 'girls': 2683, 'antique': 309, 'object': 4471, 'emma': 2063, 'indirectly': 3158, 'cenp': 1026, 'mailing': 3866, 'playboy': 4854, 'callboy': 919, 'tez': 6372, 'offensive': 4498, 'advertising': 112, 'jazzy': 3385, 'rock': 5483, 'gnostic': 2704, 'gospel': 2730, 'forgery': 2499, 'ravioli': 5235, 'cissp': 1135, 'platform': 4850, 'screen': 5641, 'nostradamus': 4427, 'kelvin': 3491, 'transgender': 6513, 'bangkok': 546, 'spi': 5993, 'coep': 1212, 'rural': 5530, 'gall': 2607, 'holm': 2946, 'correia': 1413, 'sand': 5567, 'salt': 5561, 'mixture': 4140, 'front': 2568, 'randomness': 5214, 'solidity': 5921, 'ethereum': 2177, 'url': 6726, 'socialism': 5903, 'cheaper': 1076, 'rent': 5361, 'chip': 1100, 'kathmandu': 3477, 'nd': 4325, 'dumb': 1929, 'consequence': 1334, 'overstay': 4606, 'ballistic': 534, 'eclipse': 1977, 'spamming': 5963, 'rating': 5230, 'borax': 773, 'toxic': 6489, 'alternator': 217, 'shortcut': 5772, 'challenging': 1050, 'farmer': 2336, 'sacrificial': 5542, 'lamb': 3590, 'deem': 1617, 'han': 2829, 'undergo': 6653, 'castration': 992, 'implication': 3116, 'plot': 4861, 'pacing': 4623, 'trilogy': 6551, 'qa': 5154, 'rogan': 5487, 'truly': 6567, 'hungry': 3014, 'male': 3880, 'sperm': 5989, 'birth': 709, 'deactivate': 1586, 'blackbody': 720, 'spectrum': 5984, 'developmentally': 1713, 'eriksen': 2150, 'signing': 5804, 'rupees': 5529, 'youtuber': 7088, 'debasree': 1596, 'banerjee': 543, 'affiliate': 127, 'radical': 5194, 'whatwill': 6954, 'wrapp': 7042, 'following': 2480, 'behavior': 616, 'difficulty': 1748, 'paralizing': 4658, 'perfeccionism': 4750, 'depreciaton': 1670, 'rourkela': 5514, 'differently': 1745, 'scream': 5638, 'helplessly': 2898, 'sky': 5859, 'repeat': 5365, 'abvicable': 31, 'feng': 2379, 'shui': 5787, 'geopathic': 2654, 'illustration': 3091, 'hydrate': 3026, 'formation': 2505, 'pastel': 4694, 'goth': 2733, 'bentinho': 643, 'massaro': 3949, 'jocelyn': 3413, 'daher': 1558, 'cum': 1523, 'lucifer': 3816, 'announce': 291, 'advocate': 117, 'shooting': 5767, 'comfort': 1251, 'scold': 5627, 'lay': 3627, 'hetero': 2913, 'catanation': 998, 'inspector': 3214, 'format': 2504, 'dole': 1853, 'afterwards': 137, 'nami': 4290, 'seriously': 5707, 'undisputed': 6667, 'iraq': 3314, 'afghanistan': 131, 'legitimate': 3664, 'visa': 6836, 'pitch': 4830, 'leasership': 3647, 'dd': 1584, 'crystal': 1504, 'ethnic': 2180, 'dee': 1616, 'dexter': 1719, 'laboratory': 3577, 'tune': 6587, 'nail': 4286, 'clinically': 1173, 'psychopathic': 5111, 'mrf': 4232, 'airplane': 161, 'tire': 6436, 'moto': 4219, 'censor': 1027, 'translator': 6522, 'fellow': 2371, 'cop': 1398, 'own': 4611, 'overrepresented': 4604, 'shinchan': 5756, 'himawari': 2925, 'eighth': 2016, 'rome': 5499, 'predator': 4961, 'armageddon': 369, 'banning': 554, 'assassin': 413, 'cia': 1126, 'juan': 3439, 'peter': 4780, 'jp': 3438, 'schultz': 5622, 'nba': 4322, 'basket': 572, 'dunk': 1934, 'takeaway': 6281, 'locally': 3765, 'craigslist': 1451, 'marketplace': 3929, 'vietnamese': 6815, 'hated': 2863, 'import': 3118, 'stentor': 6077, 'violin': 6827, 'luts': 3830, 'tile': 6425, 'homeopathy': 2954, 'loss': 3792, 'defibrillator': 1624, 'capacitor': 952, 'specie': 5979, 'attention': 444, 'elementary': 2038, 'algorithms': 187, 'calder': 911, 'creepypasta': 1469, 'driving': 1905, 'permit': 4767, 'peruse': 4777, 'modi': 4159, 'scheme': 5617, 'germanic': 2660, 'vocabulary': 6854, 'counterpoint': 1435, 'largely': 3609, 'danger': 1566, 'gonorrhea': 2719, 'doxycycline': 1881, 'fine': 2424, 'din': 1764, 'stockholm': 6093, 'treaty': 6536, 'rapallo': 5221, 'authority': 475, 'guys': 2802, 'excite': 2238, 'chase': 1072, 'scene': 5614, 'millenium': 4097, 'falcon': 2321, 'shall': 5737, 'pulsar': 5120, 'hornet': 2976, 'cryptocurrencies': 1501, 'rapper': 5224, 'album': 180, 'stevia': 6084, 'fluorescent': 2468, 'norm': 4414, 'memorabilia': 4027, 'cult': 1518, 'jonestown': 3430, 'balaguruswamy': 529, 'stressful': 6117, 'consent': 1333, 'sue': 6165, 'bum': 870, 'zip': 7104, 'lancashire': 3592, 'overachieve': 4595, 'zod': 7105, 'terraform': 6359, 'icwai': 3054, 'icwa': 3053, 'cleanliness': 1160, 'psychological': 5106, 'etsy': 2182, 'aesthetic': 120, 'multimedia': 4247, 'capital': 954, 'tapper': 6298, 'cleanse': 1161, 'detox': 1705, 'naughty': 4316, 'bombay': 761, 'ebooks': 1972, 'assistance': 419, 'unable': 6639, 'tirupati': 6438, 'sra': 6025, 'wizard': 7011, 'jock': 3414, 'itch': 3348, 'permanent': 4764, 'medication': 4002, 'tired': 6437, 'fatigue': 2349, 'concentrate': 1297, 'raise': 5206, 'luna': 3823, 'gravity': 2762, 'feminazi': 2375, 'lucknow': 3817, 'cloth': 1184, 'mcneeley': 3985, 'deliberately': 1636, 'journeyman': 3437, 'hype': 3030, 'mike': 4089, 'tyson': 6614, 'upper': 6712, 'maharashtra': 3860, 'grace': 2742, 'fox': 2522, 'ipo': 3306, 'spa': 5957, 'massage': 3948, 'crocodile': 1483, 'scorpion': 5632, 'tradition': 6497, 'kabbalah': 3462, 'fordham': 2492, 'analhak': 254, 'dual': 1918, 'subtitle': 6154, 'hd': 2868, 'krennic': 3560, 'choke': 1107, 'aspiration': 409, 'ellora': 2047, 'sculpture': 5646, 'igneous': 3073, 'comfortably': 1252, 'parel': 4667, 'fundamental': 2590, 'branson': 805, 'scenic': 5615, 'missouri': 4133, 'bollywood': 759, 'preview': 5001, 'vega': 6773, 'golden': 2714, 'nhl': 4373, 'openly': 4534, 'sake': 5551, 'calcaneal': 904, 'spur': 6016, 'polarimerty': 4881, 'optical': 4549, 'harder': 2846, 'johnson': 3420, 'cowboys': 1446, 'belichick': 623, 'patriot': 4705, 'homosexuality': 2963, 'panchakarma': 4648, 'conjunction': 1323, 'bali': 531, 'cake': 902, 'anantnag': 261, 'pipe': 4827, 'square': 6023, 'glass': 2690, 'animator': 282, 'rap': 5220, 'outstretched': 4593, 'ward': 6896, 'blackness': 721, 'lecturing': 3653, 'inspire': 3216, 'djimon': 1835, 'hounsou': 2985, 'spacecraft': 5959, 'momentum': 4170, 'truster': 6572, 'push': 5146, 'variance': 6765, 'proper': 5074, 'equity': 2141, 'attend': 442, 'unbearable': 6643, 'bus': 883, 'brts': 847, 'explicitly': 2272, 'ron': 5500, 'deathly': 1595, 'hallows': 2823, 'nigeria': 4380, 'lnmiit': 3760, 'staircases': 6043, 'maybe': 3976, 'surround': 6217, 'parapet': 4664, 'amuse': 252, 'arabic': 359, 'flag': 2445, 'hoist': 2940, 'observe': 4478, 'provoke': 5102, 'reaction': 5242, 'ucsb': 6623, 'ucsd': 6624, 'venezuela': 6784, 'postcard': 4935, 'collector': 1229, 'joseph': 3433, 'simplified': 5820, 'ipcc': 3303, 'copy': 1401, 'baloney': 535, 'downright': 1879, 'pathetic': 4700, 'unemployed': 6669, 'punishable': 5128, 'jail': 3365, 'ethical': 2178, 'hacking': 2812, 'canary': 942, 'enroll': 2109, 'learnvern': 3645, 'reverse': 5431, 'lois': 3777, 'status': 6066, 'awadhi': 489, 'bajjika': 525, 'bhojpuri': 667, 'maithili': 3873, 'deposit': 1669, 'betway': 654, 'eurovision': 2192, 'contest': 1366, 'fuckin': 2579, 'af': 122, 'vapor': 6761, 'continuity': 1370, 'belongs': 630, 'catchy': 1001, 'quran': 5183, 'speaks': 5972, 'gog': 2709, 'magog': 3856, 'float': 2458, 'stylist': 6136, 'edition': 1994, 'bello': 627, 'gallico': 2609, 'cascade': 984, 'lti': 3812, 'causal': 1007, 'stable': 6037, 'inference': 3174, 'silicon': 5811, 'valley': 6755, 'marker': 3925, 'manifest': 3900, 'tbe': 6314, 'db': 1582, 'ki': 3505, 'trinicalm': 6552, 'webassembly': 6925, 'javascript': 3382, 'joint': 3423, 'jointly': 3424, 'revolution': 5435, 'intolerance': 3266, 'kingsman': 3524, 'eggsy': 2010, 'charlie': 1068, 'taunt': 6310, 'rude': 5521, 'dior': 1768, 'payable': 4713, 'flow': 2463, 'dissolve': 1815, 'thorough': 6397, 'typeface': 6607, 'widespread': 6977, 'attitude': 445, 'jury': 3456, 'sucker': 6161, 'jaramogi': 3377, 'oginga': 4506, 'odinga': 4495, 'independence': 3147, 'gwent': 2803, 'geiger': 2630, 'counter': 1433, 'bind': 692, 'tolerate': 6456, 'nuisance': 4452, 'turtle': 6596, 'additive': 83, 'inverse': 3285, 'negative': 4334, 'netweaver': 4350, 'bowling': 789, 'massacre': 3947, 'mlk': 4142, 'tanf': 6294, 'benifits': 640, 'warranty': 6899, 'undergrad': 6654, 'adrenaline': 100, 'pupil': 5132, 'guardian': 2785, 'retrieve': 5422, 'rogue': 5488, 'crew': 1471, 'relocate': 5343, 'ghana': 2668, 'oily': 4510, 'fatherhood': 2347, 'virus': 6835, 'hdd': 2869, 'indirect': 3157, 'correspondence': 1414, 'spacex': 5961, 'cobra': 1206, 'kai': 3467, 'johnny': 3419, 'lawrence': 3625, 'town': 6488, 'euro': 2188, 'tumblr': 6584, 'lgbtq': 3688, 'demonstrate': 1651, 'thermodynamics': 6389, 'hunt': 3015, 'aerie': 118, 'inconsiderate': 3140, 'affair': 124, 'border': 774, 'internationally': 3258, 'ethene': 2176, 'smooth': 5886, 'jazz': 3384, 'amarnath': 227, 'yatra': 7073, 'peace': 4726, 'touch': 6480, 'butt': 889, 'kavan': 3479, 'hassan': 2860, 'rouhani': 5511, 'tear': 6322, 'iranian': 3313, 'warfare': 6897, 'topical': 6469, 'lighten': 3707, 'keloid': 3490, 'scar': 5607, 'silicone': 5812, 'gpa': 2738, 'observatory': 4477, 'sham': 5739, 'diode': 1766, 'circumstance': 1134, 'normally': 4416, 'ai': 152, 'chatbot': 1074, 'interesting': 3251, 'los': 3790, 'angeles': 273, 'las': 3611, 'rhythm': 5445, 'breezer': 822, 'kindle': 3520, 'pokemon': 4878, 'atp': 437, 'synthesis': 6266, 'fortitide': 2509, 'dealership': 1592, 'cute': 1541, 'isb': 3326, 'consulting': 1357, 'sphere': 5990, 'schooler': 5620, 'identify': 3063, 'choledochal': 1108, 'cyst': 1550, 'warrior': 6901, 'swordsman': 6252, 'gypsie': 2805, 'symbolic': 6258, 'logical': 3773, 'nighttime': 4384, 'ambition': 234, 'fibroid': 2398, 'lover': 3804, 'crush': 1496, 'nipple': 4390, 'adult': 103, 'silky': 5813, 'soft': 5913, 'consolidate': 1344, 'postpone': 4937, 'buddhist': 861, 'monk': 4182, 'linear': 3719, 'circuit': 1130, 'tuberculosis': 6578, 'include': 3138, 'superbug': 6190, 'pose': 4923, 'michelangelo': 4073, 'sistine': 5839, 'chapel': 1060, 'ceiling': 1016, 'meteorite': 4058, 'adolf': 97, 'eichmann': 2014, 'corn': 1405, 'microwave': 4081, 'latino': 3618, 'withdrow': 7007, 'bomblasts': 762, 'incident': 3136, 'diligence': 1758, 'conduct': 1310, 'henpecked': 2903, 'patterson': 4707, 'philippine': 4792, 'syllabus': 6256, 'crossdress': 1486, 'survival': 6220, 'unit': 6681, 'em': 2051, 'muammar': 4239, 'gaddafi': 2599, 'kenoly': 3494, 'jennifer': 3392, 'katharine': 3476, 'hepburn': 2905, 'meryl': 4048, 'streep': 6110, 'genocidal': 2644, 'uproot': 6713, 'examiner': 2228, 'derivation': 1675, 'ncert': 4323, 'uan': 6616, 'till': 6426, 'required': 5382, 'habib': 2807, 'fanny': 2332, 'eventually': 2200, 'pariah': 4670, 'ultimate': 6634, 'snowflake': 5898, 'correspondent': 1415, 'inductor': 3166, 'dc': 1583, 'kn': 3534, 'tha': 6374, 'protagonist': 5087, 'calorie': 924, 'hershey': 2911, 'kiss': 3526, 'lucid': 3815, 'astral': 425, 'projection': 5062, 'permanently': 4765, 'conscious': 1330, 'transformation': 6511, 'jacobian': 3362, 'limitation': 3714, 'spouse': 6010, 'recently': 5267, 'drunk': 1913, 'apostate': 323, 'protrons': 5095, 'neutron': 4359, 'commits': 1260, 'गई': 7111, 'narendra': 4298, 'bsnl': 854, 'constipation': 1348, 'apart': 318, 'madhya': 3846, 'pradesh': 4954, 'cite': 1138, 'false': 2323, 'alarm': 175, 'nightmare': 4383, 'tummy': 6585, 'ache': 54, 'laravel': 3607, 'obstacle': 4482, 'superpower': 6195, 'jakarta': 3369, 'wander': 6891, 'epoxy': 2134, 'coating': 1205, 'cement': 1025, 'soylent': 5956, 'strawberry': 6107, 'digitally': 1754, 'tale': 6283, 'lacrimal': 3583, 'punctum': 5125, 'swell': 6245, 'ally': 205, 'bcz': 587, 'excel': 2231, 'analyse': 256, 'cbit': 1010, 'dignity': 1755, 'patriarchal': 4703, 'compromise': 1289, 'dipole': 1773, 'ohm': 4508, 'impedance': 3112, 'refrigerator': 5304, 'kerala': 3499, 'engineerer': 2097, 'recommed': 5279, 'bondage': 764, 'wind': 6988, 'umour': 6636, 'swann': 6236, 'eden': 1989, 'remark': 5347, 'com': 1242, 'fiitjee': 2407, 'iitjee': 3085, 'navi': 4318, 'cabinet': 896, 'beneath': 633, 'elasticated': 2022, 'fitted': 2440, 'tuck': 6579, 'corner': 1406, 'exhibit': 2250, 'symptom': 6261, 'cerebral': 1033, 'hypoxia': 3038, 'roth': 5510, 'anthony': 304, 'van': 6758, 'halen': 2818, 'capitalize': 955, 'iipe': 3082, 'vizag': 6850, 'title': 6443, 'synthetic': 6267, 'fiber': 2396, 'bio': 694, 'chemist': 1081, 'deep': 1618, 'kvpy': 3573, 'interviewer': 3264, 'newspaper': 4365, 'benchmark': 632, 'repercussion': 5367, 'forum': 2513, 'divide': 1827, 'clone': 1180, 'failure': 2316, 'playstore': 4857, 'labtop': 3579, 'broadcast': 833, 'useless': 6736, 'crap': 1453, 'abort': 15, 'consumption': 1361, 'migraine': 4087, 'nursing': 4457, 'reside': 5391, 'cretaceous': 1470, 'extinction': 2288, 'catholic': 1006, 'church': 1125, 'onion': 4524, 'intensity': 3243, 'radiator': 5193, 'peak': 4729, 'wavelength': 6911, 'inceases': 3134, 'christmas': 1118, 'mbm': 3980, 'jodhpur': 3416, 'crossover': 1487, 'mic': 4069, 'venue': 6790, 'musician': 4264, 'reunite': 5425, 'lesotho': 3674, 'swaziland': 6239, 'namibia': 4291, 'maid': 3864, 'heartbreak': 2883, 'eradicate': 2144, 'npd': 4440, 'gordon': 2726, 'miller': 4098, 'tarzana': 6303, 'edgar': 1990, 'burroughs': 881, 'tarzan': 6302, 'seoul': 5695, 'vegan': 6774, 'inuyasha': 3277, 'citizenship': 1140, 'lola': 3778, 'blanc': 723, 'parameter': 4661, 'nosy': 4428, 'untrustworthy': 6702, 'anybody': 311, 'rob': 5475, 'bunty': 873, 'whose': 6972, 'oye': 4617, 'lucky': 3818, 'cursor': 1532, 'autism': 477, 'liquid': 3732, 'complex': 1282, 'polyamorous': 4897, 'societal': 5905, 'backfire': 510, 'feminist': 2378, 'sjws': 5846, 'ucas': 6620, 'ap': 316, 'sat': 5578, 'retainer': 5416, 'toilet': 6452, 'diploma': 1772, 'imas': 3097, 'cma': 1195, 'honor': 2968, 'bunheads': 872, 'direct': 1774, 'asia': 401, 'turkic': 6591, 'conquest': 1328, 'rama': 5209, 'avatar': 484, 'vishnu': 6838, 'shivaji': 5763, 'maharaj': 3859, 'father': 2346, 'spanish': 5965, 'plagiocephaly': 4837, 'cast': 989, 'validity': 6754, 'photograph': 4803, 'painting': 4638, 'consistent': 1342, 'chafe': 1043, 'suggest': 6169, 'asymmetrical': 429, 'hotmail': 2984, 'duke': 1927, 'kkk': 3531, 'evolve': 2217, 'clarify': 1149, 'density': 1654, 'drift': 1899, 'brighter': 826, 'spark': 5966, 'stereotypical': 6081, 'confidence': 1315, 'arrogance': 384, 'acoustic': 59, 'guitar': 2792, 'pub': 5114, 'statistical': 6064, 'library': 3693, 'immature': 3100, 'fuck': 2577, 'koko': 3548, 'gorilla': 2729, 'masculine': 3943, 'slavoj': 5864, 'žižek': 7109, 'karl': 3474, 'marx': 3940, 'dispatcher': 1808, 'medically': 4001, 'qualify': 5157, 'empower': 2076, 'seriousness': 5708, 'caller': 920, 'scaler': 5602, 'agree': 146, 'polygamous': 4900, 'mythology': 4280, 'folklore': 2476, 'teenage': 6332, 'competitive': 1276, 'boxing': 792, 'ship': 5758, 'cleaning': 1159, 'detailing': 1697, 'exterior': 2285, 'interior': 3254, 'citycarclean': 1142, 'multiverse': 4250, 'viking': 6820, 'sweden': 6242, 'finland': 2429, 'georgia': 2656, 'nato': 4312, 'usual': 6741, 'deterministic': 1704, 'nondeterministic': 4408, 'gendered': 2633, 'familiar': 2326, 'anthropology': 305, 'ect': 1988, 'aluminum': 220, 'dissipate': 1814, 'brake': 800, 'versa': 6794, 'joan': 3411, 'miró': 4123, 'painter': 4637, 'cliff': 1169, 'perfect': 4751, 'perfectly': 4753, 'ettringite': 2183, 'leading': 3637, 'surveyor': 6219, 'discipline': 1789, 'screechy': 5640, 'uesing': 6626, 'withdrew': 7006, 'tpp': 6491, 'radial': 5192, 'pulse': 5121, 'lacerate': 3580, 'milo': 4101, 'sleepy': 5866, 'misdemeanor': 4125, 'felony': 2372, 'judgmental': 3443, 'parable': 4655, 'betta': 652, 'neon': 4342, 'tetra': 6367, 'aquarium': 354, 'willhandjob': 6983, 'loose': 3785, 'virginity': 6831, 'habitat': 2809, 'tiger': 6420, 'shark': 5744, 'exaggerate': 2223, 'seek': 5668, 'excuse': 2243, 'underestimate': 6651, 'leia': 3666, 'skirt': 5857, 'drape': 1890, 'jabba': 3358, 'billionsites': 688, 'jack': 3359, 'jones': 3429, 'june': 3450, 'mole': 4164, 'boric': 778, 'acid': 56, 'thank': 6378, 'szechuan': 6271, 'aromatics': 378, 'motor': 4220, 'spirit': 5999, 'exceed': 2230, 'totally': 6479, 'accountable': 47, 'insecure': 3210, 'worried': 7036, 'overthinking': 4607, 'erase': 2145, 'rx': 5535, 'refurbish': 5308, 'laptops': 3606, 'overhead': 4599, 'pronounce': 5068, 'bentley': 644, 'farook': 2337, 'abdullah': 6, 'jinnah': 3407, 'judgement': 3442, 'height': 2891, 'ignition': 3074, 'cc': 1012, 'litre': 3750, 'petrol': 4781, 'outsource': 4592, 'dentistry': 1657, 'supportive': 6202, 'firearm': 2431, 'socialist': 5904, 'fireguns': 2432, 'nutrilite': 4458, 'rhodiola': 5444, 'maintenance': 3872, 'unsafe': 6696, 'urdu': 6723, 'core': 1403, 'wheat': 6955, 'penny': 4743, 'adamantine': 75, 'marvel': 3939, 'comic': 1253, 'residency': 5392, 'orleans': 4575, 'inspirational': 3215, 'prelim': 4970, 'pakistani': 4642, 'indigenous': 3156, 'width': 6978, 'pixel': 4831, 'creation': 1459, 'kolkata': 3549, 'bhubaneswar': 670, 'motorbike': 4221, 'notch': 4430, 'lavender': 3623, 'dividing': 1829, 'upset': 6716, 'molest': 4166, 'passport': 4690, 'identification': 3062, 'sample': 5562, 'periodic': 4761, 'potato': 4939, 'tuber': 6577, 'mongoloid': 4179, 'renewed': 5360, 'volunteer': 6865, 'puerto': 5119, 'rico': 5451, 'inland': 3202, 'dock': 1841, 'organizational': 4568, 'amato': 229, 'dukanat': 1926, 'muliebrity': 4245, 'brainwashed': 799, 'vein': 6778, 'trivia': 6557, 'barc': 560, 'bioscience': 699, 'moisturisers': 4163, 'slingshot': 5871, 'supreme': 6204, 'argue': 365, 'adapt': 76, 'bull': 868, 'deeply': 1619, 'alkyl': 196, 'bromide': 838, 'partial': 4676, 'waymo': 6914, 'chrysler': 1121, 'pacifica': 4622, 'cuba': 1513, 'sastra': 5576, 'adolescence': 96, 'intuition': 3275, 'ayurvedic': 498, 'kadyrov': 3465, 'slove': 5872, 'rubick': 5520, 'constructive': 1353, 'rebuild': 5262, 'failed': 2314, 'op': 4531, 'endogenetic': 2085, 'exogenetic': 2255, 'differ': 1740, 'subheading': 6142, 'tbh': 6315, 'prefix': 4966, 'wang': 6892, 'belgrade': 622, 'serbia': 5702, 'yoda': 7082, 'lifespan': 3702, 'longer': 3783, 'shiv': 5762, 'nadar': 4283, 'differentiate': 1744, 'writing': 7050, 'discus': 1797, 'ict': 3052, 'constraint': 1351, 'positive': 4926, 'creativity': 1462, 'nude': 4449, 'indulge': 3167, 'happening': 2841, 'becquer': 601, 'clog': 1178, 'creamy': 1457, 'justeat': 3457, 'ubereats': 6618, 'foodora': 2485, 'retailer': 5414, 'tattoo': 6309, 'mouth': 4226, 'lingua': 3721, 'franca': 2528, 'wealth': 6919, 'gdp': 2628, 'caput': 961, 'dr': 1882, 'vinay': 6823, 'kumaran': 3565, 'liver': 3755, 'transplant': 6525, 'shadow': 5732, 'blush': 748, 'lipstick': 3731, 'conscription': 1332, 'intp': 3268, 'doom': 1867, 'unless': 6689, 'string': 6119, 'intel': 3238, 'amaranth': 226, 'seed': 5666, 'plasic': 4845, 'dumping': 1931, 'vice': 6807, 'watts': 6909, 'volt': 6860, 'brush': 848, 'sunrise': 6187, 'swim': 6247, 'tumbler': 6583, 'loca': 3763, 'netflix': 4347, 'fandango': 2331, 'quickbooks': 5170, 'payroll': 4716, 'northeast': 4421, 'dung': 1933, 'taiwan': 6279, 'usaually': 6730, 'caliber': 916, 'mauser': 3970, 'kiit': 3512, 'orientation': 4570, 'stuff': 6131, 'reporting': 5374, 'bold': 758, 'agreeable': 147, 'klinefelter': 3532, 'syndrome': 6264, 'lean': 3640, 'bodybuilder': 755, 'medusa': 4010, 'sutherland': 6229, 'astronomical': 427, 'observation': 4476, 'popularizer': 4912, 'emt': 2079, 'seedless': 5667, 'coordinator': 1397, 'palestine': 4644, 'abbas': 5, 'minecraft': 4108, 'robotics': 5482, 'microphone': 4078, 'srk': 6028, 'rebellion': 5260, 'anoint': 294, 'ordain': 4560, 'theocracy': 6385, 'monarchy': 4171, 'kayastha': 3480, 'mughal': 4242, 'barbaric': 559, 'islamic': 3332, 'demo': 1645, 'sb': 5597, 'silencer': 5807, 'rim': 5459, 'reliable': 5338, 'workshop': 7032, 'taller': 6289, 'mysterious': 4276, 'literary': 3746, 'rebecca': 5259, 'brook': 840, 'polar': 4880, 'solvent': 5928, 'solute': 5925, 'nutritional': 4459, 'talc': 6282, 'ripple': 5464, 'unicorns': 6675, 'awesome': 494, 'embarrassing': 2053, 'monodevelop': 4184, 'halt': 2824, 'yellowstone': 7076, 'volcano': 6859, 'staff': 6039, 'weakness': 6918, 'mathworks': 3964, 'publication': 5116, 'gentleman': 2647, 'hormone': 2974, 'expectation': 2262, 'nga': 4370, 'craig': 1450, 'isiah': 3330, 'friedlander': 2559, 'shane': 5740, 'cal': 903, 'dramatic': 1889, 'entrance': 2119, 'neodymium': 4341, 'postal': 4934, 'usps': 6739, 'personalize': 4773, 'letter': 3679, 'santa': 5570, 'withdraw': 7004, 'assamese': 412, 'vaishnavites': 6750, 'beef': 606, 'spite': 6002, 'revere': 5430, 'vaishnav': 6749, 'worship': 7038, 'mitsubishi': 4138, 'pajero': 4640, 'gls': 2697, 'aperture': 320, 'retrospective': 5423, 'transmit': 6523, 'beamforming': 592, 'stone': 6096, 'ussr': 6740, 'sputnik': 6017, 'stupidly': 6133, 'vanguard': 6759, 'la': 3575, 'seattle': 5656, 'bay': 581, 'region': 5313, 'strucuture': 6124, 'msit': 4235, 'scottish': 5634, 'pussy': 5147, 'ferraris': 2383, 'privately': 5021, 'vaginal': 6747, 'fluid': 2467, 'reassignment': 5258, 'entp': 2118, 'weekend': 6933, 'saudi': 5588, 'kuwait': 3571, 'refuge': 5305, 'interested': 3250, 'franchisee': 2531, 'fil': 2408, 'desperate': 1690, 'gon': 2718, 'reduced': 5296, 'liquidity': 3734, 'riskiness': 5467, 'prisoner': 5018, 'undetermined': 6665, 'coefficient': 1211, 'laplace': 3603, 'apologize': 322, 'oppression': 4545, 'everlast': 2202, 'punch': 5124, 'bag': 521, 'ft': 2576, 'circumference': 1133, 'reckon': 5273, 'proficient': 5049, 'exact': 2221, 'realm': 5254, 'aged': 139, 'hudson': 2997, 'wi': 6974, 'collegeboard': 1231, 'cloister': 1179, 'lnct': 3759, 'bhopl': 669, 'consumer': 1359, 'shield': 5754, 'gargi': 2619, 'bksc': 718, 'disability': 1782, 'aspect': 407, 'mural': 4257, 'stephen': 6079, 'austin': 468, 'satisfaction': 5582, 'defence': 1622, 'ivanka': 3354, 'judge': 3441, 'harshly': 2853, 'eminem': 2060, 'lyric': 3835, 'uncle': 6646, 'aunt': 464, 'pondan': 4903, 'transsexual': 6528, 'transvestite': 6529, 'malay': 3879, 'epidemic': 2129, 'pandemic': 4650, 'spread': 6012, 'konakam': 3551, 'essential': 2166, 'diffuser': 1750, 'brass': 806, 'schooling': 5621, 'loreal': 3788, 'dye': 1945, 'salon': 5560, 'jhana': 3402, 'evm': 2212, 'election': 2027, 'median': 3998, 'mnnit': 4147, 'emerge': 2055, 'translated': 6520, 'poet': 4873, 'poems': 4871, 'spaniard': 5964, 'efficacy': 2005, 'evms': 2213, 'manipulate': 3902, 'fitness': 2439, 'youtubers': 7089, 'intact': 3233, 'mentality': 4034, 'condensation': 1306, 'protection': 5089, 'machinery': 3843, 'steel': 6075, 'metre': 4063, 'coral': 1402, 'xeno': 7058, 'goten': 2732, 'ssg': 6033, 'bhuvan': 671, 'bam': 537, 'impress': 3123, 'calpurnia': 925, 'influence': 3182, 'jem': 3391, 'scout': 5636, 'anthe': 303, 'spin': 5997, 'tickle': 6417, 'nervous': 4345, 'hawk': 2865, 'fraction': 2524, 'exponent': 2276, 'crop': 1484, 'dslr': 1916, 'camera': 932, 'corrode': 1416, 'kidney': 3510, 'maggie': 3850, 'suzanne': 6230, 'farrell': 2338, 'bhajiawala': 661, 'paintball': 4636, 'airsoft': 164, 'nonlinear': 4409, 'edit': 1993, 'grabol': 2741, 'calll': 922, 'kanyakumari': 3470, 'importance': 3119, 'alastor': 176, 'moody': 4197, 'nitpicks': 4394, 'morse': 4206, 'fiancées': 2395, 'insanely': 3207, 'attracted': 449, 'disconnect': 1791, 'uncertainty': 6645, 'keeper': 3485, 'molester': 4167, 'hyundai': 3039, 'cvt': 1545, 'condense': 1307, 'methodist': 4061, 'sea': 5648, 'cancun': 945, 'anderfels': 267, 'thedas': 6382, 'pachelbel': 4620, 'canon': 948, 'beaver': 599, 'housing': 2988, 'muthoot': 4270, 'lcd': 3633, 'plate': 4848, 'miranda': 4121, 'cosgrove': 1420, 'caribbean': 975, 'tamilnadu': 6291, 'drought': 1911, 'purine': 5139, 'soluble': 5924, 'dispose': 1811, 'massachusetts': 3946, 'gre': 2763, 'ieee': 3068, 'airpower': 163, 'wireless': 6999, 'discovery': 1795, 'nasa': 4302, 'srm': 6029, 'campus': 937, 'jaipur': 3367, 'soul': 5946, 'potty': 4944, 'planning': 4843, 'execute': 2244, 'privacy': 5019, 'blockchain': 735, 'swach': 6233, 'bharat': 663, 'abhiyan': 7, 'infinity': 3179, 'transwomen': 6530, 'dictate': 1731, 'ciswomen': 1136, 'eg': 2008, 'aliexpress': 192, 'sd': 5647, 'wayfair': 6913, 'inc': 3133, 'scotus': 5635, 'ruling': 5525, 'mi': 4067, 'rs': 5518, 'plum': 4863, 'pip': 4826, 'sketch': 5848, 'ipl': 3305, 'pender': 4739, 'lushington': 3828, 'ch': 1041, 'discourse': 1793, 'intellectual': 3240, 'showcase': 5781, 'unjust': 6688, 'ie': 3067, 'envy': 2125, 'demat': 1643, 'consciousness': 1331, 'bruuuuuu': 850, 'shshshd': 5786, 'saw': 5593, 'potentially': 4941, 'http': 2995, 'milan': 4090, 'charter': 1071, 'accountant': 48, 'pat': 4695, 'handbag': 2831, 'highly': 2918, 'appreciate': 339, 'jurisprudence': 3455, 'newzeland': 4367, 'platinum': 4851, 'blonde': 740, 'benjamin': 641, 'keldani': 3488, 'grout': 2780, 'peck': 4732, 'horndean': 2975, 'animals': 280, 'categorically': 1002, 'thumb': 6412, 'intent': 3245, 'mormon': 4203, 'gradually': 2744, 'roll': 5492, 'hermetic': 2908, 'doctrine': 1845, 'prophecy': 5077, 'evolution': 2215, 'enamor': 2081, 'arcane': 361, 'esoterica': 2162, 'combine': 1246, 'romania': 5496, 'premed': 4972, 'hyip': 3028, 'calf': 914, 'iptables': 3307, 'recovery': 5285, 'dislike': 1805, 'overwhelmingly': 4610, 'trained': 6503, 'department': 1660, 'pierce': 4820, 'ke': 3482, 'hunter': 3016, 'derren': 1677, 'brown': 842, 'fraudsters': 2538, 'nirav': 4391, 'vijay': 6819, 'mallya': 3881, 'loot': 3786, 'pm': 4866, 'chest': 1087, 'doinformation': 1852, 'accidentally': 41, 'telegram': 6336, 'chat': 1073, 'immediately': 3101, 'appoint': 338, 'humor': 3008, 'morgue': 4201, 'peanut': 4730, 'butter': 890, 'liquor': 3737, 'handcuff': 2832, 'broiler': 835, 'cage': 901, 'known': 3543, 'zainab': 7095, 'bint': 693, 'sa': 5537, 'anniversary': 290, 'commerce': 1256, 'shopify': 5769, 'bigcommerce': 680, 'magento': 3849, 'counselor': 1431, 'recommendation': 5281, 'eca': 1974, 'scanned': 5606, 'recom': 5277, 'beneficial': 634, 'geography': 2651, 'journalist': 3435, 'revolutionize': 5437, 'institution': 3227, 'tigris': 6424, 'euphrates': 2187, 'river': 5470, 'widely': 6976, 'egyptian': 2013, 'tineye': 6431, 'shi': 5753, 'cooperate': 1395, 'whitehouse': 6969, 'shun': 5788, 'applicable': 334, 'hood': 2970, 'scoop': 5628, 'blower': 746, 'custody': 1536, 'presumption': 4991, 'arrangement': 381, 'cruze': 1497, 'giá': 2687, 'bao': 556, 'nhiêu': 4372, 'tại': 6615, 'việt': 6851, 'nam': 4288, 'bpc': 795, 'eamcet': 1949, 'listener': 3741, 'meaningful': 3991, 'heroine': 2910, 'abou': 17, 'gandhinagar': 2613, 'hairy': 2817, 'underestimated': 6652, 'pasta': 4693, 'sauce': 5587, 'invitation': 3294, 'matrimonial': 3965, 'regulate': 5320, 'ensure': 2110, 'factual': 2311, 'unbiased': 6644, 'deployment': 1665, 'ebp': 1973, 'triad': 6542, 'miami': 4068, 'colorway': 1239, 'terrorism': 6363, 'patent': 4698, 'genius': 2643, 'quite': 5174, 'jewelry': 3400, 'lackey': 3582, 'praise': 4955, 'vegeta': 6775, 'appliance': 333, 'boiler': 757, 'furnace': 2595, 'combustion': 1247, 'composition': 1287, 'gaseous': 2623, 'propane': 5073, 'reacts': 5243, 'oxygen': 4615, 'temp': 6343, 'merkel': 4045, 'macron': 3845, 'bent': 642, 'refugee': 5306, 'silently': 5809, 'typical': 6609, 'norwegian': 4425, 'climb': 1170, 'cod': 1208, 'refract': 5302, 'nm': 4397, 'angle': 275, 'noice': 4402, 'margin': 3920, 'sinister': 5836, 'eating': 1970, 'omprakash': 4519, 'mishra': 4127, 'er': 2142, 'normandy': 4418, 'mammal': 3883, 'evolutionary': 2216, 'prehistoric': 4969, 'reptile': 5377, 'dimetrodon': 1763, 'triangle': 6544, 'receptionist': 5269, 'cafe': 900, 'robbie': 5477, 'conundrum': 1382, 'carbon': 965, 'monoxide': 4187, 'serbs': 5703, 'broadcasting': 834, 'snap': 5889, 'nmat': 4398, 'tissnet': 6440, 'iift': 3080, 'bayern': 582, 'munich': 4253, 'ribéry': 5447, 'lahm': 3588, 'robben': 5476, 'madrid': 3847, 'champion': 1052, 'mosquito': 4210, 'pond': 4902, 'trace': 6492, 'log': 3770, 'bitsat': 715, 'outloud': 4588, 'socio': 5907, 'kadamba': 3463, 'conference': 1314, 'enjoyable': 2103, 'audit': 461, 'globally': 2695, 'upgrade': 6709, 'freshersworld': 2553, 'premium': 4975, 'evan': 2195, 'samuel': 5564, 'mickelson': 4075, 'derek': 1674, 'parfit': 4669, 'douglass': 1875, 'hofstadter': 2939, 'plagiarize': 4836, 'dan': 1564, 'dennet': 1652, 'th': 6373, 'switzerland': 6251, 'neighbour': 4338, 'xishuangbanna': 7061, 'yunnan': 7092, 'arrival': 383, 'seahawks': 5650, 'locker': 3768, 'xlix': 7063, 'afect': 123, 'length': 3669, 'completion': 1281, 'invisible': 3293, 'invisibility': 3292, 'terminology': 6358, 'universally': 6684, 'regularly': 5319, 'appropriately': 344, 'calligraphy': 921, 'resultant': 5411, 'magnitude': 3854, 'brinjal': 828, 'typhoid': 6608, 'illegally': 3089, 'radiology': 5197, 'mvp': 4272, 'boost': 772, 'festive': 2385, 'fingertip': 2426, 'emitter': 2062, 'bjt': 717, 'ktm': 3562, 'adventure': 108, 'bajaj': 524, 'chakan': 1047, 'proficiency': 5048, 'manu': 3909, 'hdfc': 2870, 'germeny': 2662, 'drill': 1900, 'diametrically': 1729, 'bomb': 760, 'exhibition': 2251, 'oregano': 4563, 'saving': 5592, 'lic': 3694, 'reagan': 5248, 'regulation': 5321, 'poverty': 4946, 'ingrain': 3190, 'subconsciously': 6140, 'motorcade': 4222, 'lamp': 3591, 'leak': 3639, 'anticorruption': 307, 'activity': 68, 'thrive': 6407, 'nowadays': 4439, 'belive': 626, 'imperial': 3113, 'colony': 1237, 'fusion': 2596, 'isotope': 3338, 'hydrogen': 3027, 'jake': 3370, 'williams': 6985, 'lysol': 3836, 'describe': 1679, 'spring': 6013, 'enchant': 2082, 'noble': 4399, 'expand': 2257, 'massive': 3951, 'block': 734, 'springfield': 6014, 'mo': 4148, 'inner': 3203, 'leh': 3665, 'whqt': 6973, 'creed': 1467, 'delegated': 1632, 'tea': 6317, 'ratio': 5231, 'privilege': 5022, 'apron': 351, 'cook': 1389, 'economical': 1982, 'hebrew': 2888, 'bd': 588, 'stretch': 6118, 'acknowledge': 57, 'occurrence': 4489, 'alanis': 174, 'morissette': 4202, 'purposely': 5142, 'condemn': 1305, 'creationism': 1460, 'genesis': 2639, 'metaphor': 4056, 'hope': 2972, 'finally': 2419, 'topicwise': 6470, 'weightage': 6936, 'clause': 1156, 'infinitive': 3178, 'conjugated': 1322, 'subjunctive': 6144, 'verb': 6791, 'humanizing': 3002, 'sincere': 5827, 'quarterback': 5163, 'october': 4492, 'seasonal': 5654, 'holiday': 2944, 'aldehyde': 182, 'ketone': 3500, 'nah': 4284, 'earny': 1956, 'chump': 1123, 'reserved': 5389, 'tarak': 6299, 'maheta': 3862, 'babita': 502, 'ji': 3404, 'hydernager': 3025, 'bipc': 704, 'lion': 3728, 'je': 3386, 'suis': 6174, 'excitee': 2239, 'inappropriate': 3131, 'connotation': 1326, 'hick': 2915, 'taste': 6307, 'pcm': 4719, 'adverse': 109, 'oxycodone': 4614, 'outbreak': 4585, 'cooling': 1394, 'behave': 615, 'mature': 3968, 'guilty': 2791, 'grammatically': 2749, 'task': 6305, 'carefully': 973, 'tightly': 6423, 'coordinate': 1396, 'vivipoarous': 6849, 'degradation': 1628, 'setting': 5717, 'bryan': 851, 'spherocyte': 5991, 'hereditary': 2907, 'spherocytosis': 5992, 'isophyril': 3337, 'affective': 126, 'bed': 602, 'protocol': 5092, 'retired': 5421, 'cvc': 1544, 'kv': 3572, 'choudary': 1113, 'secretly': 5660, 'recall': 5263, 'irritated': 3323, 'remorseful': 5352, 'disturb': 1825, 'ingredient': 3191, 'shutdown': 5790, 'decimal': 1609, 'calculator': 908, 'virtually': 6834, 'impossible': 3122, 'buyer': 892, 'beware': 656, 'immune': 3106, 'lenovo': 3671, 'root': 5506, 'colonist': 1236, 'calendar': 913, 'contraband': 1372, 'ait': 167, 'vary': 6768, 'bengalore': 639, 'bat': 575, 'depopulation': 1666, 'cryolite': 1499, 'snoop': 5895, 'babysitting': 505, 'assam': 411, 'specialist': 5976, 'civilian': 1145, 'nsit': 4445, 'former': 2506, 'retain': 5415, 'confuse': 1320, 'understands': 6662, 'jewel': 3399, 'slime': 5870, 'inferential': 3175, 'pda': 4723, 'cmu': 1199, 'bu': 856, 'bc': 586, 'northeastern': 4422, 'emory': 2064, 'nyu': 4464, 'michigan': 4074, 'villanova': 6822, 'vegetarian': 6776, 'remedial': 5348, 'vitamin': 6846, 'detective': 1700, 'context': 1367, 'classification': 1153, 'monger': 4173, 'candida': 946, 'julia': 3446, 'gillard': 2677, 'sack': 5540, 'unsupervised': 6701, 'cluster': 1192, 'sender': 5685, 'greer': 2771, 'fraudster': 2537, 'ufo': 6627, 'arabia': 357, 'photography': 4804, 'ipad': 3302, 'browned': 844, 'sausage': 5589, 'cuisine': 1516, 'upsell': 6715, 'deliver': 1639, 'committed': 1261, 'accomodation': 42, 'reffered': 5301, 'exceptional': 2234, 'chipotle': 1101, 'abnormal': 12, 'vfx': 6802, 'charming': 1070, 'pacific': 4621, 'islander': 3335, 'affirmative': 128, 'latvia': 3620, 'estonia': 2171, 'bot': 783, 'filter': 2416, 'tree': 6538, 'sura': 6205, 'meditate': 4007, 'enhance': 2101, 'mindfulness': 4105, 'mantra': 3908, 'awareness': 492, 'trojan': 6558, 'processor': 5033, 'amd': 236, 'gpu': 2739, 'uco': 6621, 'clerk': 1165, 'sniff': 5892, 'info': 3185, 'capgemini': 953, 'experienced': 2267, 'accounting': 49, 'contractor': 1375, 'drainage': 1887, 'documentation': 1847, 'dependency': 1662, 'appeal': 330, 'committee': 1262, 'abuser': 29, 'jellyfish': 3390, 'analytics': 259, 'coke': 1220, 'session': 5715, 'mccabe': 3982, 'bowler': 788, 'collect': 1227, 'geocoins': 2649, 'loyalty': 3808, 'membership': 4024, 'satisfied': 5583, 'ferrari': 2382, 'dynamically': 1947, 'pdf': 4724, 'sexual': 5728, 'desire': 1688, 'flute': 2469, 'sketching': 5849, 'friday': 2556, 'pollution': 4894, 'metro': 4064, 'psychedelic': 5105, 'prayer': 4957, 'imam': 3096, 'geographic': 2650, 'spray': 6011, 'tan': 6293, 'st': 6035, 'kilda': 3513, 'asshole': 417, 'emigrate': 2058, 'consultancy': 1355, 'demand': 1642, 'صور': 7110, 'phoenician': 4798, 'shah': 5734, 'rukh': 5523, 'sherlock': 5752, 'holmes': 2947, 'recruiter': 5288, 'unstable': 6697, 'alter': 215, 'schedule': 5616, 'patanjali': 4696, 'aloevera': 207, 'gel': 2631, 'refuse': 5309, 'beloved': 631, 'mystery': 4277, 'ammeter': 242, 'ac': 32, 'acrimony': 61, 'greenlit': 2769, 'backstory': 515, 'budapest': 859, 'gregory': 2772, 'vii': 6817, 'iv': 3353, 'galilee': 2606, 'bengali': 638, 'dubai': 1921, 'repeatedly': 5366, 'polycystic': 4898, 'ovary': 4594, 'pcos': 4720, 'wellness': 6942, 'tourism': 6482, 'richard': 5450, 'müller': 4281, 'olympic': 4516, 'rio': 5463, 'chair': 1045, 'amcat': 235, 'teeth': 6334, 'extraction': 2291, 'heal': 2875, 'frank': 2535, 'winfield': 6991, 'woolworth': 7022, 'dividend': 1828, 'overwatch': 4608, 'ios': 3300, 'andriod': 270, 'viral': 6828, 'ethnicity': 2181, 'african': 134, 'mixing': 4139, 'inhaled': 3194, 'exhale': 2248, 'misconception': 4124, 'philosophy': 4796, 'invader': 3279, 'akhbar': 168, 'innocent': 3205, 'television': 6340, 'tech': 6324, 'sucessfully': 6159, 'combination': 1245, 'establish': 2169, 'entity': 2117, 'patient': 4701, 'permission': 4766, 'pcr': 4721, 'amplification': 250, 'baseline': 568, 'threshold': 6405, 'nclex': 4324, 'bsn': 853, 'repair': 5363, 'proproetor': 5080, 'nahata': 4285, 'indore': 3163, 'costing': 1423, 'dt': 1917, 'doodle': 1865, 'prevents': 5000, 'fatality': 2344, 'subscriber': 6149, 'worldquant': 7034, 'atelactasis': 432, 'lung': 3826, 'obstruct': 4483, 'tumor': 6586, 'ct': 1509, 'scan': 5604, 'poise': 4877, 'irrevocably': 3321, 'unlike': 6690, 'stewart': 6086, 'carl': 977, 'froch': 2567, 'andre': 268, 'prevail': 4996, 'chill': 1097, 'easter': 1964, 'banner': 553, 'signature': 5801, 'premonition': 4976, 'parapsychology': 4665, 'glad': 2688, 'fateful': 2345, 'whippet': 6965, 'nitrous': 4396, 'oxide': 4613, 'migeration': 4085, 'chlorophyll': 1104, 'photosynthesis': 4807, 'fry': 2575, 'plank': 4842, 'thick': 6390, 'emerges': 2057, 'retardation': 5418, 'distinction': 1817, 'sem': 5680, 'marksheet': 3931, 'abm': 11, 'dji': 1834, 'ronin': 5502, 'sony': 5939, 'metabones': 4053, 'tn': 6446, 'micheal': 4072, 'periplaneta': 4763, 'americana': 240, 'wing': 6992, 'vestigial': 6801, 'glue': 2699, 'shyness': 5792, 'bit': 712, 'blogging': 739, 'accuracy': 50, 'inbreeding': 3132, 'opposite': 4542, 'hurley': 3017, 'bone': 765, 'stanch': 6048, 'paranoid': 4662, 'delusion': 1641, 'sensor': 5691, 'manufacturing': 3912, 'serving': 5714, 'fried': 2558, 'venture': 6788, 'exploration': 2275, 'greece': 2765, 'sewer': 5725, 'drawback': 1893, 'netlogon': 4349, 'kingsley': 3523, 'browne': 843, 'adress': 101, 'error': 2155, 'fb': 2356, 'saxophone': 5594, 'trumpet': 6569, 'alialshamsi': 189, 'monotonous': 4186, 'medico': 4004, 'progressive': 5058, 'historic': 2932, 'politically': 4890, 'incorrect': 3142, 'burma': 878, 'astronomer': 426, 'flexibility': 2454, 'joker': 3426, 'narikoravar': 4299, 'meat': 3993, 'tamils': 6292, 'outrage': 4590, 'superuser': 6197, 'custom': 1537, 'validators': 6753, 'airtel': 165, 'wallet': 6884, 'dronabinol': 1906, 'kapp': 3472, 'putsch': 5150, 'mould': 4224, 'stain': 6042, 'baking': 528, 'bake': 526, 'hearing': 2879, 'vertigo': 6798, 'brahma': 797, 'fonda': 2481, 'barron': 565, 'penalty': 4736, 'mmorpg': 4144, 'paving': 4710, 'slab': 5860, 'zoloft': 7106, 'backlog': 514, 'cgpa': 1040, 'dizzy': 1833, 'builder': 866, 'liquidation': 3733, 'homework': 2958, 'estuate': 2173, 'halide': 2821, 'nitrogen': 4395, 'customary': 1538, 'divorcing': 1832, 'sexually': 5729, 'occupy': 4487, 'vibe': 6805, 'mathematical': 3961, 'egypt': 2012, 'strongly': 6121, 'icai': 3047, 'parmigiana': 4674, 'relativism': 5334, 'threesome': 6404, 'jonah': 3427, 'goldberg': 2713, 'stitch': 6091, 'victorian': 6810, 'pair': 4639, 'maneuver': 3895, 'bottom': 784, 'belgium': 621, 'permittivity': 4768, 'dielectric': 1736, 'straight': 6103, 'oked': 4513, 'dnc': 1839, 'collusion': 1233, 'desperation': 1692, 'mandi': 3893, 'burb': 875, 'ramsay': 5212, 'aura': 466, 'grasp': 2758, 'impeach': 3110, 'impeachment': 3111, 'cultivar': 1519, 'gold': 2712, 'prefers': 4965, 'voodoo': 6868, 'cooked': 1391, 'blend': 729, 'smoothie': 5887, 'drinking': 1902, 'favor': 2353, 'pharmaceutical': 4784, 'profession': 5044, 'impunity': 3129, 'opioid': 4539, 'whilst': 6963, 'damodardas': 1563, 'orchestrate': 4558, 'assassination': 414, 'sympathy': 6259, 'poll': 4893, 'sodium': 5912, 'chopstick': 1112, 'initiation': 3196, 'declare': 1612, 'judaism': 3440, 'sabbath': 5538, 'transformer': 6512, 'extension': 2283, 'socket': 5911, 'adaptor': 77, 'grandparent': 2752, 'sudoku': 6164, 'puzzle': 5151, 'remotely': 5354, 'doesnt': 1848, 'fabric': 2300, 'spacetime': 5960, 'hence': 2902, 'prosecutor': 5083, 'plea': 4858, 'prodigal': 5037, 'danielle': 1568, 'kannada': 3469, 'duolingo': 1936, 'ryan': 5536, 'rohlinger': 5490, 'baseball': 567, 'photon': 4805, 'annex': 288, 'chromodynamics': 1119, 'surgical': 6215, 'oncology': 4520, 'calculus': 909, 'chicago': 1089, 'backlink': 513, 'coulomb': 1428, 'loyal': 3807, 'warming': 6898, 'continuous': 1371, 'planetary': 4841, 'rewarming': 5441, 'fergus': 2380, 'minnesota': 4114, 'facial': 2305, 'unattractive': 6641, 'wich': 6975, 'celebs': 1019, 'ennis': 2107, 'haywood': 2866, 'showdown': 5782, 'corrupt': 1417, 'nawaz': 4320, 'sharif': 5743, 'zardari': 7098, 'scalar': 5600, 'vector': 6771, 'creator': 1463, 'garfield': 2618, 'rivalry': 5469, 'calvin': 927, 'hobbes': 2938, 'register': 5315, 'aunty': 465, 'toch': 6448, 'as': 397, 'hip': 2928, 'thebest': 6381, 'sprout': 6015, 'emperor': 2069, 'texture': 6371, 'geronimo': 2664, 'apache': 317, 'tribe': 6546, 'occupation': 4486, 'devalue': 1708, 'ejacuate': 2018, 'masturbation': 3955, 'anap': 262, 'nth': 4446, 'tutorial': 6597, 'comptia': 1290, 'bundle': 871, 'eulogize': 2186, 'victimhood': 6809, 'oppressor': 4546, 'considerably': 1338, 'empathy': 2068, 'sunstop': 6188, 'aqagel': 353, 'ib': 3043, 'diagonal': 1724, 'cm': 1194, 'cus': 1535, 'classmate': 1155, 'carb': 963, 'radicalise': 5195, 'utah': 6743, 'snobby': 5894, 'selfish': 5676, 'reductionist': 5297, 'altruistic': 219, 'projectile': 5061, 'artillery': 393, 'shell': 5749, 'junk': 3453, 'ozone': 4618, 'instamix': 3222, 'concrete': 1304, 'salad': 5552, 'sim': 5814, 'verse': 6796, 'solipsism': 5922, 'christians': 1117, 'humankind': 3003, 'rod': 5485, 'caddy': 898, 'shaggy': 5733, 'stoner': 6097, 'undelete': 6650, 'properly': 5075, 'shock': 5764, 'pool': 4905, 'std': 6069, 'baf': 520, 'bbi': 584, 'bfm': 658, 'flop': 2460, 'jaane': 3357, 'bhi': 666, 'yaaron': 7069, 'satire': 5581, 'dispensation': 1809, 'effegies': 2004, 'meghan': 4016, 'markle': 3930, 'portray': 4922, 'wood': 7018, 'golfer': 2716, 'epiglottis': 2130, 'tongue': 6463, 'enzyme': 2126, 'immobilization': 3105, 'rigid': 5458, 'via': 6803, 'entanglement': 2111, 'carol': 978, 'ann': 285, 'duffy': 1924, 'hilly': 2924, 'primitive': 5009, 'nobody': 4400, 'islamist': 3333, 'rohit': 5489, 'nigam': 4379, 'dismal': 1806, 'aap': 2, 'overestimation': 4597, 'satisfy': 5584, 'bono': 766, 'distrust': 1824, 'catalunyan': 996, 'counterpart': 1434, 'euler': 2185, 'extent': 2284, 'catherine': 1005, 'aragon': 360, 'literal': 3744, 'hell': 2894, 'misleader': 4129, 'loudmouth': 3797, 'spatial': 5968, 'justice': 3458, 'humility': 3006, 'quiz': 5175, 'circulate': 1131, 'steward': 6085, 'snl': 5893, 'skit': 5858, 'vintage': 6824, 'tread': 6533, 'additional': 82, 'tit': 6442, 'spectre': 5983, 'meltdown': 4022, 'monkey': 4183, 'harshad': 2852, 'chopra': 1111, 'fourth': 2521, 'echoponic': 1976, 'dub': 1920, 'hulu': 2999, 'partnership': 4683, 'tennessee': 6351, 'spoil': 6005, 'prank': 4956, 'passion': 4689, 'ranjani': 5217, 'gayathri': 2626, 'vocalist': 6856, 'lancaster': 3593, 'kent': 3495, 'sussex': 6227, 'essex': 2168, 'adviser': 115, 'commute': 1267, 'zara': 7097, 'doorstep': 1870, 'sheriff': 5751, 'woodson': 7021, 'adultness': 104, 'mate': 3958, 'fairy': 2318, 'kentucky': 3496, 'medicaid': 3999, 'refundable': 5307, 'sicily': 5794, 'saracen': 5572, 'norman': 4417, 'scandinavia': 5605, 'raspy': 5226, 'xie': 7059, 'gratuity': 2759, 'geology': 2652, 'mint': 4118, 'gluten': 2700, 'donut': 1864, 'emission': 2061, 'liquiir': 3736, 'nine': 4388, 'tail': 6277, 'strain': 6104, 'jupiter': 3454, 'swati': 6238, 'nakshatra': 4287, 'rahu': 5202, 'vishakha': 6837, 'libra': 3692, 'ascendant': 398, 'jain': 3366, 'temple': 6347, 'narrow': 4300, 'chuck': 1122, 'garlic': 2621, 'unlimited': 6691, 'curb': 1525, 'idiom': 3066, 'phrasal': 4810, 'ielts': 3069, 'isabelle': 3325, 'kavalireddi': 3478, 'shankara': 5741, 'dip': 1770, 'subclass': 6139, 'haskell': 2859, 'hybridization': 3023, 'enlightenment': 2106, 'walker': 6882, 'oppose': 4541, 'craster': 1454, 'infant': 3171, 'lipid': 3730, 'enfield': 2092, 'illuminati': 3090, 'pgi': 4783, 'jipmer': 3410, 'kem': 3492, 'mamc': 3882, 'sobriety': 5900, 'duo': 1935, 'indicator': 3154, 'clrs': 1189, 'sacral': 5541, 'chakra': 1048, 'imbalance': 3098, 'decipline': 1610, 'few': 2391, 'halloween': 2822, 'suspender': 6224, 'prematurely': 4971, 'personnel': 4775, 'languish': 3600, 'norden': 4413, 'literally': 3745, 'donate': 1861, 'cmc': 1197, 'dmc': 1836, 'shemale': 5750, 'windows': 6990, 'erasmus': 2146, 'recreational': 5286, 'zombie': 7107, 'majority': 3875, 'clue': 1191, 'cb': 1009, 'capture': 960, 'prior': 5016, 'crowdfunding': 1491, 'blogger': 738, 'bsee': 852, 'offering': 4500, 'claustrum': 1157, 'reveller': 5427, 'pre': 4958, 'doctorate': 1844, 'expences': 2264, 'dime': 1760, 'memristors': 4030, 'shrink': 5785, 'gimng': 2678, 'stamp': 6046, 'deadline': 1588, 'routine': 5516, 'phobia': 4797, 'capacitance': 951, 'jan': 3374, 'freestyle': 2544, 'skiing': 5851, 'sinarest': 5825, 'dosage': 1871, 'marrow': 3935, 'holy': 2949, 'confederation': 1313, 'coincide': 1219, 'sweating': 6241, 'selma': 5679, 'alabama': 172, 'millenia': 4096, 'videoing': 6814, 'extended': 2282, 'ejectulate': 2021, 'acpi': 60, 'virtualbox': 6833, 'intensively': 3244, 'dealer': 1591, 'nirbhaya': 4392, 'glucoze': 2698, 'login': 3774, 'suspicious': 6226, 'patna': 4702, 'chaos': 1059, 'unexpected': 6672, 'installed': 3221, 'restriction': 5409, 'sharma': 5745, 'tollywood': 6457, 'joining': 3422, 'ihm': 3078, 'koine': 3547, 'greek': 2767, 'discounted': 1792, 'starbucks': 6054, 'poilt': 4875, 'fau': 2351, 'erlangen': 2151, 'garbage': 2616, 'museum': 4262, 'andrew': 269, 'breakdown': 813, 'ugandan': 6628, 'knuckle': 3544, 'stanley': 6052, 'kubrick': 3564, 'aside': 403, 'landing': 3596, 'walnut': 6888, 'harvest': 2855, 'pumpkin': 5123, 'proactive': 5025, 'harassment': 2844, 'mmorpgs': 4145, 'preferably': 4964, 'reiser': 5326, 'comedian': 1249, 'twitch': 6603, 'whatapp': 6948, 'unavailable': 6642, 'multi': 4246, 'fair': 2317, 'econometrics': 1980, 'hedge': 2889, 'beatles': 596, 'fucker': 2578, 'shut': 5789, 'hazel': 2867, 'fleet': 2453, 'cargo': 974, 'epigram': 2131, 'spec': 5973, 'wsyx': 7054, 'streptococcus': 6115, 'criticism': 1480, 'sumup': 6182, 'izettle': 3356, 'zinc': 7102, 'underlie': 6657, 'depressing': 1672, 'athens': 434, 'mahadasha': 3858, 'scorpio': 5631, 'suicidal': 6172, 'agony': 145, 'helen': 2892, 'delich': 1638, 'biosystem': 700, 'distributed': 1820, 'blast': 725, 'ancalagon': 263, 'celebrate': 1017, 'saint': 5550, 'patrick': 4704, 'auaurangzeb': 453, 'downfall': 1876, 'mogul': 4162, 'besic': 647, 'neutralize': 4358, 'relieve': 5340, 'calculates': 907, 'shipping': 5759, 'council': 1429, 'linkebeek': 3725, 'openccc': 4533, 'mlm': 4143, 'awkward': 495, 'hunchback': 3011, 'articulate': 391, 'dualism': 1919, 'bored': 776, 'expansion': 2259, 'valve': 6757, 'photoelectric': 4802, 'photovoltaic': 4808, 'mca': 3981, 'sean': 5651, 'spicer': 5994, 'gaggle': 2603, 'originally': 4573, 'eliot': 2044, 'shelf': 5748, 'hyperactive': 3032, 'needy': 4332, 'sub': 6137, 'kilometre': 3517, 'minute': 4120, 'ukash': 6631, 'voucher': 6871, 'tomato': 6458, 'hairline': 2816, 'zahra': 7094, 'invention': 3282, 'mechanic': 3994, 'igidr': 3072, 'meral': 4038, 'aksener': 169, 'lazy': 3630, 'accidental': 40, 'wp': 7041, 'parallax': 4659, 'canara': 941, 'refractory': 5303, 'farce': 2335, 'mri': 4233, 'muoet': 4255, 'lever': 3682, 'distribution': 1821, 'podcast': 4869, 'registration': 5316, 'charles': 1067, 'darwin': 1571, 'deceit': 1606, 'selling': 5678, 'honest': 2965, 'consumerist': 1360, 'associate': 421, 'easyazon': 1968, 'photoshop': 4806, 'logout': 3776, 'icbm': 3048, 'detection': 1699, 'chelyabinsk': 1079, 'meteor': 4057, 'perfection': 4752, 'cassini': 988, 'finale': 2418, 'bonus': 768, 'resigns': 5394, 'hormonal': 2973, 'fertility': 2384, 'doi': 1851, 'minded': 4104, 'dse': 1915, 'eq': 2135, 'conform': 1319, 'shisui': 5761, 'shinobi': 5757, 'surfactant': 6210, 'saturation': 5586, 'kinship': 3525, 'bonobo': 767, 'recoil': 5276, 'magnum': 3855, 'liturgical': 3753, 'prohibition': 5059, 'applicant': 335, 'enforce': 2093, 'yogi': 7083, 'adityanath': 88, 'demonise': 1650, 'pentatonix': 4744, 'videographer': 6813, 'kurd': 3566, 'homeland': 2951, 'mongolia': 4177, 'deportation': 1668, 'turks': 6593, 'reproduction': 5376, 'alongside': 210, 'desiigner': 1686, 'authorized': 476, 'dennison': 1653, 'cheque': 1084, 'bupropion': 874, 'tonight': 6464, 'imply': 3117, 'oops': 4529, 'kotak': 3558, 'asymptotic': 430, 'decay': 1603, 'cryptocurrency': 1502, 'mankind': 3904, 'beneficiary': 635, 'bds': 589, 'ur': 6721, 'redmond': 5294, 'integration': 3237, 'complicate': 1284, 'github': 2685, 'commercial': 1257, 'fundal': 2589, 'carbonate': 966, 'sulphate': 6177, 'shallow': 5738, 'highschool': 2919, 'confident': 1316, 'fundamentalism': 2591, 'irrevalant': 3320, 'lonely': 3781, 'unethical': 6671, 'arvind': 395, 'jason': 3379, 'malachi': 3878, 'simsree': 5823, 'albanians': 178, 'persuasive': 4776, 'dehydration': 1631, 'slur': 5876, 'obligated': 4475, 'sayyid': 5596, 'qutb': 5184, 'drama': 1888, 'scare': 5608, 'manav': 3889, 'rachna': 5187, 'swimming': 6248, 'birmingham': 708, 'allah': 197, 'ayesha': 497, 'bride': 825, 'fatherland': 2348, 'tensorflow': 6355, 'ahmad': 149, 'jamal': 3371, 'obedient': 4470, 'studious': 6129, 'nerd': 4344, 'alpha': 211, 'endow': 2087, 'syracuse': 6268, 'ny': 4461, 'belly': 628, 'whey': 6962, 'protein': 5090, 'phenomena': 4789, 'hangover': 2837, 'inventory': 3284, 'turnover': 6595, 'noticeable': 4434, 'hub': 2996, 'notable': 4429, 'mahasweta': 3861, 'devi': 1714, 'sarcosuchus': 5575, 'mawsonia': 3972, 'estuarine': 2172, 'langer': 3598, 'tipper': 6435, 'specialized': 5977, 'gallery': 2608, 'efficient': 2006, 'affordable': 130, 'transport': 6526, 'definition': 1627, 'dada': 1555, 'subliminal': 6145, 'audios': 460, 'synchronize': 6263, 'selection': 5673, 'catalyst': 997, 'cataclysmic': 995, 'oxygenation': 4616, 'triple': 6554, 'flip': 2456, 'voluntary': 6864, 'nystagmus': 4462, 'climbing': 1171, 'paid': 4631, 'coach': 1200, 'upfront': 6708, 'naturally': 4314, 'yellowist': 7075, 'getaway': 2667, 'montreal': 4193, 'ski': 5850, 'mexican': 4065, 'cambodia': 929, 'southeast': 5950, 'discrimination': 1796, 'cyclone': 1549, 'kedar': 3483, 'jadhav': 3364, 'batting': 579, 'expose': 2279, 'up': 6705, 'elbow': 2024, 'backwards': 516, 'servicenow': 5713, 'orchestration': 4559, 'diagram': 1725, 'hook': 2971, 'bristle': 829, 'escalator': 2157, 'celtic': 1024, 'uninhabitable': 6677, 'successfully': 6158, 'celestial': 1020, 'handmaiden': 2834, 'nomination': 4406, 'organ': 4564, 'witch': 7003, 'validation': 6752, 'commuter': 1268, 'transit': 6517, 'zelda': 7100, 'fart': 2339, 'statute': 6067, 'championship': 1053, 'mlb': 4141, 'directv': 1779, 'inning': 3204, 'downside': 1880, 'extend': 2281, 'upto': 6717, 'manageable': 3886, 'borivali': 779, 'compulsory': 1291, 'bifocal': 678, 'tribal': 6545, 'designing': 1685, 'victorious': 6811, 'magoosh': 3857, 'valid': 6751, 'complaint': 1278, 'ctc': 1510, 'adjust': 89, 'allowance': 203, 'iqos': 3310, 'heets': 2890, 'sailkot': 5549, 'melhus': 4020, 'norway': 4424, 'psychopaths': 5112, 'moderator': 4155, 'preferable': 4963, 'mute': 4269, 'tragic': 6501, 'pock': 4867, 'sorry': 5943, 'pupose': 5133, 'barnsley': 562, 'fern': 2381, 'sociopath': 5910, 'eyelash': 2297, 'beethoven': 608, 'fulfil': 2581, 'masterpiece': 3953, 'filch': 2409, 'norris': 4419, 'baccarat': 506, 'bisexual': 711, 'lyndon': 3834, 'liar': 3689, 'interaction': 3248, 'cohen': 1216, 'peddling': 4734, 'soap': 5899, 'smelt': 5881, 'caloric': 923, 'gor': 2725, 'restore': 5407, 'pan': 4647, 'node': 4401, 'neural': 4353, 'masaru': 3942, 'gotsubo': 2734, 'kadokawa': 3464, 'shoten': 5776, 'lumia': 3822, 'prevention': 4999, 'hotline': 2983, 'om': 4517, 'puri': 5138, 'decaffeinate': 1602, 'afterlife': 135, 'utilities': 6744, 'folder': 2474, 'trigonometric': 6549, 'bod': 752, 'presence': 4982, 'casket': 987, 'guilt': 2790, 'prosecute': 5082, 'marrige': 3934, 'evocative': 2214, 'dawn': 1580, 'snow': 5896, 'dilemma': 1757}\n"
     ]
    }
   ],
   "source": [
    "# You can use the below syntax to see the vocabulary that \n",
    "# it has learned from the corpus\n",
    "print(Tfidf_vect.vocabulary_)"
   ]
  },
  {
   "cell_type": "code",
   "execution_count": 39,
   "metadata": {
    "collapsed": false
   },
   "outputs": [
    {
     "name": "stdout",
     "output_type": "stream",
     "text": [
      "  (0, 5665)\t0.3281711824058195\n",
      "  (0, 5164)\t0.5012931486301462\n",
      "  (0, 5101)\t0.47766179429738254\n",
      "  (0, 4308)\t0.5012931486301462\n",
      "  (0, 4305)\t0.401936865166558\n",
      "  (1, 7040)\t0.20282830852815015\n",
      "  (1, 5768)\t0.3558584963239112\n",
      "  (1, 4745)\t0.19997885532814616\n",
      "  (1, 2083)\t0.3721527475790693\n",
      "  (1, 1849)\t0.3158251535614073\n",
      "  (1, 98)\t0.7443054951581386\n",
      "  (2, 6781)\t0.6867297404664393\n",
      "  (2, 6428)\t0.20633060025180985\n",
      "  (2, 5958)\t0.29292346738670877\n",
      "  (2, 2653)\t0.36035215498317585\n",
      "  (2, 125)\t0.5197808322858334\n",
      "  (3, 6867)\t0.4365810771898316\n",
      "  (3, 6733)\t0.2167598099252523\n",
      "  (3, 4583)\t0.4365810771898316\n",
      "  (3, 3848)\t0.4365810771898316\n",
      "  (3, 2900)\t0.4365810771898316\n",
      "  (3, 2786)\t0.4365810771898316\n",
      "  (4, 6613)\t0.3947169237981379\n",
      "  (4, 4225)\t0.40907616852708273\n",
      "  (4, 4192)\t0.4293143872897379\n",
      "  :\t:\n",
      "  (3996, 1860)\t0.24205258513426509\n",
      "  (3996, 1432)\t0.2552795283489984\n",
      "  (3996, 1065)\t0.2369052933684761\n",
      "  (3996, 447)\t0.2764220274658333\n",
      "  (3996, 93)\t0.24806146735013299\n",
      "  (3997, 3934)\t0.6520779871503227\n",
      "  (3997, 2681)\t0.3929703437200648\n",
      "  (3997, 2343)\t0.5300618918500324\n",
      "  (3997, 600)\t0.3733671094765609\n",
      "  (3998, 7074)\t0.19993478738772857\n",
      "  (3998, 5896)\t0.350963687181994\n",
      "  (3998, 4521)\t0.18934562427363144\n",
      "  (3998, 4289)\t0.47314926492228654\n",
      "  (3998, 3913)\t0.2036228424175436\n",
      "  (3998, 2878)\t0.28959091726769587\n",
      "  (3998, 2374)\t0.27458617856821926\n",
      "  (3998, 2214)\t0.350963687181994\n",
      "  (3998, 2201)\t0.2082912724954741\n",
      "  (3998, 1580)\t0.350963687181994\n",
      "  (3998, 144)\t0.2943969672506556\n",
      "  (3999, 5168)\t0.33837117871922157\n",
      "  (3999, 4199)\t0.4615276013907594\n",
      "  (3999, 3251)\t0.4378638160327073\n",
      "  (3999, 2178)\t0.4783173242984146\n",
      "  (3999, 1757)\t0.5019811096564667\n"
     ]
    }
   ],
   "source": [
    "print(Train_X_Tfidf)\n",
    "\n",
    "# Output: \n",
    "# 1: Row number of ‘Train_X_Tfidf’, \n",
    "# 2: Unique Integer number of each word, \n",
    "# 3: Score calculated by TF-IDF Vectorizer"
   ]
  },
  {
   "cell_type": "code",
   "execution_count": 40,
   "metadata": {
    "collapsed": false
   },
   "outputs": [
    {
     "name": "stdout",
     "output_type": "stream",
     "text": [
      "  (0, 7017)\t0.27183333663829756\n",
      "  (0, 6919)\t0.4277764676590732\n",
      "  (0, 5521)\t0.4076107476405697\n",
      "  (0, 4948)\t0.31083132454765633\n",
      "  (0, 3913)\t0.2481882412493237\n",
      "  (0, 3751)\t0.37313722157070583\n",
      "  (0, 2666)\t0.19114376765293578\n",
      "  (0, 712)\t0.4277764676590732\n",
      "  (0, 600)\t0.2449364437679479\n",
      "  (1, 6203)\t0.27422378417615806\n",
      "  (1, 5410)\t0.524434464762064\n",
      "  (1, 2098)\t0.43649973899072764\n",
      "  (1, 1250)\t0.3069203663432807\n",
      "  (1, 1230)\t0.40370417303484496\n",
      "  (1, 337)\t0.44951153001988753\n",
      "  (2, 5253)\t0.8017310909860902\n",
      "  (2, 3710)\t0.5976849151068258\n",
      "  (3, 2120)\t1.0\n",
      "  (4, 5253)\t0.39892114494379227\n",
      "  (4, 4745)\t0.28846324213551905\n",
      "  (4, 4439)\t0.6008253113827655\n",
      "  (4, 3876)\t0.3071105128863384\n",
      "  (4, 2720)\t0.3011193532343851\n",
      "  (4, 1996)\t0.4600761798198179\n",
      "  (5, 6502)\t0.5470176755376643\n",
      "  :\t:\n",
      "  (395, 3120)\t0.42879073327786527\n",
      "  (396, 7040)\t0.3054508500196642\n",
      "  (396, 5229)\t0.5098960291205983\n",
      "  (396, 4726)\t0.5767198395954968\n",
      "  (396, 2540)\t0.5604462903135813\n",
      "  (397, 6723)\t0.6776595948940005\n",
      "  (397, 5969)\t0.256913244724107\n",
      "  (397, 4745)\t0.16267613905735756\n",
      "  (397, 3817)\t0.33882979744700026\n",
      "  (397, 3710)\t0.1677119474256829\n",
      "  (397, 2594)\t0.29555157602895576\n",
      "  (397, 2423)\t0.19605419680084832\n",
      "  (397, 668)\t0.33882979744700026\n",
      "  (397, 545)\t0.2545250265752478\n",
      "  (398, 4889)\t0.40338392779817567\n",
      "  (398, 3543)\t0.5095265717476859\n",
      "  (398, 1953)\t0.41418453603798516\n",
      "  (398, 985)\t0.3827504699764793\n",
      "  (398, 414)\t0.5095265717476859\n",
      "  (399, 6606)\t0.34610239582663566\n",
      "  (399, 5228)\t0.3879148683372142\n",
      "  (399, 3094)\t0.4186202128330794\n",
      "  (399, 2917)\t0.33384801382760504\n",
      "  (399, 553)\t0.48998712981124776\n",
      "  (399, 73)\t0.4505001889192397\n"
     ]
    }
   ],
   "source": [
    "print(Test_X_Tfidf)"
   ]
  },
  {
   "cell_type": "markdown",
   "metadata": {},
   "source": [
    "Data Pre-processing is over !!\n",
    "---\n",
    "\n",
    "Use ML Algorithms to Predict the outcome\n",
    "---"
   ]
  },
  {
   "cell_type": "code",
   "execution_count": 41,
   "metadata": {
    "collapsed": false
   },
   "outputs": [
    {
     "name": "stdout",
     "output_type": "stream",
     "text": [
      "[0 0 0 0 0 0 0 0 0 0 0 0 0 0 0 0 0 0 0 0 0 0 0 0 0 0 0 0 0 0 0 0 0 0 0 0 0\n",
      " 0 0 0 0 0 0 0 0 0 0 0 0 0 0 0 0 0 0 0 0 0 0 0 0 0 0 0 0 0 0 0 0 0 0 0 0 0\n",
      " 0 0 0 0 0 0 0 0 0 0 0 0 0 0 0 0 0 0 0 0 0 0 0 0 0 0 0 0 0 0 0 0 0 0 0 0 0\n",
      " 0 0 0 0 0 0 0 0 0 0 0 0 0 0 0 0 0 0 0 0 0 0 0 0 0 0 0 0 0 0 0 0 0 0 0 0 0\n",
      " 0 0 0 0 0 0 0 0 0 0 0 0 0 0 0 0 0 0 0 0 0 0 0 0 0 0 0 0 0 0 0 0 0 0 0 0 0\n",
      " 0 0 0 0 0 0 0 0 0 0 0 0 0 0 0 0 0 0 0 0 0 0 0 0 0 0 0 0 0 0 0 0 0 0 0 0 0\n",
      " 0 0 0 0 0 0 0 0 0 0 0 0 0 0 0 0 0 0 0 0 0 0 0 0 0 0 0 0 0 0 0 0 0 0 0 0 0\n",
      " 0 0 0 0 0 0 0 0 0 0 0 0 0 0 0 0 0 0 0 0 0 0 0 0 0 0 0 0 0 0 0 0 0 0 0 0 0\n",
      " 0 0 0 0 0 0 0 0 0 0 0 0 0 0 0 0 0 0 0 0 0 0 0 0 0 0 0 0 0 0 0 0 0 0 0 0 0\n",
      " 0 0 0 0 0 0 0 0 0 0 0 0 0 0 0 0 0 0 0 0 0 0 0 0 0 0 0 0 0 0 0 0 0 0 0 0 0\n",
      " 0 0 0 0 0 0 0 0 0 0 0 0 0 0 0 0 0 0 0 0 0 0 0 0 0 0 0 0 0 0]\n"
     ]
    }
   ],
   "source": [
    "# fit the training dataset on the NB classifier\n",
    "Naive = naive_bayes.MultinomialNB()\n",
    "train_Y = train[\"target\"]\n",
    "\n",
    "Naive.fit(Train_X_Tfidf,train_Y)\n",
    "\n",
    "# predict the labels on validation dataset\n",
    "predictions_NB = Naive.predict(Test_X_Tfidf)\n",
    "\n",
    "print(predictions_NB)"
   ]
  },
  {
   "cell_type": "code",
   "execution_count": 42,
   "metadata": {
    "collapsed": false
   },
   "outputs": [
    {
     "name": "stdout",
     "output_type": "stream",
     "text": [
      "[0 0 0 0 0 0 0 0 0 0 0 0 0 0 0 0 0 0 0 0 0 0 0 0 0 0 0 0 0 0 0 0 0 0 0 0 0\n",
      " 0 0 0 0 0 0 0 0 0 0 0 0 0 0 0 0 0 0 0 0 0 0 0 0 0 0 0 0 0 0 0 0 0 0 0 0 0\n",
      " 0 0 0 0 0 0 0 0 0 0 0 0 0 0 0 0 0 0 0 0 0 0 0 0 0 1 0 0 0 0 0 0 0 0 0 0 0\n",
      " 0 0 0 0 0 0 0 0 0 0 0 0 0 0 0 0 0 0 0 0 0 0 0 0 0 0 0 0 0 0 0 0 0 0 0 0 0\n",
      " 0 0 0 0 0 0 0 0 0 0 0 0 0 0 0 0 0 0 0 0 0 0 0 0 0 0 0 0 0 0 0 0 0 0 0 0 0\n",
      " 0 0 0 0 0 0 0 0 0 0 0 0 0 0 0 0 0 0 0 0 0 0 0 0 0 0 0 0 0 0 0 0 0 0 0 0 0\n",
      " 0 0 0 0 0 0 0 0 0 0 0 0 0 0 0 0 0 0 0 0 0 0 0 0 0 0 0 0 0 0 0 0 0 0 0 0 0\n",
      " 0 0 0 0 0 0 0 0 0 0 0 0 0 0 1 0 0 0 0 0 0 0 0 0 0 0 0 0 0 0 0 0 0 0 0 1 0\n",
      " 0 0 0 0 0 0 0 0 0 0 0 0 0 0 0 0 0 0 0 0 0 0 0 0 0 0 0 0 0 0 0 0 0 0 0 0 0\n",
      " 0 0 0 0 0 0 0 0 0 0 0 0 0 0 0 0 0 0 0 0 0 0 0 0 0 1 0 0 0 0 0 0 0 0 0 0 0\n",
      " 0 0 0 0 0 0 0 0 0 0 0 0 0 0 0 0 0 0 0 0 0 0 0 0 0 0 0 0 0 0]\n"
     ]
    }
   ],
   "source": [
    "# Classifier - Algorithm - SVM\n",
    "# fit the training dataset on the classifier\n",
    "SVM = svm.SVC(C=1.0, kernel='linear', degree=3, gamma='auto')\n",
    "\n",
    "SVM.fit(Train_X_Tfidf,train['target'])\n",
    "\n",
    "# predict the labels on validation dataset\n",
    "predictions_SVM = SVM.predict(Test_X_Tfidf)\n",
    "\n",
    "print(predictions_SVM)"
   ]
  },
  {
   "cell_type": "code",
   "execution_count": null,
   "metadata": {
    "collapsed": true
   },
   "outputs": [],
   "source": []
  }
 ],
 "metadata": {
  "kernelspec": {
   "display_name": "Python [default]",
   "language": "python",
   "name": "python3"
  },
  "language_info": {
   "codemirror_mode": {
    "name": "ipython",
    "version": 3
   },
   "file_extension": ".py",
   "mimetype": "text/x-python",
   "name": "python",
   "nbconvert_exporter": "python",
   "pygments_lexer": "ipython3",
   "version": "3.5.2"
  }
 },
 "nbformat": 4,
 "nbformat_minor": 2
}
